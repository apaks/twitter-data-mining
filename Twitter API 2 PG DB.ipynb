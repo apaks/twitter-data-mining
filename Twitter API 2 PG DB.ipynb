{
 "cells": [
  {
   "cell_type": "markdown",
   "metadata": {},
   "source": [
    "# Connect to API"
   ]
  },
  {
   "cell_type": "markdown",
   "metadata": {},
   "source": [
    "from https://www.analyticsvidhya.com/blog/2020/08/analysing-streaming-tweets-with-python-and-postgresql/"
   ]
  },
  {
   "cell_type": "code",
   "execution_count": 11,
   "metadata": {},
   "outputs": [],
   "source": [
    "import pandas as pd\n",
    "import numpy as np\n",
    "import matplotlib.pyplot as plt\n",
    "import tweepy\n",
    "import json \n",
    "import datetime\n",
    "import time\n",
    "import seaborn as sns\n",
    "\n",
    "import psycopg2\n",
    "%load_ext autoreload\n",
    "%autoreload 2"
   ]
  },
  {
   "cell_type": "code",
   "execution_count": 5,
   "metadata": {},
   "outputs": [],
   "source": [
    "from auth_pg import *\n",
    "from auth_ap import *"
   ]
  },
  {
   "cell_type": "code",
   "execution_count": 6,
   "metadata": {},
   "outputs": [],
   "source": [
    "# Creating the authentication object\n",
    "auth = tweepy.OAuthHandler(consumer_key, consumer_secret)\n",
    "# Setting your access token and secret\n",
    "auth.set_access_token(access_token, access_token_secret)\n",
    "# Creating the API object while passing in auth information\n",
    "api = tweepy.API(auth) "
   ]
  },
  {
   "cell_type": "code",
   "execution_count": 7,
   "metadata": {},
   "outputs": [
    {
     "name": "stdout",
     "output_type": "stream",
     "text": [
      "What's your Tilted Taxis strategy? 🚕\n",
      "The United States of America will NOT be cutting funding to @starsandstripes magazine under my watch. It will conti… https://t.co/r4D5itmn1Y\n",
      "Before you die you will on average walk 110,000 miles and the earth is 25,000 miles at the equator. So you could ha… https://t.co/GqEOtNZMWj\n",
      "THANK YOU! #MAGA https://t.co/1vMZMmm6KZ\n",
      "We didn’t just bring back the pretzel bun, we brought you the Pretzel Bacon Pub Cheeseburger. And now Postmates wil… https://t.co/Ka1DVyAELq\n",
      "A GREAT HONOR, THANK YOU! https://t.co/SYM0wk5cqn\n",
      "https://t.co/bA09LqxT15\n",
      "https://t.co/Pk5mnHHll6\n",
      "Another great day for peace with Middle East – Muslim-majority Kosovo and Israel have agreed to normalize ties and… https://t.co/cm0JuEHhV2\n",
      "Congratulations to @predsednikrs Vucic for announcing the move of Serbia’s Embassy to Jerusalem by July. It is a brave and historic move!\n",
      "https://t.co/EtEMZ4rYXs\n",
      "...to bringing prosperity and peace to the Balkans and the world. I am proud to have assisted these leaders!\n",
      "Another day everyone thought would be impossible! Congratulations to @predsednikrs Vucic of Serbia and PM @Avdullah… https://t.co/himXsBXoQ0\n",
      "There are now more fish on the Island 🎣\n",
      "\n",
      "Check out some tips on how to fill your Collection Book and rise above you… https://t.co/Rih6IEmNo6\n",
      ".@T_Inglesby &amp; @naorbz comment on the study's strengths + limitations. “Demonstrating safety will be crucial,” they… https://t.co/Ob9OuSezxJ\n",
      "New editorial out now in the @TheLancet by @T_Inglesby, our dir, &amp; @naorbz, Deputy Dir of @IVACtweets, on the preli… https://t.co/cvhpfbMYsf\n",
      "The Atlantic Magazine is dying, like most magazines, so they make up a fake story in order to gain some relevance.… https://t.co/W9SVwrsVdn\n",
      "Timelapse of the Russian Progress MS-10 cargo spacecraft launched on 16 November 2018 at 18:14 GMT from Baikonur co… https://t.co/qwgJmSR5Nb\n",
      "This is what a rocket launch looks like from space. 🚀 https://t.co/SYs82pi5nZ\n",
      "Great Jobs Numbers! 1.37 Million Jobs Added In August. Unemployment Rate Falls To 8.4% (Wow, much better than expec… https://t.co/P4PLCzsSJf\n"
     ]
    }
   ],
   "source": [
    "# Using the API object to get tweets from your timeline, and storing it in a variable called public_tweets\n",
    "public_tweets = api.home_timeline()\n",
    "# foreach through all tweets pulled\n",
    "for tweet in public_tweets:\n",
    "   # printing the text stored inside the tweet object\n",
    "   print (tweet.text)"
   ]
  },
  {
   "cell_type": "code",
   "execution_count": 68,
   "metadata": {},
   "outputs": [],
   "source": [
    "class MyStreamListener(tweepy.StreamListener):\n",
    "    \n",
    "    def __init__(self, time_limit= 30):\n",
    "        self.start_time = time.time()\n",
    "        self.limit = time_limit\n",
    "        super(MyStreamListener, self).__init__()\n",
    "    \n",
    "    def on_connect(self):\n",
    "        print(\"Connected to Twitter API.\")\n",
    "        \n",
    "    def on_status(self, status):\n",
    "        \n",
    "        # User info\n",
    "        user_id = status.user.id\n",
    "        username = status.user.name\n",
    "        followers_count = status.user.followers_count\n",
    "        friends_count = status.user.friends_count\n",
    "        \n",
    "        user_info = (user_id, username, followers_count, friends_count)\n",
    "        \n",
    "        # tweet info\n",
    "        tweet_id = status.id\n",
    "        created_at = status.created_at\n",
    "        favorite_count = status.favorite_count\n",
    "        source_device = status.source\n",
    "         \n",
    "        # Retweet count\n",
    "        retweet_count = status.retweet_count\n",
    "        # Language\n",
    "        lang = status.lang\n",
    "        \n",
    "        # Tweet\n",
    "        if status.truncated == True:\n",
    "            tweet = status.extended_tweet['full_text']\n",
    "            hashtags = status.extended_tweet['entities']['hashtags']\n",
    "        else:\n",
    "            tweet = status.text\n",
    "            hashtags = status.entities['hashtags']\n",
    "        \n",
    "        tweet_info = (tweet_id, tweet, retweet_count, favorite_count, source_device, created_at)\n",
    "        # Read hastags\n",
    "        hashtags = read_hashtags(hashtags)   \n",
    "\n",
    "        # If tweet is not a retweet and tweet is in English\n",
    "        if not hasattr(status, \"retweeted_status\") and lang==\"en\":\n",
    "            # Connect to database\n",
    "            dbConnect(user_info, tweet_info, hashtags)\n",
    "            \n",
    "        if (time.time() - self.start_time) > self.limit:\n",
    "            \n",
    "            print(time.time(), self.start_time, self.limit)\n",
    "            return False\n",
    "            \n",
    "    def on_error(self, status_code):\n",
    "        if status_code == 420:\n",
    "            # Returning False in on_data disconnects the stream\n",
    "            return False"
   ]
  },
  {
   "cell_type": "code",
   "execution_count": 74,
   "metadata": {},
   "outputs": [],
   "source": [
    "# Insert Tweet data into database\n",
    "def dbConnect(user_info, tweet_info, hashtags):\n",
    "    user_id, username, followers_count, friends_count = user_info\n",
    "    tweet_id, tweet, retweet_count, favorite_count, source_device, created_at = tweet_info\n",
    "    \n",
    "    database = 'twitterDB'\n",
    "    # Connection to database server\n",
    "    conn = psycopg2.connect(host= host,\n",
    "                        database= database,\n",
    "                        port= port,\n",
    "                        user= user,\n",
    "                        password= password)\n",
    "    \n",
    "    cur = conn.cursor()\n",
    "\n",
    "    # insert user information\n",
    "    command = '''INSERT INTO TwitterUser (user_id, user_name, followers_count, friends_count) \n",
    "                VALUES (%s,%s,%s,%s) ON CONFLICT\n",
    "                 (User_Id) DO NOTHING;'''\n",
    "    cur.execute(command,(user_id, username, followers_count, friends_count))\n",
    "\n",
    "    # insert tweet information\n",
    "    command = '''INSERT INTO TwitterTweet (tweet_id, user_id, tweet, retweet_count, favourite_count, source_device, created_at) \n",
    "                VALUES (%s,%s,%s,%s,%s,%s,%s);'''\n",
    "    cur.execute(command,(tweet_id, user_id, tweet, retweet_count, favorite_count, source_device, created_at))\n",
    "    \n",
    "    # insert entity information\n",
    "    for i in range(len(hashtags)):\n",
    "        hashtag = hashtags[i]\n",
    "        command = '''INSERT INTO TwitterEntity (tweet_id, hashtag) VALUES (%s,%s);'''\n",
    "        cur.execute(command,(tweet_id, hashtag))\n",
    "    \n",
    "    # Commit changes\n",
    "    conn.commit()\n",
    "    \n",
    "    # Disconnect\n",
    "    cur.close()\n",
    "    conn.close()"
   ]
  },
  {
   "cell_type": "code",
   "execution_count": 63,
   "metadata": {},
   "outputs": [],
   "source": [
    "# Extract hashtags\n",
    "def read_hashtags(tag_list):\n",
    "    hashtags = []\n",
    "    for tag in tag_list:\n",
    "        hashtags.append(tag['text'])\n",
    "    return hashtags"
   ]
  },
  {
   "cell_type": "code",
   "execution_count": 77,
   "metadata": {},
   "outputs": [],
   "source": [
    "# Connecting to the Database\n",
    "def DbConnect(query):\n",
    "    \n",
    "    conn = psycopg2.connect(host= host,\n",
    "                        database= database,\n",
    "                        port= port,\n",
    "                        user= user,\n",
    "                        password= password)\n",
    "    curr = conn.cursor()\n",
    "    \n",
    "    curr.execute(query)\n",
    "    \n",
    "    rows = curr.fetchall()\n",
    "    curr.close()\n",
    "    conn.close()\n",
    "    return rows"
   ]
  },
  {
   "cell_type": "markdown",
   "metadata": {},
   "source": [
    "## Create table"
   ]
  },
  {
   "cell_type": "code",
   "execution_count": 53,
   "metadata": {},
   "outputs": [],
   "source": [
    "# Table creation\n",
    "commands = (# Table 1\n",
    "            '''Create Table TwitterUser(User_Id BIGINT PRIMARY KEY, \n",
    "                                        User_Name TEXT,\n",
    "                                        Description TEXT,\n",
    "                                        Followers_Count INT,\n",
    "                                        Friends_Count INT\n",
    "                                        );''',\n",
    "            # Table 2\n",
    "            '''Create Table TwitterTweet(Tweet_Id BIGINT PRIMARY KEY,\n",
    "                                         User_Id BIGINT,\n",
    "                                         Tweet TEXT,\n",
    "                                         Retweet_Count INT,\n",
    "                                         Favourite_Count INT,\n",
    "                                         Source_Device TEXT,\n",
    "                                         Created_At TEXT,\n",
    "                                         CONSTRAINT fk_user\n",
    "                                             FOREIGN KEY(User_Id)\n",
    "                                                 REFERENCES TwitterUser(User_Id));''',\n",
    "            # Table 3\n",
    "            '''Create Table TwitterEntity(Id SERIAL PRIMARY KEY,\n",
    "                                         Tweet_Id BIGINT,\n",
    "                                         Hashtag TEXT,\n",
    "                                         CONSTRAINT fk_user\n",
    "                                             FOREIGN KEY(Tweet_Id)\n",
    "                                                 REFERENCES TwitterTweet(Tweet_Id));''')"
   ]
  },
  {
   "cell_type": "code",
   "execution_count": 56,
   "metadata": {},
   "outputs": [],
   "source": [
    "# Connection to database server\n",
    "database = 'twitterDB'\n",
    "conn = psycopg2.connect(host= host,\n",
    "                        database= database,\n",
    "                        port= port,\n",
    "                        user= user,\n",
    "                        password= password)"
   ]
  },
  {
   "cell_type": "code",
   "execution_count": 57,
   "metadata": {},
   "outputs": [],
   "source": [
    "# Create cursor to execute SQL commands\n",
    "cur = conn.cursor()\n",
    "\n",
    "# Execute SQL commands\n",
    "for command in commands:\n",
    "    # Create tables\n",
    "    cur.execute(command)\n",
    "\n",
    "# Close communication with server\n",
    "conn.commit()\n",
    "cur.close()\n",
    "conn.close()"
   ]
  },
  {
   "cell_type": "markdown",
   "metadata": {},
   "source": [
    "## Obtain tweets"
   ]
  },
  {
   "cell_type": "code",
   "execution_count": 75,
   "metadata": {},
   "outputs": [
    {
     "name": "stdout",
     "output_type": "stream",
     "text": [
      "Connected to Twitter API.\n",
      "1599262779.4033823 1599262748.0481124 30\n"
     ]
    }
   ],
   "source": [
    "# Streaming tweets\n",
    "myStreamListener = MyStreamListener()\n",
    "myStream = tweepy.Stream(auth=api.auth, listener=myStreamListener,\n",
    "                        tweet_mode=\"extended\")\n",
    "\n",
    "myStream.filter(track=['#covid'])"
   ]
  },
  {
   "cell_type": "code",
   "execution_count": 38,
   "metadata": {},
   "outputs": [
    {
     "data": {
      "text/html": [
       "<div>\n",
       "<style scoped>\n",
       "    .dataframe tbody tr th:only-of-type {\n",
       "        vertical-align: middle;\n",
       "    }\n",
       "\n",
       "    .dataframe tbody tr th {\n",
       "        vertical-align: top;\n",
       "    }\n",
       "\n",
       "    .dataframe thead th {\n",
       "        text-align: right;\n",
       "    }\n",
       "</style>\n",
       "<table border=\"1\" class=\"dataframe\">\n",
       "  <thead>\n",
       "    <tr style=\"text-align: right;\">\n",
       "      <th></th>\n",
       "      <th>User_Id</th>\n",
       "      <th>Tweet_Id</th>\n",
       "      <th>Clean_Tweet</th>\n",
       "    </tr>\n",
       "  </thead>\n",
       "  <tbody>\n",
       "    <tr>\n",
       "      <th>0</th>\n",
       "      <td>3223007252</td>\n",
       "      <td>1301998394773303296</td>\n",
       "      <td>The Franchise is the first player to use the C...</td>\n",
       "    </tr>\n",
       "    <tr>\n",
       "      <th>1</th>\n",
       "      <td>735671673064542209</td>\n",
       "      <td>1301998395486277635</td>\n",
       "      <td>@vasilionaire Maybe a month for covid?</td>\n",
       "    </tr>\n",
       "    <tr>\n",
       "      <th>2</th>\n",
       "      <td>1016711616296050690</td>\n",
       "      <td>1301998396316712962</td>\n",
       "      <td>@PeterAr18228396 And when, hopefully, many peo...</td>\n",
       "    </tr>\n",
       "    <tr>\n",
       "      <th>3</th>\n",
       "      <td>31062480</td>\n",
       "      <td>1301998399550623745</td>\n",
       "      <td>@ASlavitt My sis and brother in law both have ...</td>\n",
       "    </tr>\n",
       "    <tr>\n",
       "      <th>4</th>\n",
       "      <td>18635333</td>\n",
       "      <td>1301998399663886336</td>\n",
       "      <td>From Purdue....I didn't look at the numbers so...</td>\n",
       "    </tr>\n",
       "  </tbody>\n",
       "</table>\n",
       "</div>"
      ],
      "text/plain": [
       "               User_Id             Tweet_Id  \\\n",
       "0           3223007252  1301998394773303296   \n",
       "1   735671673064542209  1301998395486277635   \n",
       "2  1016711616296050690  1301998396316712962   \n",
       "3             31062480  1301998399550623745   \n",
       "4             18635333  1301998399663886336   \n",
       "\n",
       "                                         Clean_Tweet  \n",
       "0  The Franchise is the first player to use the C...  \n",
       "1             @vasilionaire Maybe a month for covid?  \n",
       "2  @PeterAr18228396 And when, hopefully, many peo...  \n",
       "3  @ASlavitt My sis and brother in law both have ...  \n",
       "4  From Purdue....I didn't look at the numbers so...  "
      ]
     },
     "execution_count": 38,
     "metadata": {},
     "output_type": "execute_result"
    }
   ],
   "source": [
    "# Create \n",
    "data_tweet = DbConnect(\"SELECT User_Id, Tweet_Id, Tweet FROM TwitterTweet;\")\n",
    "\n",
    "df_tweet = pd.DataFrame(columns=['User_Id','Tweet_Id','Clean_Tweet'])\n",
    "\n",
    "for data in data_tweet:\n",
    "    index = len(df_tweet)\n",
    "    df_tweet.loc[index,'User_Id'] = data[0]\n",
    "    df_tweet.loc[index,'Tweet_Id'] = data[1]\n",
    "    df_tweet.loc[index,'Clean_Tweet'] = data[2]\n",
    "    \n",
    "df_tweet.head()"
   ]
  },
  {
   "cell_type": "code",
   "execution_count": 78,
   "metadata": {},
   "outputs": [],
   "source": [
    "data_tweet = DbConnect(\"SELECT * FROM TwitterUser;\")"
   ]
  },
  {
   "cell_type": "code",
   "execution_count": 79,
   "metadata": {},
   "outputs": [
    {
     "data": {
      "text/plain": [
       "[(537818953, 'Info Musket - News and Information', 10718, 8860),\n",
       " (1247195529710166016,\n",
       "  \"💯🌊You can't fix STUPID, but you can VOTE it out!\",\n",
       "  3498,\n",
       "  4718),\n",
       " (913049358882373632, 'Innovative Scott', 2416, 4697),\n",
       " (168425731, 'Agenparl', 6066, 2291),\n",
       " (822897086614093828, 'VeganLover28', 328, 29)]"
      ]
     },
     "execution_count": 79,
     "metadata": {},
     "output_type": "execute_result"
    }
   ],
   "source": [
    "data_tweet"
   ]
  },
  {
   "cell_type": "code",
   "execution_count": 80,
   "metadata": {},
   "outputs": [],
   "source": [
    "conn.close()"
   ]
  },
  {
   "cell_type": "code",
   "execution_count": null,
   "metadata": {},
   "outputs": [],
   "source": []
  },
  {
   "cell_type": "code",
   "execution_count": null,
   "metadata": {},
   "outputs": [],
   "source": []
  },
  {
   "cell_type": "code",
   "execution_count": null,
   "metadata": {},
   "outputs": [],
   "source": []
  }
 ],
 "metadata": {
  "kernelspec": {
   "display_name": "Python 3",
   "language": "python",
   "name": "python3"
  },
  "language_info": {
   "codemirror_mode": {
    "name": "ipython",
    "version": 3
   },
   "file_extension": ".py",
   "mimetype": "text/x-python",
   "name": "python",
   "nbconvert_exporter": "python",
   "pygments_lexer": "ipython3",
   "version": "3.6.8"
  }
 },
 "nbformat": 4,
 "nbformat_minor": 2
}
