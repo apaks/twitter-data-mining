{
 "cells": [
  {
   "cell_type": "code",
   "execution_count": 154,
   "id": "cosmetic-secretariat",
   "metadata": {},
   "outputs": [],
   "source": [
    "import snscrape.modules.twitter as sntwitter\n",
    "import pandas as pd\n",
    "import os\n",
    "import time\n",
    "import yfinance as yf"
   ]
  },
  {
   "cell_type": "code",
   "execution_count": 188,
   "id": "assisted-assist",
   "metadata": {},
   "outputs": [],
   "source": [
    "def get_source(source):\n",
    "    st_str = source.find(\">\") + 1\n",
    "    end_str = source.find(\"</a>\")\n",
    "    return source[st_str:end_str]"
   ]
  },
  {
   "cell_type": "markdown",
   "id": "junior-black",
   "metadata": {},
   "source": [
    "### Load tweets using API"
   ]
  },
  {
   "cell_type": "code",
   "execution_count": 189,
   "id": "pregnant-auckland",
   "metadata": {},
   "outputs": [
    {
     "data": {
      "text/plain": [
       "'CryptoNewswire'"
      ]
     },
     "execution_count": 189,
     "metadata": {},
     "output_type": "execute_result"
    }
   ],
   "source": [
    "\"ada crypto since:2021-03-10 until:2021-03-17 lang:en\""
   ]
  },
  {
   "cell_type": "code",
   "execution_count": 238,
   "id": "australian-arena",
   "metadata": {},
   "outputs": [
    {
     "data": {
      "text/html": [
       "<div>\n",
       "<style scoped>\n",
       "    .dataframe tbody tr th:only-of-type {\n",
       "        vertical-align: middle;\n",
       "    }\n",
       "\n",
       "    .dataframe tbody tr th {\n",
       "        vertical-align: top;\n",
       "    }\n",
       "\n",
       "    .dataframe thead th {\n",
       "        text-align: right;\n",
       "    }\n",
       "</style>\n",
       "<table border=\"1\" class=\"dataframe\">\n",
       "  <thead>\n",
       "    <tr style=\"text-align: right;\">\n",
       "      <th></th>\n",
       "      <th>created_at</th>\n",
       "      <th>id</th>\n",
       "      <th>text</th>\n",
       "      <th>replyCount</th>\n",
       "      <th>retweetCount</th>\n",
       "      <th>likeCount</th>\n",
       "      <th>quoteCount</th>\n",
       "      <th>source</th>\n",
       "      <th>tweet_url</th>\n",
       "      <th>user_id</th>\n",
       "      <th>user_bio</th>\n",
       "      <th>followers_count</th>\n",
       "      <th>friends_count</th>\n",
       "    </tr>\n",
       "  </thead>\n",
       "  <tbody>\n",
       "    <tr>\n",
       "      <th>0</th>\n",
       "      <td>2021-03-22 23:58:27+00:00</td>\n",
       "      <td>1374148501844660226</td>\n",
       "      <td>$COTI is about to become the largest and most ...</td>\n",
       "      <td>1</td>\n",
       "      <td>5</td>\n",
       "      <td>31</td>\n",
       "      <td>0</td>\n",
       "      <td>Twitter Web App</td>\n",
       "      <td>https://twitter.com/Aintsupposedto1/status/137...</td>\n",
       "      <td>915709205159477249</td>\n",
       "      <td>ENTJ - Crypto enthousiast. Politically not alw...</td>\n",
       "      <td>99</td>\n",
       "      <td>81</td>\n",
       "    </tr>\n",
       "    <tr>\n",
       "      <th>1</th>\n",
       "      <td>2021-03-22 23:57:00+00:00</td>\n",
       "      <td>1374148135220559872</td>\n",
       "      <td>Don't be a hater of crypto #altcoins #columbin...</td>\n",
       "      <td>0</td>\n",
       "      <td>0</td>\n",
       "      <td>1</td>\n",
       "      <td>0</td>\n",
       "      <td>Twitter for Android</td>\n",
       "      <td>https://twitter.com/trucker_crypto/status/1374...</td>\n",
       "      <td>1365634368086106112</td>\n",
       "      <td>follow and like will be updating info about cr...</td>\n",
       "      <td>10</td>\n",
       "      <td>1</td>\n",
       "    </tr>\n",
       "    <tr>\n",
       "      <th>2</th>\n",
       "      <td>2021-03-22 23:56:57+00:00</td>\n",
       "      <td>1374148124193751040</td>\n",
       "      <td>$ADA $ALGO $ALICE $ALPHA $ANKR $ATOM $AVAX $AX...</td>\n",
       "      <td>0</td>\n",
       "      <td>0</td>\n",
       "      <td>5</td>\n",
       "      <td>0</td>\n",
       "      <td>Twitter Web App</td>\n",
       "      <td>https://twitter.com/CryptoSeer2020/status/1374...</td>\n",
       "      <td>1359426862255079424</td>\n",
       "      <td></td>\n",
       "      <td>13</td>\n",
       "      <td>5</td>\n",
       "    </tr>\n",
       "    <tr>\n",
       "      <th>3</th>\n",
       "      <td>2021-03-22 23:55:39+00:00</td>\n",
       "      <td>1374147795918151682</td>\n",
       "      <td>Go have fun with crypto \\n#dogecoin #BAT #VeCh...</td>\n",
       "      <td>0</td>\n",
       "      <td>0</td>\n",
       "      <td>1</td>\n",
       "      <td>0</td>\n",
       "      <td>Twitter for Android</td>\n",
       "      <td>https://twitter.com/trucker_crypto/status/1374...</td>\n",
       "      <td>1365634368086106112</td>\n",
       "      <td>follow and like will be updating info about cr...</td>\n",
       "      <td>10</td>\n",
       "      <td>1</td>\n",
       "    </tr>\n",
       "    <tr>\n",
       "      <th>4</th>\n",
       "      <td>2021-03-22 23:54:53+00:00</td>\n",
       "      <td>1374147602661380101</td>\n",
       "      <td>Stop avoiding crypto \\n#dogecoin #BAT #VeChain...</td>\n",
       "      <td>0</td>\n",
       "      <td>1</td>\n",
       "      <td>1</td>\n",
       "      <td>0</td>\n",
       "      <td>Twitter for Android</td>\n",
       "      <td>https://twitter.com/trucker_crypto/status/1374...</td>\n",
       "      <td>1365634368086106112</td>\n",
       "      <td>follow and like will be updating info about cr...</td>\n",
       "      <td>10</td>\n",
       "      <td>1</td>\n",
       "    </tr>\n",
       "  </tbody>\n",
       "</table>\n",
       "</div>"
      ],
      "text/plain": [
       "                 created_at                   id  \\\n",
       "0 2021-03-22 23:58:27+00:00  1374148501844660226   \n",
       "1 2021-03-22 23:57:00+00:00  1374148135220559872   \n",
       "2 2021-03-22 23:56:57+00:00  1374148124193751040   \n",
       "3 2021-03-22 23:55:39+00:00  1374147795918151682   \n",
       "4 2021-03-22 23:54:53+00:00  1374147602661380101   \n",
       "\n",
       "                                                text  replyCount  \\\n",
       "0  $COTI is about to become the largest and most ...           1   \n",
       "1  Don't be a hater of crypto #altcoins #columbin...           0   \n",
       "2  $ADA $ALGO $ALICE $ALPHA $ANKR $ATOM $AVAX $AX...           0   \n",
       "3  Go have fun with crypto \\n#dogecoin #BAT #VeCh...           0   \n",
       "4  Stop avoiding crypto \\n#dogecoin #BAT #VeChain...           0   \n",
       "\n",
       "   retweetCount  likeCount  quoteCount               source  \\\n",
       "0             5         31           0      Twitter Web App   \n",
       "1             0          1           0  Twitter for Android   \n",
       "2             0          5           0      Twitter Web App   \n",
       "3             0          1           0  Twitter for Android   \n",
       "4             1          1           0  Twitter for Android   \n",
       "\n",
       "                                           tweet_url              user_id  \\\n",
       "0  https://twitter.com/Aintsupposedto1/status/137...   915709205159477249   \n",
       "1  https://twitter.com/trucker_crypto/status/1374...  1365634368086106112   \n",
       "2  https://twitter.com/CryptoSeer2020/status/1374...  1359426862255079424   \n",
       "3  https://twitter.com/trucker_crypto/status/1374...  1365634368086106112   \n",
       "4  https://twitter.com/trucker_crypto/status/1374...  1365634368086106112   \n",
       "\n",
       "                                            user_bio  followers_count  \\\n",
       "0  ENTJ - Crypto enthousiast. Politically not alw...               99   \n",
       "1  follow and like will be updating info about cr...               10   \n",
       "2                                                                  13   \n",
       "3  follow and like will be updating info about cr...               10   \n",
       "4  follow and like will be updating info about cr...               10   \n",
       "\n",
       "   friends_count  \n",
       "0             81  \n",
       "1              1  \n",
       "2              5  \n",
       "3              1  \n",
       "4              1  "
      ]
     },
     "execution_count": 238,
     "metadata": {},
     "output_type": "execute_result"
    }
   ],
   "source": [
    "# Creating list to append tweet data to\n",
    "tweets_list = []\n",
    "max_tweets = 1000\n",
    "# Using TwitterSearchScraper to scrape data and append tweets to list\n",
    "q_str = \"ada crypto since:2021-03-16 until:2021-03-23 lang:en\"\n",
    "for idx, tweet in enumerate(sntwitter.TwitterSearchScraper(q_str).get_items()):\n",
    "    if idx > max_tweets:\n",
    "        break\n",
    "    source = get_source(tweet.source)\n",
    "    if \"Twit\" in source and \"away\" not in tweet.content.lower():\n",
    "        tweets_list.append([tweet.date, tweet.id, tweet.content, tweet.user.username, tweet.replyCount, tweet.retweetCount,\n",
    "                             tweet.likeCount, tweet.quoteCount,  source, tweet.url, \n",
    "             tweet.user.id, tweet.user.description , tweet.user.followersCount, tweet.user.friendsCount\n",
    "                            ])\n",
    "\n",
    "# Creating a dataframe from the tweets list above\n",
    "df_tweets = pd.DataFrame(tweets_list, columns=['created_at', 'id', 'text',  \"username\"\n",
    "                                'replyCount', 'retweetCount', 'likeCount', 'quoteCount', \"source\", \"tweet_url\",\n",
    "                                'user_id', \"user_bio\" , 'followers_count', 'friends_count' ])\n",
    "df_tweets.head()"
   ]
  },
  {
   "cell_type": "code",
   "execution_count": 232,
   "id": "stone-popularity",
   "metadata": {},
   "outputs": [
    {
     "data": {
      "text/plain": [
       "(8632, 13)"
      ]
     },
     "execution_count": 232,
     "metadata": {},
     "output_type": "execute_result"
    }
   ],
   "source": [
    "df_tweets.shape"
   ]
  },
  {
   "cell_type": "code",
   "execution_count": 239,
   "id": "cutting-equity",
   "metadata": {},
   "outputs": [
    {
     "name": "stdout",
     "output_type": "stream",
     "text": [
      "$BANDUSDT\n",
      "\n",
      "The candle needs to close above the red zone (15.5$) and then it’ll move up to 19$ level easily.\n",
      "\n",
      "Join: https://t.co/vlEOFPH7Do for more signals\n",
      "\n",
      "$btc $eth $xrp $ltc $ada $trx $bnb  $cake $doge #bitcoin  #ripple #ethereum #crypto $steem $audio $tfuel $rep $hive $grs https://t.co/Gy1UFvpiKR\n",
      "retweetCount       105\n",
      "likeCount          109\n",
      "followers_count    657\n",
      "Name: 308, dtype: object\n",
      "Twitter for iPhon\n",
      "In 10 years time, which smart platform will be king? $eth $ada $xtz $neo $crypto $btc #cryptocurrency #smartcontracts #altcoin #nft #defi #DEX #blockchain @binance @BitcoinMagazine @bitfinex @kucoincom @ethereum @Cardano @tezos @NEO_council\n",
      "retweetCount        91\n",
      "likeCount          169\n",
      "followers_count     55\n",
      "Name: 786, dtype: object\n",
      "Twitter for Androi\n",
      "🔴LIVE in less than 24hrs: 14:00PM UTC, @aronvanammers with @rom1_pellerin, CTO of @InputOutputHK (engineering the tech behind @Cardano $ADA), for discussion and audience Q&amp;A!\n",
      "\n",
      "👉Register now: https://t.co/IjNQLI75lR\n",
      "\n",
      "#blockchain #crypto #ada #cardano #smartcontracts @dComms_\n",
      "retweetCount          71\n",
      "likeCount            306\n",
      "followers_count    10873\n",
      "Name: 366, dtype: object\n",
      "Twitter Web Ap\n"
     ]
    }
   ],
   "source": [
    "for idx in df_tweets.nlargest(3, \"retweetCount\").index:\n",
    "    print(df_tweets.iloc[idx].text)\n",
    "    print(df_tweets.iloc[idx][[\"retweetCount\", 'likeCount' , \"followers_count\"]])\n",
    "    print(get_source(df_tweets.iloc[idx].source))"
   ]
  },
  {
   "cell_type": "code",
   "execution_count": 373,
   "id": "desperate-faculty",
   "metadata": {},
   "outputs": [
    {
     "data": {
      "text/plain": [
       "'eVo_PDX'"
      ]
     },
     "execution_count": 373,
     "metadata": {},
     "output_type": "execute_result"
    }
   ],
   "source": []
  },
  {
   "cell_type": "code",
   "execution_count": 108,
   "id": "fleet-boring",
   "metadata": {},
   "outputs": [
    {
     "data": {
      "text/plain": [
       "(Index(['url', 'date', 'content', 'renderedContent', 'id', 'user', 'outlinks',\n",
       "        'tcooutlinks', 'replyCount', 'retweetCount', 'likeCount', 'quoteCount',\n",
       "        'conversationId', 'lang', 'source', 'sourceUrl', 'sourceLabel', 'media',\n",
       "        'retweetedTweet', 'quotedTweet', 'mentionedUsers'],\n",
       "       dtype='object'),\n",
       " (30, 21))"
      ]
     },
     "execution_count": 108,
     "metadata": {},
     "output_type": "execute_result"
    }
   ],
   "source": [
    "tweets_df.columns, tweets_df.shape"
   ]
  },
  {
   "cell_type": "markdown",
   "id": "designed-civilization",
   "metadata": {},
   "source": [
    "### Load tweets using CLI > json"
   ]
  },
  {
   "cell_type": "markdown",
   "id": "beautiful-landing",
   "metadata": {},
   "source": [
    "Pros: loads all the date  \n",
    "Cons: saves and then load json file"
   ]
  },
  {
   "cell_type": "code",
   "execution_count": 62,
   "id": "chubby-reader",
   "metadata": {},
   "outputs": [
    {
     "name": "stdout",
     "output_type": "stream",
     "text": [
      "Total time 0.00m 2.82s\n"
     ]
    }
   ],
   "source": [
    "since = time.time()\n",
    "# Using OS library to call CLI commands in Python\n",
    "os.system(\"snscrape --jsonl --max-results 10000 --since 2021-03-01 twitter-search \\\"ada min_retweets:50 until:2021-03-08\\\" > tweets.json\")\n",
    "end = time.time() - since\n",
    "print(f\"Total time {end//60:.2f}m {end%60:.2f}s\")"
   ]
  },
  {
   "cell_type": "code",
   "execution_count": 63,
   "id": "appropriate-sculpture",
   "metadata": {},
   "outputs": [
    {
     "data": {
      "text/html": [
       "<div>\n",
       "<style scoped>\n",
       "    .dataframe tbody tr th:only-of-type {\n",
       "        vertical-align: middle;\n",
       "    }\n",
       "\n",
       "    .dataframe tbody tr th {\n",
       "        vertical-align: top;\n",
       "    }\n",
       "\n",
       "    .dataframe thead th {\n",
       "        text-align: right;\n",
       "    }\n",
       "</style>\n",
       "<table border=\"1\" class=\"dataframe\">\n",
       "  <thead>\n",
       "    <tr style=\"text-align: right;\">\n",
       "      <th></th>\n",
       "      <th>url</th>\n",
       "      <th>date</th>\n",
       "      <th>content</th>\n",
       "      <th>renderedContent</th>\n",
       "      <th>id</th>\n",
       "      <th>user</th>\n",
       "      <th>outlinks</th>\n",
       "      <th>tcooutlinks</th>\n",
       "      <th>replyCount</th>\n",
       "      <th>retweetCount</th>\n",
       "      <th>...</th>\n",
       "      <th>quoteCount</th>\n",
       "      <th>conversationId</th>\n",
       "      <th>lang</th>\n",
       "      <th>source</th>\n",
       "      <th>sourceUrl</th>\n",
       "      <th>sourceLabel</th>\n",
       "      <th>media</th>\n",
       "      <th>retweetedTweet</th>\n",
       "      <th>quotedTweet</th>\n",
       "      <th>mentionedUsers</th>\n",
       "    </tr>\n",
       "  </thead>\n",
       "  <tbody>\n",
       "    <tr>\n",
       "      <th>0</th>\n",
       "      <td>https://twitter.com/mnasrullah00/status/136870...</td>\n",
       "      <td>2021-03-07 23:13:49+00:00</td>\n",
       "      <td>Kaedah ada menyebut;\\n\\nكُلَّمَا عَظُمَتْ شَأْ...</td>\n",
       "      <td>Kaedah ada menyebut;\\n\\nكُلَّمَا عَظُمَتْ شَأْ...</td>\n",
       "      <td>1368701449119662083</td>\n",
       "      <td>{'username': 'mnasrullah00', 'displayname': 'N...</td>\n",
       "      <td>[]</td>\n",
       "      <td>[]</td>\n",
       "      <td>1</td>\n",
       "      <td>144</td>\n",
       "      <td>...</td>\n",
       "      <td>0</td>\n",
       "      <td>1368701449119662083</td>\n",
       "      <td>in</td>\n",
       "      <td>&lt;a href=\"http://twitter.com/download/iphone\" r...</td>\n",
       "      <td>http://twitter.com/download/iphone</td>\n",
       "      <td>Twitter for iPhone</td>\n",
       "      <td>None</td>\n",
       "      <td>NaN</td>\n",
       "      <td>None</td>\n",
       "      <td>None</td>\n",
       "    </tr>\n",
       "    <tr>\n",
       "      <th>1</th>\n",
       "      <td>https://twitter.com/Reza18121143/status/136869...</td>\n",
       "      <td>2021-03-07 23:02:49+00:00</td>\n",
       "      <td>Bismillahirrohmanirrohim\\nAda 100k buat 5 akun...</td>\n",
       "      <td>Bismillahirrohmanirrohim\\nAda 100k buat 5 akun...</td>\n",
       "      <td>1368698682875334656</td>\n",
       "      <td>{'username': 'Reza18121143', 'displayname': 'R...</td>\n",
       "      <td>[]</td>\n",
       "      <td>[]</td>\n",
       "      <td>292</td>\n",
       "      <td>619</td>\n",
       "      <td>...</td>\n",
       "      <td>1</td>\n",
       "      <td>1368698682875334656</td>\n",
       "      <td>in</td>\n",
       "      <td>&lt;a href=\"https://mobile.twitter.com\" rel=\"nofo...</td>\n",
       "      <td>https://mobile.twitter.com</td>\n",
       "      <td>Twitter Web App</td>\n",
       "      <td>None</td>\n",
       "      <td>NaN</td>\n",
       "      <td>None</td>\n",
       "      <td>None</td>\n",
       "    </tr>\n",
       "    <tr>\n",
       "      <th>2</th>\n",
       "      <td>https://twitter.com/shawlilies/status/13686955...</td>\n",
       "      <td>2021-03-07 22:50:33+00:00</td>\n",
       "      <td>okay guys ive bought one h&amp;amp;m tshirt from @...</td>\n",
       "      <td>okay guys ive bought one h&amp;amp;m tshirt from @...</td>\n",
       "      <td>1368695594185756676</td>\n",
       "      <td>{'username': 'shawlilies', 'displayname': 'Sha...</td>\n",
       "      <td>[]</td>\n",
       "      <td>[]</td>\n",
       "      <td>8</td>\n",
       "      <td>58</td>\n",
       "      <td>...</td>\n",
       "      <td>0</td>\n",
       "      <td>1368695594185756676</td>\n",
       "      <td>in</td>\n",
       "      <td>&lt;a href=\"http://twitter.com/download/iphone\" r...</td>\n",
       "      <td>http://twitter.com/download/iphone</td>\n",
       "      <td>Twitter for iPhone</td>\n",
       "      <td>None</td>\n",
       "      <td>NaN</td>\n",
       "      <td>None</td>\n",
       "      <td>[{'username': 'kameliacosmeti', 'displayname':...</td>\n",
       "    </tr>\n",
       "    <tr>\n",
       "      <th>3</th>\n",
       "      <td>https://twitter.com/bbymochiiee/status/1368635...</td>\n",
       "      <td>2021-03-07 18:52:02+00:00</td>\n",
       "      <td>awas aja sampe ada yg bilang \"alah gitu aja ba...</td>\n",
       "      <td>awas aja sampe ada yg bilang \"alah gitu aja ba...</td>\n",
       "      <td>1368635568339349506</td>\n",
       "      <td>{'username': 'bbymochiiee', 'displayname': 'je...</td>\n",
       "      <td>[]</td>\n",
       "      <td>[]</td>\n",
       "      <td>17</td>\n",
       "      <td>447</td>\n",
       "      <td>...</td>\n",
       "      <td>5</td>\n",
       "      <td>1368635568339349506</td>\n",
       "      <td>in</td>\n",
       "      <td>&lt;a href=\"http://twitter.com/download/android\" ...</td>\n",
       "      <td>http://twitter.com/download/android</td>\n",
       "      <td>Twitter for Android</td>\n",
       "      <td>None</td>\n",
       "      <td>NaN</td>\n",
       "      <td>None</td>\n",
       "      <td>None</td>\n",
       "    </tr>\n",
       "    <tr>\n",
       "      <th>4</th>\n",
       "      <td>https://twitter.com/zonamfs/status/13685869403...</td>\n",
       "      <td>2021-03-07 15:38:48+00:00</td>\n",
       "      <td>rps ada yang mau followan sama gowon ngga??? a...</td>\n",
       "      <td>rps ada yang mau followan sama gowon ngga??? a...</td>\n",
       "      <td>1368586940354682890</td>\n",
       "      <td>{'username': 'zonamfs', 'displayname': 'PIYIK ...</td>\n",
       "      <td>[]</td>\n",
       "      <td>[]</td>\n",
       "      <td>0</td>\n",
       "      <td>137</td>\n",
       "      <td>...</td>\n",
       "      <td>0</td>\n",
       "      <td>1368586940354682890</td>\n",
       "      <td>in</td>\n",
       "      <td>&lt;a href=\"https://twitter.com/roleplayerfess\" r...</td>\n",
       "      <td>https://twitter.com/roleplayerfess</td>\n",
       "      <td>RPS from Iphone xxx</td>\n",
       "      <td>None</td>\n",
       "      <td>NaN</td>\n",
       "      <td>None</td>\n",
       "      <td>None</td>\n",
       "    </tr>\n",
       "  </tbody>\n",
       "</table>\n",
       "<p>5 rows × 21 columns</p>\n",
       "</div>"
      ],
      "text/plain": [
       "                                                 url  \\\n",
       "0  https://twitter.com/mnasrullah00/status/136870...   \n",
       "1  https://twitter.com/Reza18121143/status/136869...   \n",
       "2  https://twitter.com/shawlilies/status/13686955...   \n",
       "3  https://twitter.com/bbymochiiee/status/1368635...   \n",
       "4  https://twitter.com/zonamfs/status/13685869403...   \n",
       "\n",
       "                       date  \\\n",
       "0 2021-03-07 23:13:49+00:00   \n",
       "1 2021-03-07 23:02:49+00:00   \n",
       "2 2021-03-07 22:50:33+00:00   \n",
       "3 2021-03-07 18:52:02+00:00   \n",
       "4 2021-03-07 15:38:48+00:00   \n",
       "\n",
       "                                             content  \\\n",
       "0  Kaedah ada menyebut;\\n\\nكُلَّمَا عَظُمَتْ شَأْ...   \n",
       "1  Bismillahirrohmanirrohim\\nAda 100k buat 5 akun...   \n",
       "2  okay guys ive bought one h&amp;m tshirt from @...   \n",
       "3  awas aja sampe ada yg bilang \"alah gitu aja ba...   \n",
       "4  rps ada yang mau followan sama gowon ngga??? a...   \n",
       "\n",
       "                                     renderedContent                   id  \\\n",
       "0  Kaedah ada menyebut;\\n\\nكُلَّمَا عَظُمَتْ شَأْ...  1368701449119662083   \n",
       "1  Bismillahirrohmanirrohim\\nAda 100k buat 5 akun...  1368698682875334656   \n",
       "2  okay guys ive bought one h&amp;m tshirt from @...  1368695594185756676   \n",
       "3  awas aja sampe ada yg bilang \"alah gitu aja ba...  1368635568339349506   \n",
       "4  rps ada yang mau followan sama gowon ngga??? a...  1368586940354682890   \n",
       "\n",
       "                                                user outlinks tcooutlinks  \\\n",
       "0  {'username': 'mnasrullah00', 'displayname': 'N...       []          []   \n",
       "1  {'username': 'Reza18121143', 'displayname': 'R...       []          []   \n",
       "2  {'username': 'shawlilies', 'displayname': 'Sha...       []          []   \n",
       "3  {'username': 'bbymochiiee', 'displayname': 'je...       []          []   \n",
       "4  {'username': 'zonamfs', 'displayname': 'PIYIK ...       []          []   \n",
       "\n",
       "   replyCount  retweetCount  ...  quoteCount       conversationId  lang  \\\n",
       "0           1           144  ...           0  1368701449119662083    in   \n",
       "1         292           619  ...           1  1368698682875334656    in   \n",
       "2           8            58  ...           0  1368695594185756676    in   \n",
       "3          17           447  ...           5  1368635568339349506    in   \n",
       "4           0           137  ...           0  1368586940354682890    in   \n",
       "\n",
       "                                              source  \\\n",
       "0  <a href=\"http://twitter.com/download/iphone\" r...   \n",
       "1  <a href=\"https://mobile.twitter.com\" rel=\"nofo...   \n",
       "2  <a href=\"http://twitter.com/download/iphone\" r...   \n",
       "3  <a href=\"http://twitter.com/download/android\" ...   \n",
       "4  <a href=\"https://twitter.com/roleplayerfess\" r...   \n",
       "\n",
       "                             sourceUrl          sourceLabel media  \\\n",
       "0   http://twitter.com/download/iphone   Twitter for iPhone  None   \n",
       "1           https://mobile.twitter.com      Twitter Web App  None   \n",
       "2   http://twitter.com/download/iphone   Twitter for iPhone  None   \n",
       "3  http://twitter.com/download/android  Twitter for Android  None   \n",
       "4   https://twitter.com/roleplayerfess  RPS from Iphone xxx  None   \n",
       "\n",
       "  retweetedTweet  quotedTweet  \\\n",
       "0            NaN         None   \n",
       "1            NaN         None   \n",
       "2            NaN         None   \n",
       "3            NaN         None   \n",
       "4            NaN         None   \n",
       "\n",
       "                                      mentionedUsers  \n",
       "0                                               None  \n",
       "1                                               None  \n",
       "2  [{'username': 'kameliacosmeti', 'displayname':...  \n",
       "3                                               None  \n",
       "4                                               None  \n",
       "\n",
       "[5 rows x 21 columns]"
      ]
     },
     "execution_count": 63,
     "metadata": {},
     "output_type": "execute_result"
    }
   ],
   "source": [
    "tweets_df = pd.read_json('tweets.json', lines=True)\n",
    "tweets_df.head()"
   ]
  },
  {
   "cell_type": "code",
   "execution_count": null,
   "id": "violent-recognition",
   "metadata": {},
   "outputs": [],
   "source": []
  },
  {
   "cell_type": "code",
   "execution_count": 257,
   "id": "recovered-average",
   "metadata": {},
   "outputs": [
    {
     "name": "stdout",
     "output_type": "stream",
     "text": [
      "[*********************100%***********************]  1 of 1 completed\n"
     ]
    }
   ],
   "source": [
    "fin_data = yf.download(tickers = 'ada' + \"-USD\", period = '6d' , interval = '30m')"
   ]
  },
  {
   "cell_type": "code",
   "execution_count": 248,
   "id": "declared-reading",
   "metadata": {},
   "outputs": [
    {
     "name": "stdout",
     "output_type": "stream",
     "text": [
      "[*********************100%***********************]  1 of 1 completed\n"
     ]
    }
   ],
   "source": [
    "fin_data = yf.download(tickers = 'tsla', period = '6d' , interval = '30m')"
   ]
  },
  {
   "cell_type": "code",
   "execution_count": 368,
   "id": "infinite-overall",
   "metadata": {},
   "outputs": [],
   "source": [
    "from plotly.subplots import make_subplots\n",
    "import plotly.graph_objects as go\n",
    "import plotly.express as px"
   ]
  },
  {
   "cell_type": "code",
   "execution_count": 311,
   "id": "endless-mainland",
   "metadata": {},
   "outputs": [
    {
     "data": {
      "text/plain": [
       "layout.Coloraxis()"
      ]
     },
     "execution_count": 311,
     "metadata": {},
     "output_type": "execute_result"
    }
   ],
   "source": [
    "fig.layout."
   ]
  },
  {
   "cell_type": "code",
   "execution_count": 363,
   "id": "available-container",
   "metadata": {
    "scrolled": false
   },
   "outputs": [
    {
     "data": {
      "application/vnd.plotly.v1+json": {
       "config": {
        "plotlyServerURL": "https://plot.ly"
       },
       "data": [
        {
         "close": [
          1.2086583375930786,
          1.2386935949325562,
          1.243688941001892,
          1.2556465864181519,
          1.2375729084014893,
          1.225583553314209,
          1.2323718070983887,
          1.2413023710250854,
          1.242719292640686,
          1.2309415340423584,
          1.240169644355774,
          1.2644363641738892,
          1.2534064054489136,
          1.2492327690124512,
          1.2565909624099731,
          1.2616794109344482,
          1.2863889932632446,
          1.2743369340896606,
          1.2654038667678833,
          1.2559895515441895,
          1.2496882677078247,
          1.263880968093872,
          1.2578661441802979,
          1.2616307735443115,
          1.2864645719528198,
          1.2909754514694214,
          1.2856565713882446,
          1.277906060218811,
          1.2738494873046875,
          1.2878153324127197,
          1.2823973894119263,
          1.285056233406067,
          1.2696783542633057,
          1.2571988105773926,
          1.263320803642273,
          1.271335482597351,
          1.298274278640747,
          1.3061563968658447,
          1.3211268186569214,
          1.3406955003738403,
          1.3126790523529053,
          1.3149410486221313,
          1.3286255598068237,
          1.3245927095413208,
          1.3303343057632446,
          1.3331679105758667,
          1.3002233505249023,
          1.3020999431610107,
          1.3085139989852905,
          1.313057541847229,
          1.2968801259994507,
          1.2814972400665283,
          1.2894175052642822,
          1.2903668880462646,
          1.2813091278076172,
          1.2777851819992065,
          1.2667382955551147,
          1.2666499614715576,
          1.269741415977478,
          1.2724266052246094,
          1.2662596702575684,
          1.2640578746795654,
          1.262128472328186,
          1.2674673795700073,
          1.2770025730133057,
          1.278903841972351,
          1.2730647325515747,
          1.2699089050292969,
          1.2769109010696411,
          1.2747386693954468,
          1.2741405963897705,
          1.2715774774551392,
          1.2633028030395508,
          1.2707234621047974,
          1.2654370069503784,
          1.2591664791107178,
          1.2637457847595215,
          1.265405297279358,
          1.2620885372161865,
          1.2606079578399658,
          1.2431622743606567,
          1.2375741004943848,
          1.2495287656784058,
          1.244971513748169,
          1.2449506521224976,
          1.243672251701355,
          1.2545760869979858,
          1.2528870105743408,
          1.2412739992141724,
          1.235361099243164,
          1.2414650917053223,
          1.2396836280822754,
          1.231848955154419,
          1.2332199811935425,
          1.2230987548828125,
          1.2071583271026611,
          1.225826621055603,
          1.2272831201553345,
          1.243876338005066,
          1.2343374490737915,
          1.2214473485946655,
          1.2142690420150757,
          1.2269585132598877,
          1.2291309833526611,
          1.219129204750061,
          1.2102155685424805,
          1.2072014808654785,
          1.2061561346054077,
          1.207495927810669,
          1.2051856517791748,
          1.2109553813934326,
          1.211561918258667,
          1.2159011363983154,
          1.2137787342071533,
          1.2140904664993286,
          1.1994596719741821,
          1.2024940252304077,
          1.1936110258102417,
          1.1906707286834717,
          1.1866382360458374,
          1.1652361154556274,
          1.178572416305542,
          1.203688144683838,
          1.200581431388855,
          1.2023484706878662,
          1.2107350826263428,
          1.218583583831787,
          1.205021619796753,
          1.207617998123169,
          1.2021492719650269,
          1.2029777765274048,
          1.206252098083496,
          1.2081446647644043,
          1.2145310640335083,
          1.205342411994934,
          1.2016479969024658,
          1.1962915658950806,
          1.1981050968170166,
          1.2027466297149658,
          1.2059433460235596,
          1.196385145187378,
          1.1958378553390503,
          1.1881037950515747,
          1.1892081499099731,
          1.1764366626739502,
          1.1687908172607422,
          1.167189359664917,
          1.1762946844100952,
          1.1833107471466064,
          1.1882743835449219,
          1.198461890220642,
          1.194698691368103,
          1.1975747346878052,
          1.1949355602264404,
          1.195706844329834,
          1.1974974870681763,
          1.2045700550079346,
          1.2053937911987305,
          1.2069722414016724,
          1.1978123188018799,
          1.1899561882019043,
          1.1809680461883545,
          1.1851609945297241,
          1.1860237121582031,
          1.197693943977356,
          1.1963411569595337,
          1.1944960355758667,
          1.192823052406311,
          1.1835741996765137,
          1.1845405101776123,
          1.1866466999053955,
          1.1851576566696167,
          1.1837358474731445,
          1.1858201026916504,
          1.1845083236694336,
          1.181800365447998,
          1.1779810190200806,
          1.1803439855575562,
          1.1789571046829224,
          1.1825995445251465,
          1.1763688325881958,
          1.1743115186691284,
          1.1568254232406616,
          1.1603025197982788,
          1.1483370065689087,
          1.1110979318618774,
          1.123583436012268,
          1.1259310245513916,
          1.1121771335601807,
          1.116731882095337,
          1.1135718822479248,
          1.1099036931991577,
          1.1162604093551636,
          1.1258296966552734,
          1.1443754434585571,
          1.1510014533996582,
          1.140393853187561,
          1.136193037033081,
          1.1320255994796753,
          1.1310534477233887,
          1.1264888048171997,
          1.1256663799285889,
          1.111303448677063,
          1.114331603050232,
          1.1010345220565796,
          1.088841199874878,
          1.1128634214401245,
          1.1256330013275146,
          1.122735857963562,
          1.1362426280975342,
          1.1349469423294067,
          1.1394685506820679,
          1.137328863143921,
          1.1433662176132202,
          1.1451092958450317,
          1.1282743215560913,
          1.149325966835022,
          1.158623456954956,
          1.1641372442245483,
          1.1622045040130615,
          1.1514617204666138,
          1.157859444618225,
          1.1616952419281006,
          1.1606429815292358,
          1.1633720397949219,
          1.1563122272491455,
          1.153686761856079,
          1.1512736082077026,
          1.1485711336135864,
          1.1444417238235474,
          1.1220555305480957,
          1.1299740076065063,
          1.1216094493865967,
          1.1098593473434448,
          1.1063473224639893,
          1.1166801452636719,
          1.1262439489364624,
          1.1253371238708496,
          1.1304147243499756,
          1.1216802597045898,
          1.1032538414001465,
          1.105828046798706,
          1.1171172857284546,
          1.1152385473251343,
          1.114445686340332,
          1.1140750646591187,
          1.1094369888305664,
          1.108932614326477,
          1.1136844158172607,
          1.1112364530563354,
          1.1117054224014282,
          1.1138346195220947,
          1.1130248308181763,
          1.1305577754974365,
          1.1364598274230957,
          1.1426891088485718,
          1.1549371480941772,
          1.1484344005584717,
          1.1600258350372314,
          1.1546947956085205,
          1.1485095024108887,
          1.1505215167999268,
          1.151577353477478,
          1.1499660015106201,
          1.1591501235961914,
          1.1623637676239014,
          1.1553857326507568,
          1.1508419513702393,
          1.1487866640090942,
          1.1478462219238281,
          1.1373794078826904,
          1.1384642124176025,
          1.1314916610717773,
          1.1326823234558105,
          1.1330666542053223,
          1.1343415975570679,
          1.1341620683670044,
          1.120241641998291,
          1.1187700033187866,
          1.1095768213272095,
          1.1049236059188843,
          1.1192275285720825,
          1.1116693019866943,
          1.1061265468597412,
          1.0566346645355225,
          1.0775967836380005,
          1.078033208847046,
          1.0751616954803467
         ],
         "high": [
          1.2385587692260742,
          1.24430513381958,
          1.2496521472930908,
          1.255763292312622,
          1.2563703060150146,
          1.2398611307144165,
          1.2391358613967896,
          1.2413023710250854,
          1.2430003881454468,
          1.2427455186843872,
          1.2402729988098145,
          1.2644363641738892,
          1.2698177099227905,
          1.2528696060180664,
          1.2588832378387451,
          1.2628504037857056,
          1.2876099348068237,
          1.2899560928344727,
          1.2771930694580078,
          1.2655059099197388,
          1.259087324142456,
          1.263880968093872,
          1.2671239376068115,
          1.2627376317977905,
          1.2864645719528198,
          1.3021928071975708,
          1.2923743724822998,
          1.2884196043014526,
          1.276700496673584,
          1.2878153324127197,
          1.2873960733413696,
          1.2859011888504028,
          1.285501480102539,
          1.269845724105835,
          1.2638673782348633,
          1.2720720767974854,
          1.3191050291061401,
          1.308785080909729,
          1.3221209049224854,
          1.3423547744750977,
          1.3412206172943115,
          1.3267862796783447,
          1.336841344833374,
          1.3330076932907104,
          1.3313558101654053,
          1.3347535133361816,
          1.3342971801757812,
          1.3049874305725098,
          1.3085139989852905,
          1.3132728338241577,
          1.3125311136245728,
          1.2986602783203125,
          1.2894175052642822,
          1.2929664850234985,
          1.2902811765670776,
          1.2814111709594727,
          1.2779284715652466,
          1.2672280073165894,
          1.2703502178192139,
          1.2772115468978882,
          1.272159218788147,
          1.2672290802001953,
          1.2639482021331787,
          1.270281434059143,
          1.280509114265442,
          1.278990387916565,
          1.2801117897033691,
          1.2732744216918945,
          1.2792447805404663,
          1.278097152709961,
          1.2753812074661255,
          1.2743432521820068,
          1.2714879512786865,
          1.273155927658081,
          1.2725945711135864,
          1.2655160427093506,
          1.2637457847595215,
          1.2655986547470093,
          1.2663935422897339,
          1.2625629901885986,
          1.260608434677124,
          1.2496488094329834,
          1.2508169412612915,
          1.2504860162734985,
          1.2486039400100708,
          1.2461363077163696,
          1.2547756433486938,
          1.256840705871582,
          1.2544441223144531,
          1.2410809993743896,
          1.2414650917053223,
          1.2469171285629272,
          1.240949273109436,
          1.2336745262145996,
          1.2330294847488403,
          1.2235201597213745,
          1.2264318466186523,
          1.2338056564331055,
          1.243876338005066,
          1.2442816495895386,
          1.235424518585205,
          1.2219923734664917,
          1.2269585132598877,
          1.2294032573699951,
          1.2293423414230347,
          1.2191593647003174,
          1.2116553783416748,
          1.208985686302185,
          1.2085672616958618,
          1.2136341333389282,
          1.2118595838546753,
          1.212133526802063,
          1.221224308013916,
          1.2163653373718262,
          1.2171670198440552,
          1.2139990329742432,
          1.2041596174240112,
          1.202256679534912,
          1.1947191953659058,
          1.1936931610107422,
          1.1869499683380127,
          1.1838263273239136,
          1.203688144683838,
          1.203919529914856,
          1.202676773071289,
          1.2107350826263428,
          1.2187896966934204,
          1.2188032865524292,
          1.2128804922103882,
          1.2075154781341553,
          1.2053555250167847,
          1.2075119018554688,
          1.2089449167251587,
          1.216479778289795,
          1.2144750356674194,
          1.2069519758224487,
          1.2031176090240479,
          1.1993370056152344,
          1.2029465436935425,
          1.206552267074585,
          1.205675721168518,
          1.198390007019043,
          1.199141502380371,
          1.1908591985702515,
          1.1892035007476807,
          1.179965615272522,
          1.1717126369476318,
          1.1762946844100952,
          1.1833844184875488,
          1.189915657043457,
          1.1998544931411743,
          1.1992195844650269,
          1.2007724046707153,
          1.1973031759262085,
          1.201808214187622,
          1.201088786125183,
          1.2046300172805786,
          1.2081859111785889,
          1.2085498571395874,
          1.207021951675415,
          1.197713017463684,
          1.1902058124542236,
          1.1851609945297241,
          1.1860237121582031,
          1.2004822492599487,
          1.2005544900894165,
          1.19956636428833,
          1.1947088241577148,
          1.192756175994873,
          1.1848478317260742,
          1.1868301630020142,
          1.1860687732696533,
          1.1903042793273926,
          1.1863868236541748,
          1.1855345964431763,
          1.184602975845337,
          1.1835098266601562,
          1.1815826892852783,
          1.18094003200531,
          1.1834077835083008,
          1.1827809810638428,
          1.176560401916504,
          1.1743229627609253,
          1.1657602787017822,
          1.1596744060516357,
          1.148735523223877,
          1.1361427307128906,
          1.1324483156204224,
          1.1253278255462646,
          1.116731882095337,
          1.126082181930542,
          1.119173288345337,
          1.1215410232543945,
          1.127252459526062,
          1.1443754434585571,
          1.15475332736969,
          1.1509416103363037,
          1.1486986875534058,
          1.1365851163864136,
          1.132284164428711,
          1.138124942779541,
          1.129370927810669,
          1.1259552240371704,
          1.1144825220108032,
          1.113857388496399,
          1.1040674448013306,
          1.1128634214401245,
          1.1256330013275146,
          1.1332955360412598,
          1.1365474462509155,
          1.138380765914917,
          1.1394685506820679,
          1.1462732553482056,
          1.1436011791229248,
          1.148624300956726,
          1.1452021598815918,
          1.1503185033798218,
          1.1591049432754517,
          1.1741772890090942,
          1.1722384691238403,
          1.1638332605361938,
          1.1599490642547607,
          1.165870189666748,
          1.1638284921646118,
          1.1633743047714233,
          1.1673914194107056,
          1.16266667842865,
          1.1544243097305298,
          1.156577229499817,
          1.1504757404327393,
          1.1461577415466309,
          1.1315330266952515,
          1.1302756071090698,
          1.125243067741394,
          1.1193629503250122,
          1.11769700050354,
          1.1266734600067139,
          1.1369966268539429,
          1.1372761726379395,
          1.131216049194336,
          1.121344804763794,
          1.1123735904693604,
          1.1171588897705078,
          1.119422197341919,
          1.1164356470108032,
          1.1193279027938843,
          1.1161878108978271,
          1.1160281896591187,
          1.11793851852417,
          1.1216617822647095,
          1.1117054224014282,
          1.1205739974975586,
          1.117587924003601,
          1.1345568895339966,
          1.1431078910827637,
          1.1427117586135864,
          1.1549371480941772,
          1.1560158729553223,
          1.1600258350372314,
          1.1610894203186035,
          1.1560099124908447,
          1.1522893905639648,
          1.1523219347000122,
          1.1515141725540161,
          1.1636518239974976,
          1.1623637676239014,
          1.1630897521972656,
          1.1616626977920532,
          1.1528891324996948,
          1.1499923467636108,
          1.1469316482543945,
          1.1392457485198975,
          1.1431471109390259,
          1.1361433267593384,
          1.1354217529296875,
          1.1375209093093872,
          1.137113332748413,
          1.1340471506118774,
          1.1242091655731201,
          1.1187485456466675,
          1.111470341682434,
          1.119284749031067,
          1.118934988975525,
          1.1118817329406738,
          1.1062169075012207,
          1.087864637374878,
          1.0811042785644531,
          1.0804003477096558
         ],
         "low": [
          1.1960461139678955,
          1.209552526473999,
          1.2311137914657593,
          1.2377490997314453,
          1.2375729084014893,
          1.225583553314209,
          1.2250741720199585,
          1.22874915599823,
          1.234452724456787,
          1.2298266887664795,
          1.2305257320404053,
          1.2407962083816528,
          1.2514585256576538,
          1.247361660003662,
          1.2492088079452515,
          1.2561308145523071,
          1.2619165182113647,
          1.273663878440857,
          1.2634919881820679,
          1.2559895515441895,
          1.2458399534225464,
          1.2495992183685303,
          1.2577403783798218,
          1.25845205783844,
          1.2618818283081055,
          1.2839040756225586,
          1.2832177877426147,
          1.277052640914917,
          1.2664132118225098,
          1.2744144201278687,
          1.2790051698684692,
          1.2767014503479004,
          1.267985224723816,
          1.256691336631775,
          1.2572333812713623,
          1.2635785341262817,
          1.2695021629333496,
          1.2969801425933838,
          1.3032227754592896,
          1.3106786012649536,
          1.3126790523529053,
          1.3095790147781372,
          1.3151499032974243,
          1.3245927095413208,
          1.323431372642517,
          1.3295198678970337,
          1.3002233505249023,
          1.2983371019363403,
          1.2930514812469482,
          1.3075429201126099,
          1.2968323230743408,
          1.2805944681167603,
          1.281606674194336,
          1.2851831912994385,
          1.2813091278076172,
          1.276002049446106,
          1.260871410369873,
          1.2617254257202148,
          1.2631815671920776,
          1.2696716785430908,
          1.2662596702575684,
          1.2640578746795654,
          1.2590670585632324,
          1.2620596885681152,
          1.2676055431365967,
          1.276363492012024,
          1.2722514867782593,
          1.2693346738815308,
          1.2697539329528809,
          1.2728245258331299,
          1.2715147733688354,
          1.2706319093704224,
          1.2633028030395508,
          1.2622662782669067,
          1.2648714780807495,
          1.259165644645691,
          1.2555748224258423,
          1.263720989227295,
          1.2612887620925903,
          1.2587507963180542,
          1.2426748275756836,
          1.2375218868255615,
          1.236767292022705,
          1.2443568706512451,
          1.2449506521224976,
          1.2427185773849487,
          1.244003415107727,
          1.2519763708114624,
          1.2412739992141724,
          1.2334237098693848,
          1.234413504600525,
          1.2396836280822754,
          1.231526255607605,
          1.2261626720428467,
          1.217384934425354,
          1.2071583271026611,
          1.198407769203186,
          1.226470947265625,
          1.2247635126113892,
          1.234245777130127,
          1.2214473485946655,
          1.2114152908325195,
          1.2142846584320068,
          1.2215098142623901,
          1.2184927463531494,
          1.2039819955825806,
          1.2063506841659546,
          1.1996148824691772,
          1.2022309303283691,
          1.2051751613616943,
          1.2050325870513916,
          1.208317756652832,
          1.2120041847229004,
          1.213418960571289,
          1.2139581441879272,
          1.1989434957504272,
          1.1975152492523193,
          1.1934174299240112,
          1.1830483675003052,
          1.18349027633667,
          1.1647454500198364,
          1.1651241779327393,
          1.1785926818847656,
          1.199573278427124,
          1.2000972032546997,
          1.2025151252746582,
          1.210556149482727,
          1.203891396522522,
          1.1981428861618042,
          1.1990995407104492,
          1.2004001140594482,
          1.2014867067337036,
          1.2061434984207153,
          1.2083210945129395,
          1.2053176164627075,
          1.2016479969024658,
          1.1961883306503296,
          1.194562554359436,
          1.1979379653930664,
          1.2006285190582275,
          1.1960490942001343,
          1.1950567960739136,
          1.1881037950515747,
          1.1881202459335327,
          1.1764366626739502,
          1.1685634851455688,
          1.1661320924758911,
          1.1661572456359863,
          1.171213984489441,
          1.182637095451355,
          1.18855881690979,
          1.1923004388809204,
          1.1940257549285889,
          1.1935501098632812,
          1.1953622102737427,
          1.1956572532653809,
          1.1973563432693481,
          1.2039347887039185,
          1.2008795738220215,
          1.1966195106506348,
          1.1896851062774658,
          1.1808515787124634,
          1.176357626914978,
          1.1820772886276245,
          1.1863234043121338,
          1.196151852607727,
          1.1944960355758667,
          1.192447543144226,
          1.1829177141189575,
          1.179758906364441,
          1.1823439598083496,
          1.1754008531570435,
          1.1822439432144165,
          1.1813082695007324,
          1.181473970413208,
          1.180743932723999,
          1.1779810190200806,
          1.1746842861175537,
          1.175732135772705,
          1.1786607503890991,
          1.1760133504867554,
          1.170987844467163,
          1.1567795276641846,
          1.1566485166549683,
          1.1483370065689087,
          1.0896276235580444,
          1.1080169677734375,
          1.122537612915039,
          1.1034388542175293,
          1.1092132329940796,
          1.1131515502929688,
          1.1099036931991577,
          1.1009527444839478,
          1.1167089939117432,
          1.1257832050323486,
          1.1434457302093506,
          1.138852596282959,
          1.136193037033081,
          1.1317107677459717,
          1.1275819540023804,
          1.1264888048171997,
          1.118575096130371,
          1.111303448677063,
          1.1074906587600708,
          1.0950452089309692,
          1.0884873867034912,
          1.088027000427246,
          1.112839937210083,
          1.120945930480957,
          1.122397541999817,
          1.1320463418960571,
          1.1331405639648438,
          1.1372056007385254,
          1.1364907026290894,
          1.1428073644638062,
          1.1282743215560913,
          1.1284188032150269,
          1.1487302780151367,
          1.159685492515564,
          1.1579439640045166,
          1.1510961055755615,
          1.1490306854248047,
          1.1580795049667358,
          1.1602998971939087,
          1.151404619216919,
          1.1560853719711304,
          1.153686761856079,
          1.148728847503662,
          1.1485711336135864,
          1.1431183815002441,
          1.1220555305480957,
          1.1225157976150513,
          1.1212964057922363,
          1.1098593473434448,
          1.1063473224639893,
          1.1034162044525146,
          1.115007996559143,
          1.1253371238708496,
          1.124880075454712,
          1.1216802597045898,
          1.10262930393219,
          1.1031217575073242,
          1.0981969833374023,
          1.1114137172698975,
          1.1122629642486572,
          1.1131246089935303,
          1.1089024543762207,
          1.1088329553604126,
          1.1090190410614014,
          1.1112364530563354,
          1.1071105003356934,
          1.1120750904083252,
          1.1097921133041382,
          1.112916350364685,
          1.129740834236145,
          1.1338692903518677,
          1.1424932479858398,
          1.1484344005584717,
          1.148051381111145,
          1.1520861387252808,
          1.1481361389160156,
          1.1460695266723633,
          1.149776577949524,
          1.1480709314346313,
          1.1499754190444946,
          1.1580381393432617,
          1.1539545059204102,
          1.1508333683013916,
          1.147996425628662,
          1.1478462219238281,
          1.1373794078826904,
          1.1321485042572021,
          1.1314916610717773,
          1.1309611797332764,
          1.1303977966308594,
          1.1333067417144775,
          1.1336172819137573,
          1.120241641998291,
          1.1187700033187866,
          1.108619213104248,
          1.1035236120224,
          1.0966733694076538,
          1.109477162361145,
          1.1061265468597412,
          1.0565553903579712,
          1.0596386194229126,
          1.0696951150894165,
          1.072499394416809
         ],
         "open": [
          1.2385587692260742,
          1.209552526473999,
          1.2393828630447388,
          1.2450296878814697,
          1.2563703060150146,
          1.2360345125198364,
          1.2252658605575562,
          1.232211947441101,
          1.2416645288467407,
          1.2423499822616577,
          1.2305257320404053,
          1.2407962083816528,
          1.2652504444122314,
          1.2527871131896973,
          1.2492088079452515,
          1.2564704418182373,
          1.2619165182113647,
          1.286139965057373,
          1.2740905284881592,
          1.2652390003204346,
          1.255638837814331,
          1.2501091957092285,
          1.2644113302230835,
          1.25845205783844,
          1.2618818283081055,
          1.2884166240692139,
          1.2923743724822998,
          1.2856534719467163,
          1.276700496673584,
          1.2744144201278687,
          1.2873307466506958,
          1.2819262742996216,
          1.285501480102539,
          1.2692413330078125,
          1.2574936151504517,
          1.2635785341262817,
          1.271378993988037,
          1.2995706796646118,
          1.3072577714920044,
          1.3200020790100098,
          1.3412206172943115,
          1.3127676248550415,
          1.3151499032974243,
          1.3290011882781982,
          1.3257601261138916,
          1.3303238153457642,
          1.334032416343689,
          1.3007341623306274,
          1.3014721870422363,
          1.3084481954574585,
          1.3125311136245728,
          1.2972517013549805,
          1.2820523977279663,
          1.2890537977218628,
          1.2901115417480469,
          1.2814111709594727,
          1.2779284715652466,
          1.2667381763458252,
          1.26615571975708,
          1.2696716785430908,
          1.272159218788147,
          1.2662264108657837,
          1.2639482021331787,
          1.2620596885681152,
          1.2676055431365967,
          1.2768478393554688,
          1.279173731803894,
          1.2729827165603638,
          1.2697539329528809,
          1.2772107124328613,
          1.2749438285827637,
          1.2737957239151,
          1.2714879512786865,
          1.2632081508636475,
          1.2704905271530151,
          1.2655160427093506,
          1.2588601112365723,
          1.263720989227295,
          1.2654112577438354,
          1.2621862888336182,
          1.260453224182129,
          1.2433453798294067,
          1.2372397184371948,
          1.249984622001648,
          1.245538592338562,
          1.2448650598526,
          1.244003415107727,
          1.2544012069702148,
          1.2529376745224,
          1.2410809993743896,
          1.2357486486434937,
          1.241267204284668,
          1.2400400638580322,
          1.2317782640457153,
          1.2330294847488403,
          1.2229305505752563,
          1.2064313888549805,
          1.226470947265625,
          1.2279107570648193,
          1.2439149618148804,
          1.2345960140228271,
          1.2219923734664917,
          1.2142846584320068,
          1.2272629737854004,
          1.2293423414230347,
          1.2191593647003174,
          1.210173487663269,
          1.2071630954742432,
          1.2056058645248413,
          1.2077760696411133,
          1.2050325870513916,
          1.2107220888137817,
          1.2120041847229004,
          1.2156062126159668,
          1.2139581441879272,
          1.2139990329742432,
          1.1996430158615112,
          1.202256679534912,
          1.1936545372009277,
          1.1906373500823975,
          1.1869499683380127,
          1.1651241779327393,
          1.1785926818847656,
          1.2033177614212036,
          1.200742483139038,
          1.2025151252746582,
          1.210556149482727,
          1.2188032865524292,
          1.2047719955444336,
          1.2075154781341553,
          1.201896071434021,
          1.2026318311691284,
          1.2061434984207153,
          1.2083210945129395,
          1.2144750356674194,
          1.2051714658737183,
          1.201815128326416,
          1.1957629919052124,
          1.1979379653930664,
          1.2025761604309082,
          1.205675721168518,
          1.1963144540786743,
          1.195680856704712,
          1.1881202459335327,
          1.1892035007476807,
          1.1761751174926758,
          1.1685535907745361,
          1.1672475337982178,
          1.1763200759887695,
          1.1832176446914673,
          1.18855881690979,
          1.198905110359192,
          1.1946390867233276,
          1.1973031759262085,
          1.1953622102737427,
          1.1957005262374878,
          1.1973563432693481,
          1.2046313285827637,
          1.2052825689315796,
          1.2069599628448486,
          1.197713017463684,
          1.1900657415390015,
          1.1806951761245728,
          1.1852052211761475,
          1.1863234043121338,
          1.1979365348815918,
          1.196067214012146,
          1.1947088241577148,
          1.192756175994873,
          1.183262825012207,
          1.1848034858703613,
          1.1860687732696533,
          1.1852262020111084,
          1.1832586526870728,
          1.1855162382125854,
          1.184593915939331,
          1.1816085577011108,
          1.1783201694488525,
          1.1799626350402832,
          1.179018259048462,
          1.1827809810638428,
          1.176560401916504,
          1.1743229627609253,
          1.1570693254470825,
          1.1596744060516357,
          1.1485878229141235,
          1.1109706163406372,
          1.1240894794464111,
          1.1253278255462646,
          1.1121695041656494,
          1.1164597272872925,
          1.1139122247695923,
          1.1093428134918213,
          1.1167089939117432,
          1.1260149478912354,
          1.1434457302093506,
          1.1509416103363037,
          1.1400798559188843,
          1.1365851163864136,
          1.13197660446167,
          1.1311484575271606,
          1.1261487007141113,
          1.1257001161575317,
          1.1114863157272339,
          1.113857388496399,
          1.101272702217102,
          1.0882844924926758,
          1.112839937210083,
          1.1259119510650635,
          1.122397541999817,
          1.1359097957611084,
          1.135028600692749,
          1.1396055221557617,
          1.1373350620269775,
          1.1428073644638062,
          1.1452021598815918,
          1.1284188032150269,
          1.1495097875595093,
          1.159685492515564,
          1.164432406425476,
          1.162172555923462,
          1.1515260934829712,
          1.1580795049667358,
          1.1617345809936523,
          1.1605173349380493,
          1.1632804870605469,
          1.156430959701538,
          1.154036521911621,
          1.1515133380889893,
          1.1488574743270874,
          1.1440510749816895,
          1.1225157976150513,
          1.1302756071090698,
          1.1217867136001587,
          1.1108832359313965,
          1.1062705516815186,
          1.116670846939087,
          1.1265413761138916,
          1.124880075454712,
          1.1304272413253784,
          1.121344804763794,
          1.1031217575073242,
          1.105577826499939,
          1.1175276041030884,
          1.1153291463851929,
          1.1145015954971313,
          1.1141717433929443,
          1.1094075441360474,
          1.1090190410614014,
          1.1138957738876343,
          1.1111575365066528,
          1.1120750904083252,
          1.1139740943908691,
          1.1131258010864258,
          1.1302385330200195,
          1.1363186836242676,
          1.1424932479858398,
          1.1543951034545898,
          1.148051381111145,
          1.1604235172271729,
          1.1558895111083984,
          1.14815092086792,
          1.1504991054534912,
          1.1514992713928223,
          1.1499754190444946,
          1.1591731309890747,
          1.1619749069213867,
          1.1557564735412598,
          1.152223825454712,
          1.1488525867462158,
          1.1469316482543945,
          1.1373564004898071,
          1.1388696432113647,
          1.1314481496810913,
          1.1326920986175537,
          1.1333423852920532,
          1.1343042850494385,
          1.1340471506118774,
          1.1203622817993164,
          1.1187485456466675,
          1.1094175577163696,
          1.1049777269363403,
          1.1186670064926147,
          1.1118817329406738,
          1.1062169075012207,
          1.0596386194229126,
          1.0770820379257202,
          1.0783798694610596
         ],
         "type": "ohlc",
         "x": [
          "2021-03-19T00:00:00+00:00",
          "2021-03-19T00:30:00+00:00",
          "2021-03-19T01:00:00+00:00",
          "2021-03-19T01:30:00+00:00",
          "2021-03-19T02:00:00+00:00",
          "2021-03-19T02:30:00+00:00",
          "2021-03-19T03:00:00+00:00",
          "2021-03-19T03:30:00+00:00",
          "2021-03-19T04:00:00+00:00",
          "2021-03-19T04:30:00+00:00",
          "2021-03-19T05:00:00+00:00",
          "2021-03-19T05:30:00+00:00",
          "2021-03-19T06:00:00+00:00",
          "2021-03-19T06:30:00+00:00",
          "2021-03-19T07:00:00+00:00",
          "2021-03-19T07:30:00+00:00",
          "2021-03-19T08:00:00+00:00",
          "2021-03-19T08:30:00+00:00",
          "2021-03-19T09:00:00+00:00",
          "2021-03-19T09:30:00+00:00",
          "2021-03-19T10:00:00+00:00",
          "2021-03-19T10:30:00+00:00",
          "2021-03-19T11:00:00+00:00",
          "2021-03-19T11:30:00+00:00",
          "2021-03-19T12:00:00+00:00",
          "2021-03-19T12:30:00+00:00",
          "2021-03-19T13:00:00+00:00",
          "2021-03-19T13:30:00+00:00",
          "2021-03-19T14:00:00+00:00",
          "2021-03-19T14:30:00+00:00",
          "2021-03-19T15:00:00+00:00",
          "2021-03-19T15:30:00+00:00",
          "2021-03-19T16:00:00+00:00",
          "2021-03-19T16:30:00+00:00",
          "2021-03-19T17:00:00+00:00",
          "2021-03-19T17:30:00+00:00",
          "2021-03-19T18:00:00+00:00",
          "2021-03-19T18:30:00+00:00",
          "2021-03-19T19:00:00+00:00",
          "2021-03-19T19:30:00+00:00",
          "2021-03-19T20:00:00+00:00",
          "2021-03-19T20:30:00+00:00",
          "2021-03-19T21:00:00+00:00",
          "2021-03-19T21:30:00+00:00",
          "2021-03-19T22:00:00+00:00",
          "2021-03-19T22:30:00+00:00",
          "2021-03-19T23:00:00+00:00",
          "2021-03-19T23:30:00+00:00",
          "2021-03-20T00:00:00+00:00",
          "2021-03-20T00:30:00+00:00",
          "2021-03-20T01:00:00+00:00",
          "2021-03-20T01:30:00+00:00",
          "2021-03-20T02:00:00+00:00",
          "2021-03-20T02:30:00+00:00",
          "2021-03-20T03:00:00+00:00",
          "2021-03-20T03:30:00+00:00",
          "2021-03-20T04:00:00+00:00",
          "2021-03-20T04:30:00+00:00",
          "2021-03-20T05:00:00+00:00",
          "2021-03-20T05:30:00+00:00",
          "2021-03-20T06:00:00+00:00",
          "2021-03-20T06:30:00+00:00",
          "2021-03-20T07:00:00+00:00",
          "2021-03-20T07:30:00+00:00",
          "2021-03-20T08:00:00+00:00",
          "2021-03-20T08:30:00+00:00",
          "2021-03-20T09:00:00+00:00",
          "2021-03-20T09:30:00+00:00",
          "2021-03-20T10:00:00+00:00",
          "2021-03-20T10:30:00+00:00",
          "2021-03-20T11:00:00+00:00",
          "2021-03-20T11:30:00+00:00",
          "2021-03-20T12:00:00+00:00",
          "2021-03-20T12:30:00+00:00",
          "2021-03-20T13:00:00+00:00",
          "2021-03-20T13:30:00+00:00",
          "2021-03-20T14:00:00+00:00",
          "2021-03-20T14:30:00+00:00",
          "2021-03-20T15:00:00+00:00",
          "2021-03-20T15:30:00+00:00",
          "2021-03-20T16:00:00+00:00",
          "2021-03-20T16:30:00+00:00",
          "2021-03-20T17:00:00+00:00",
          "2021-03-20T17:30:00+00:00",
          "2021-03-20T18:00:00+00:00",
          "2021-03-20T18:30:00+00:00",
          "2021-03-20T19:00:00+00:00",
          "2021-03-20T19:30:00+00:00",
          "2021-03-20T20:00:00+00:00",
          "2021-03-20T20:30:00+00:00",
          "2021-03-20T21:00:00+00:00",
          "2021-03-20T21:30:00+00:00",
          "2021-03-20T22:00:00+00:00",
          "2021-03-20T22:30:00+00:00",
          "2021-03-20T23:00:00+00:00",
          "2021-03-20T23:30:00+00:00",
          "2021-03-21T00:00:00+00:00",
          "2021-03-21T00:30:00+00:00",
          "2021-03-21T01:00:00+00:00",
          "2021-03-21T01:30:00+00:00",
          "2021-03-21T02:00:00+00:00",
          "2021-03-21T02:30:00+00:00",
          "2021-03-21T03:00:00+00:00",
          "2021-03-21T03:30:00+00:00",
          "2021-03-21T04:00:00+00:00",
          "2021-03-21T04:30:00+00:00",
          "2021-03-21T05:00:00+00:00",
          "2021-03-21T05:30:00+00:00",
          "2021-03-21T06:00:00+00:00",
          "2021-03-21T06:30:00+00:00",
          "2021-03-21T07:00:00+00:00",
          "2021-03-21T07:30:00+00:00",
          "2021-03-21T08:00:00+00:00",
          "2021-03-21T08:30:00+00:00",
          "2021-03-21T09:00:00+00:00",
          "2021-03-21T09:30:00+00:00",
          "2021-03-21T10:00:00+00:00",
          "2021-03-21T10:30:00+00:00",
          "2021-03-21T11:00:00+00:00",
          "2021-03-21T11:30:00+00:00",
          "2021-03-21T12:00:00+00:00",
          "2021-03-21T12:30:00+00:00",
          "2021-03-21T13:00:00+00:00",
          "2021-03-21T13:30:00+00:00",
          "2021-03-21T14:00:00+00:00",
          "2021-03-21T14:30:00+00:00",
          "2021-03-21T15:00:00+00:00",
          "2021-03-21T15:30:00+00:00",
          "2021-03-21T16:00:00+00:00",
          "2021-03-21T16:30:00+00:00",
          "2021-03-21T17:00:00+00:00",
          "2021-03-21T17:30:00+00:00",
          "2021-03-21T18:00:00+00:00",
          "2021-03-21T18:30:00+00:00",
          "2021-03-21T19:00:00+00:00",
          "2021-03-21T19:30:00+00:00",
          "2021-03-21T20:00:00+00:00",
          "2021-03-21T20:30:00+00:00",
          "2021-03-21T21:00:00+00:00",
          "2021-03-21T21:30:00+00:00",
          "2021-03-21T22:00:00+00:00",
          "2021-03-21T22:30:00+00:00",
          "2021-03-21T23:00:00+00:00",
          "2021-03-21T23:30:00+00:00",
          "2021-03-22T00:00:00+00:00",
          "2021-03-22T00:30:00+00:00",
          "2021-03-22T01:00:00+00:00",
          "2021-03-22T01:30:00+00:00",
          "2021-03-22T02:00:00+00:00",
          "2021-03-22T02:30:00+00:00",
          "2021-03-22T03:00:00+00:00",
          "2021-03-22T03:30:00+00:00",
          "2021-03-22T04:00:00+00:00",
          "2021-03-22T04:30:00+00:00",
          "2021-03-22T05:00:00+00:00",
          "2021-03-22T05:30:00+00:00",
          "2021-03-22T06:00:00+00:00",
          "2021-03-22T06:30:00+00:00",
          "2021-03-22T07:00:00+00:00",
          "2021-03-22T07:30:00+00:00",
          "2021-03-22T08:00:00+00:00",
          "2021-03-22T08:30:00+00:00",
          "2021-03-22T09:00:00+00:00",
          "2021-03-22T09:30:00+00:00",
          "2021-03-22T10:00:00+00:00",
          "2021-03-22T10:30:00+00:00",
          "2021-03-22T11:00:00+00:00",
          "2021-03-22T11:30:00+00:00",
          "2021-03-22T12:00:00+00:00",
          "2021-03-22T12:30:00+00:00",
          "2021-03-22T13:00:00+00:00",
          "2021-03-22T13:30:00+00:00",
          "2021-03-22T14:00:00+00:00",
          "2021-03-22T14:30:00+00:00",
          "2021-03-22T15:00:00+00:00",
          "2021-03-22T15:30:00+00:00",
          "2021-03-22T16:00:00+00:00",
          "2021-03-22T16:30:00+00:00",
          "2021-03-22T17:00:00+00:00",
          "2021-03-22T17:30:00+00:00",
          "2021-03-22T18:00:00+00:00",
          "2021-03-22T18:30:00+00:00",
          "2021-03-22T19:00:00+00:00",
          "2021-03-22T19:30:00+00:00",
          "2021-03-22T20:00:00+00:00",
          "2021-03-22T20:30:00+00:00",
          "2021-03-22T21:00:00+00:00",
          "2021-03-22T21:30:00+00:00",
          "2021-03-22T22:00:00+00:00",
          "2021-03-22T22:30:00+00:00",
          "2021-03-22T23:00:00+00:00",
          "2021-03-22T23:30:00+00:00",
          "2021-03-23T00:00:00+00:00",
          "2021-03-23T00:30:00+00:00",
          "2021-03-23T01:00:00+00:00",
          "2021-03-23T01:30:00+00:00",
          "2021-03-23T02:00:00+00:00",
          "2021-03-23T02:30:00+00:00",
          "2021-03-23T03:00:00+00:00",
          "2021-03-23T03:30:00+00:00",
          "2021-03-23T04:00:00+00:00",
          "2021-03-23T04:30:00+00:00",
          "2021-03-23T05:00:00+00:00",
          "2021-03-23T05:30:00+00:00",
          "2021-03-23T06:00:00+00:00",
          "2021-03-23T06:30:00+00:00",
          "2021-03-23T07:00:00+00:00",
          "2021-03-23T07:30:00+00:00",
          "2021-03-23T08:00:00+00:00",
          "2021-03-23T08:30:00+00:00",
          "2021-03-23T09:00:00+00:00",
          "2021-03-23T09:30:00+00:00",
          "2021-03-23T10:00:00+00:00",
          "2021-03-23T10:30:00+00:00",
          "2021-03-23T11:00:00+00:00",
          "2021-03-23T11:30:00+00:00",
          "2021-03-23T12:00:00+00:00",
          "2021-03-23T12:30:00+00:00",
          "2021-03-23T13:00:00+00:00",
          "2021-03-23T13:30:00+00:00",
          "2021-03-23T14:00:00+00:00",
          "2021-03-23T14:30:00+00:00",
          "2021-03-23T15:00:00+00:00",
          "2021-03-23T15:30:00+00:00",
          "2021-03-23T16:00:00+00:00",
          "2021-03-23T16:30:00+00:00",
          "2021-03-23T17:00:00+00:00",
          "2021-03-23T17:30:00+00:00",
          "2021-03-23T18:00:00+00:00",
          "2021-03-23T18:30:00+00:00",
          "2021-03-23T19:00:00+00:00",
          "2021-03-23T19:30:00+00:00",
          "2021-03-23T20:00:00+00:00",
          "2021-03-23T20:30:00+00:00",
          "2021-03-23T21:00:00+00:00",
          "2021-03-23T21:30:00+00:00",
          "2021-03-23T22:00:00+00:00",
          "2021-03-23T22:30:00+00:00",
          "2021-03-23T23:00:00+00:00",
          "2021-03-23T23:30:00+00:00",
          "2021-03-24T00:00:00+00:00",
          "2021-03-24T00:30:00+00:00",
          "2021-03-24T01:00:00+00:00",
          "2021-03-24T01:30:00+00:00",
          "2021-03-24T02:00:00+00:00",
          "2021-03-24T02:30:00+00:00",
          "2021-03-24T03:00:00+00:00",
          "2021-03-24T03:30:00+00:00",
          "2021-03-24T04:00:00+00:00",
          "2021-03-24T04:30:00+00:00",
          "2021-03-24T05:00:00+00:00",
          "2021-03-24T05:30:00+00:00",
          "2021-03-24T06:00:00+00:00",
          "2021-03-24T06:30:00+00:00",
          "2021-03-24T07:00:00+00:00",
          "2021-03-24T07:30:00+00:00",
          "2021-03-24T08:00:00+00:00",
          "2021-03-24T08:30:00+00:00",
          "2021-03-24T09:00:00+00:00",
          "2021-03-24T09:30:00+00:00",
          "2021-03-24T10:00:00+00:00",
          "2021-03-24T10:30:00+00:00",
          "2021-03-24T11:00:00+00:00",
          "2021-03-24T11:30:00+00:00",
          "2021-03-24T12:00:00+00:00",
          "2021-03-24T12:30:00+00:00",
          "2021-03-24T13:00:00+00:00",
          "2021-03-24T13:30:00+00:00",
          "2021-03-24T14:00:00+00:00",
          "2021-03-24T14:30:00+00:00",
          "2021-03-24T15:00:00+00:00",
          "2021-03-24T15:30:00+00:00",
          "2021-03-24T16:00:00+00:00",
          "2021-03-24T16:30:00+00:00",
          "2021-03-24T17:00:00+00:00",
          "2021-03-24T17:30:00+00:00",
          "2021-03-24T18:00:00+00:00",
          "2021-03-24T18:30:00+00:00",
          "2021-03-24T19:00:00+00:00",
          "2021-03-24T19:30:00+00:00",
          "2021-03-24T20:00:00+00:00",
          "2021-03-24T20:30:00+00:00",
          "2021-03-24T21:00:00+00:00",
          "2021-03-24T21:30:00+00:00",
          "2021-03-24T22:00:00+00:00",
          "2021-03-24T22:30:00+00:00",
          "2021-03-24T23:00:00+00:00",
          "2021-03-24T23:30:00+00:00"
         ],
         "xaxis": "x",
         "yaxis": "y"
        },
        {
         "marker": {
          "color": "black"
         },
         "type": "bar",
         "x": [
          "2021-03-19T00:00:00+00:00",
          "2021-03-19T00:30:00+00:00",
          "2021-03-19T01:00:00+00:00",
          "2021-03-19T01:30:00+00:00",
          "2021-03-19T02:00:00+00:00",
          "2021-03-19T02:30:00+00:00",
          "2021-03-19T03:00:00+00:00",
          "2021-03-19T03:30:00+00:00",
          "2021-03-19T04:00:00+00:00",
          "2021-03-19T04:30:00+00:00",
          "2021-03-19T05:00:00+00:00",
          "2021-03-19T05:30:00+00:00",
          "2021-03-19T06:00:00+00:00",
          "2021-03-19T06:30:00+00:00",
          "2021-03-19T07:00:00+00:00",
          "2021-03-19T07:30:00+00:00",
          "2021-03-19T08:00:00+00:00",
          "2021-03-19T08:30:00+00:00",
          "2021-03-19T09:00:00+00:00",
          "2021-03-19T09:30:00+00:00",
          "2021-03-19T10:00:00+00:00",
          "2021-03-19T10:30:00+00:00",
          "2021-03-19T11:00:00+00:00",
          "2021-03-19T11:30:00+00:00",
          "2021-03-19T12:00:00+00:00",
          "2021-03-19T12:30:00+00:00",
          "2021-03-19T13:00:00+00:00",
          "2021-03-19T13:30:00+00:00",
          "2021-03-19T14:00:00+00:00",
          "2021-03-19T14:30:00+00:00",
          "2021-03-19T15:00:00+00:00",
          "2021-03-19T15:30:00+00:00",
          "2021-03-19T16:00:00+00:00",
          "2021-03-19T16:30:00+00:00",
          "2021-03-19T17:00:00+00:00",
          "2021-03-19T17:30:00+00:00",
          "2021-03-19T18:00:00+00:00",
          "2021-03-19T18:30:00+00:00",
          "2021-03-19T19:00:00+00:00",
          "2021-03-19T19:30:00+00:00",
          "2021-03-19T20:00:00+00:00",
          "2021-03-19T20:30:00+00:00",
          "2021-03-19T21:00:00+00:00",
          "2021-03-19T21:30:00+00:00",
          "2021-03-19T22:00:00+00:00",
          "2021-03-19T22:30:00+00:00",
          "2021-03-19T23:00:00+00:00",
          "2021-03-19T23:30:00+00:00",
          "2021-03-20T00:00:00+00:00",
          "2021-03-20T00:30:00+00:00",
          "2021-03-20T01:00:00+00:00",
          "2021-03-20T01:30:00+00:00",
          "2021-03-20T02:00:00+00:00",
          "2021-03-20T02:30:00+00:00",
          "2021-03-20T03:00:00+00:00",
          "2021-03-20T03:30:00+00:00",
          "2021-03-20T04:00:00+00:00",
          "2021-03-20T04:30:00+00:00",
          "2021-03-20T05:00:00+00:00",
          "2021-03-20T05:30:00+00:00",
          "2021-03-20T06:00:00+00:00",
          "2021-03-20T06:30:00+00:00",
          "2021-03-20T07:00:00+00:00",
          "2021-03-20T07:30:00+00:00",
          "2021-03-20T08:00:00+00:00",
          "2021-03-20T08:30:00+00:00",
          "2021-03-20T09:00:00+00:00",
          "2021-03-20T09:30:00+00:00",
          "2021-03-20T10:00:00+00:00",
          "2021-03-20T10:30:00+00:00",
          "2021-03-20T11:00:00+00:00",
          "2021-03-20T11:30:00+00:00",
          "2021-03-20T12:00:00+00:00",
          "2021-03-20T12:30:00+00:00",
          "2021-03-20T13:00:00+00:00",
          "2021-03-20T13:30:00+00:00",
          "2021-03-20T14:00:00+00:00",
          "2021-03-20T14:30:00+00:00",
          "2021-03-20T15:00:00+00:00",
          "2021-03-20T15:30:00+00:00",
          "2021-03-20T16:00:00+00:00",
          "2021-03-20T16:30:00+00:00",
          "2021-03-20T17:00:00+00:00",
          "2021-03-20T17:30:00+00:00",
          "2021-03-20T18:00:00+00:00",
          "2021-03-20T18:30:00+00:00",
          "2021-03-20T19:00:00+00:00",
          "2021-03-20T19:30:00+00:00",
          "2021-03-20T20:00:00+00:00",
          "2021-03-20T20:30:00+00:00",
          "2021-03-20T21:00:00+00:00",
          "2021-03-20T21:30:00+00:00",
          "2021-03-20T22:00:00+00:00",
          "2021-03-20T22:30:00+00:00",
          "2021-03-20T23:00:00+00:00",
          "2021-03-20T23:30:00+00:00",
          "2021-03-21T00:00:00+00:00",
          "2021-03-21T00:30:00+00:00",
          "2021-03-21T01:00:00+00:00",
          "2021-03-21T01:30:00+00:00",
          "2021-03-21T02:00:00+00:00",
          "2021-03-21T02:30:00+00:00",
          "2021-03-21T03:00:00+00:00",
          "2021-03-21T03:30:00+00:00",
          "2021-03-21T04:00:00+00:00",
          "2021-03-21T04:30:00+00:00",
          "2021-03-21T05:00:00+00:00",
          "2021-03-21T05:30:00+00:00",
          "2021-03-21T06:00:00+00:00",
          "2021-03-21T06:30:00+00:00",
          "2021-03-21T07:00:00+00:00",
          "2021-03-21T07:30:00+00:00",
          "2021-03-21T08:00:00+00:00",
          "2021-03-21T08:30:00+00:00",
          "2021-03-21T09:00:00+00:00",
          "2021-03-21T09:30:00+00:00",
          "2021-03-21T10:00:00+00:00",
          "2021-03-21T10:30:00+00:00",
          "2021-03-21T11:00:00+00:00",
          "2021-03-21T11:30:00+00:00",
          "2021-03-21T12:00:00+00:00",
          "2021-03-21T12:30:00+00:00",
          "2021-03-21T13:00:00+00:00",
          "2021-03-21T13:30:00+00:00",
          "2021-03-21T14:00:00+00:00",
          "2021-03-21T14:30:00+00:00",
          "2021-03-21T15:00:00+00:00",
          "2021-03-21T15:30:00+00:00",
          "2021-03-21T16:00:00+00:00",
          "2021-03-21T16:30:00+00:00",
          "2021-03-21T17:00:00+00:00",
          "2021-03-21T17:30:00+00:00",
          "2021-03-21T18:00:00+00:00",
          "2021-03-21T18:30:00+00:00",
          "2021-03-21T19:00:00+00:00",
          "2021-03-21T19:30:00+00:00",
          "2021-03-21T20:00:00+00:00",
          "2021-03-21T20:30:00+00:00",
          "2021-03-21T21:00:00+00:00",
          "2021-03-21T21:30:00+00:00",
          "2021-03-21T22:00:00+00:00",
          "2021-03-21T22:30:00+00:00",
          "2021-03-21T23:00:00+00:00",
          "2021-03-21T23:30:00+00:00",
          "2021-03-22T00:00:00+00:00",
          "2021-03-22T00:30:00+00:00",
          "2021-03-22T01:00:00+00:00",
          "2021-03-22T01:30:00+00:00",
          "2021-03-22T02:00:00+00:00",
          "2021-03-22T02:30:00+00:00",
          "2021-03-22T03:00:00+00:00",
          "2021-03-22T03:30:00+00:00",
          "2021-03-22T04:00:00+00:00",
          "2021-03-22T04:30:00+00:00",
          "2021-03-22T05:00:00+00:00",
          "2021-03-22T05:30:00+00:00",
          "2021-03-22T06:00:00+00:00",
          "2021-03-22T06:30:00+00:00",
          "2021-03-22T07:00:00+00:00",
          "2021-03-22T07:30:00+00:00",
          "2021-03-22T08:00:00+00:00",
          "2021-03-22T08:30:00+00:00",
          "2021-03-22T09:00:00+00:00",
          "2021-03-22T09:30:00+00:00",
          "2021-03-22T10:00:00+00:00",
          "2021-03-22T10:30:00+00:00",
          "2021-03-22T11:00:00+00:00",
          "2021-03-22T11:30:00+00:00",
          "2021-03-22T12:00:00+00:00",
          "2021-03-22T12:30:00+00:00",
          "2021-03-22T13:00:00+00:00",
          "2021-03-22T13:30:00+00:00",
          "2021-03-22T14:00:00+00:00",
          "2021-03-22T14:30:00+00:00",
          "2021-03-22T15:00:00+00:00",
          "2021-03-22T15:30:00+00:00",
          "2021-03-22T16:00:00+00:00",
          "2021-03-22T16:30:00+00:00",
          "2021-03-22T17:00:00+00:00",
          "2021-03-22T17:30:00+00:00",
          "2021-03-22T18:00:00+00:00",
          "2021-03-22T18:30:00+00:00",
          "2021-03-22T19:00:00+00:00",
          "2021-03-22T19:30:00+00:00",
          "2021-03-22T20:00:00+00:00",
          "2021-03-22T20:30:00+00:00",
          "2021-03-22T21:00:00+00:00",
          "2021-03-22T21:30:00+00:00",
          "2021-03-22T22:00:00+00:00",
          "2021-03-22T22:30:00+00:00",
          "2021-03-22T23:00:00+00:00",
          "2021-03-22T23:30:00+00:00",
          "2021-03-23T00:00:00+00:00",
          "2021-03-23T00:30:00+00:00",
          "2021-03-23T01:00:00+00:00",
          "2021-03-23T01:30:00+00:00",
          "2021-03-23T02:00:00+00:00",
          "2021-03-23T02:30:00+00:00",
          "2021-03-23T03:00:00+00:00",
          "2021-03-23T03:30:00+00:00",
          "2021-03-23T04:00:00+00:00",
          "2021-03-23T04:30:00+00:00",
          "2021-03-23T05:00:00+00:00",
          "2021-03-23T05:30:00+00:00",
          "2021-03-23T06:00:00+00:00",
          "2021-03-23T06:30:00+00:00",
          "2021-03-23T07:00:00+00:00",
          "2021-03-23T07:30:00+00:00",
          "2021-03-23T08:00:00+00:00",
          "2021-03-23T08:30:00+00:00",
          "2021-03-23T09:00:00+00:00",
          "2021-03-23T09:30:00+00:00",
          "2021-03-23T10:00:00+00:00",
          "2021-03-23T10:30:00+00:00",
          "2021-03-23T11:00:00+00:00",
          "2021-03-23T11:30:00+00:00",
          "2021-03-23T12:00:00+00:00",
          "2021-03-23T12:30:00+00:00",
          "2021-03-23T13:00:00+00:00",
          "2021-03-23T13:30:00+00:00",
          "2021-03-23T14:00:00+00:00",
          "2021-03-23T14:30:00+00:00",
          "2021-03-23T15:00:00+00:00",
          "2021-03-23T15:30:00+00:00",
          "2021-03-23T16:00:00+00:00",
          "2021-03-23T16:30:00+00:00",
          "2021-03-23T17:00:00+00:00",
          "2021-03-23T17:30:00+00:00",
          "2021-03-23T18:00:00+00:00",
          "2021-03-23T18:30:00+00:00",
          "2021-03-23T19:00:00+00:00",
          "2021-03-23T19:30:00+00:00",
          "2021-03-23T20:00:00+00:00",
          "2021-03-23T20:30:00+00:00",
          "2021-03-23T21:00:00+00:00",
          "2021-03-23T21:30:00+00:00",
          "2021-03-23T22:00:00+00:00",
          "2021-03-23T22:30:00+00:00",
          "2021-03-23T23:00:00+00:00",
          "2021-03-23T23:30:00+00:00",
          "2021-03-24T00:00:00+00:00",
          "2021-03-24T00:30:00+00:00",
          "2021-03-24T01:00:00+00:00",
          "2021-03-24T01:30:00+00:00",
          "2021-03-24T02:00:00+00:00",
          "2021-03-24T02:30:00+00:00",
          "2021-03-24T03:00:00+00:00",
          "2021-03-24T03:30:00+00:00",
          "2021-03-24T04:00:00+00:00",
          "2021-03-24T04:30:00+00:00",
          "2021-03-24T05:00:00+00:00",
          "2021-03-24T05:30:00+00:00",
          "2021-03-24T06:00:00+00:00",
          "2021-03-24T06:30:00+00:00",
          "2021-03-24T07:00:00+00:00",
          "2021-03-24T07:30:00+00:00",
          "2021-03-24T08:00:00+00:00",
          "2021-03-24T08:30:00+00:00",
          "2021-03-24T09:00:00+00:00",
          "2021-03-24T09:30:00+00:00",
          "2021-03-24T10:00:00+00:00",
          "2021-03-24T10:30:00+00:00",
          "2021-03-24T11:00:00+00:00",
          "2021-03-24T11:30:00+00:00",
          "2021-03-24T12:00:00+00:00",
          "2021-03-24T12:30:00+00:00",
          "2021-03-24T13:00:00+00:00",
          "2021-03-24T13:30:00+00:00",
          "2021-03-24T14:00:00+00:00",
          "2021-03-24T14:30:00+00:00",
          "2021-03-24T15:00:00+00:00",
          "2021-03-24T15:30:00+00:00",
          "2021-03-24T16:00:00+00:00",
          "2021-03-24T16:30:00+00:00",
          "2021-03-24T17:00:00+00:00",
          "2021-03-24T17:30:00+00:00",
          "2021-03-24T18:00:00+00:00",
          "2021-03-24T18:30:00+00:00",
          "2021-03-24T19:00:00+00:00",
          "2021-03-24T19:30:00+00:00",
          "2021-03-24T20:00:00+00:00",
          "2021-03-24T20:30:00+00:00",
          "2021-03-24T21:00:00+00:00",
          "2021-03-24T21:30:00+00:00",
          "2021-03-24T22:00:00+00:00",
          "2021-03-24T22:30:00+00:00",
          "2021-03-24T23:00:00+00:00",
          "2021-03-24T23:30:00+00:00"
         ],
         "xaxis": "x2",
         "y": [
          103635968,
          224413696,
          91043840,
          89996288,
          13082624,
          22910976,
          41623552,
          42418176,
          30824448,
          3239936,
          26030080,
          74893312,
          432407552,
          25787392,
          42489856,
          36087808,
          173263872,
          69682176,
          8842240,
          3205120,
          33077248,
          30528512,
          0,
          0,
          100601856,
          77193216,
          1855488,
          5550080,
          32401408,
          70970368,
          0,
          0,
          0,
          0,
          1461248,
          0,
          205739008,
          42104320,
          33760256,
          72613376,
          0,
          11345408,
          25180160,
          31693824,
          45552640,
          0,
          22039040,
          11222016,
          0,
          0,
          0,
          55947264,
          13603840,
          4929536,
          2500608,
          2627072,
          44897792,
          56832,
          13167104,
          9265152,
          0,
          0,
          7171584,
          28155392,
          17480192,
          0,
          0,
          0,
          0,
          0,
          0,
          8729600,
          0,
          0,
          1244672,
          0,
          10583040,
          0,
          1136128,
          7278080,
          0,
          4664832,
          11229696,
          45402624,
          0,
          0,
          1167360,
          0,
          0,
          0,
          0,
          3075584,
          230912,
          39905792,
          0,
          27220224,
          106213376,
          69069824,
          84270592,
          0,
          8435712,
          32550400,
          21321216,
          32887808,
          15384576,
          43585536,
          1977344,
          34990592,
          16558592,
          21103616,
          8923136,
          7809024,
          6512128,
          5334016,
          1692160,
          41680896,
          49132544,
          21756416,
          55236096,
          19154944,
          70132736,
          45148672,
          59539968,
          49282048,
          1523712,
          54530048,
          30662656,
          10744320,
          14727168,
          2463232,
          1995264,
          3743232,
          2906624,
          19233792,
          1311232,
          11307008,
          4949504,
          1483776,
          8335360,
          10044928,
          0,
          0,
          0,
          2221056,
          0,
          767744,
          2279168,
          5164544,
          8866560,
          0,
          9396224,
          399872,
          1681408,
          0,
          7076352,
          10799616,
          8743424,
          0,
          6593792,
          14723328,
          0,
          16085248,
          22718720,
          0,
          14832640,
          489728,
          847872,
          0,
          0,
          8847360,
          5648384,
          18939136,
          34026496,
          0,
          489728,
          751104,
          1373440,
          21529088,
          6131968,
          16921856,
          11441920,
          21847296,
          64086272,
          66681856,
          46298112,
          341174528,
          177759232,
          77244416,
          112929792,
          83992320,
          65124608,
          43373824,
          82263040,
          46103552,
          66309120,
          88088832,
          17113088,
          27220992,
          15416320,
          27148800,
          15502848,
          66708480,
          28851712,
          76009984,
          77189632,
          73351168,
          99731968,
          60935168,
          39802368,
          39716864,
          22976000,
          30742528,
          20417024,
          30751744,
          24763904,
          31657472,
          47703552,
          37011456,
          111874560,
          19635712,
          1820672,
          67702784,
          29604864,
          25378816,
          48946688,
          2873856,
          22381056,
          15784448,
          14872576,
          16108032,
          16643584,
          7204864,
          46792704,
          0,
          0,
          9489920,
          0,
          4286976,
          0,
          17113600,
          6588928,
          4806656,
          8480256,
          2962944,
          0,
          0,
          6354944,
          10124288,
          12955648,
          0,
          1256960,
          0,
          0,
          30513408,
          35619072,
          1462784,
          48094720,
          13511936,
          380261376,
          0,
          2146304,
          4029696,
          0,
          345088,
          5790208,
          1423872,
          0,
          766464,
          0,
          0,
          0,
          26706176,
          0,
          0,
          9028352,
          6664960,
          300800,
          0,
          8911616,
          12359936,
          11311360,
          57433088,
          6610944,
          3607552,
          85187584,
          140293632,
          68993024,
          31758080
         ],
         "yaxis": "y2"
        }
       ],
       "layout": {
        "hoverdistance": 100,
        "hovermode": "x",
        "plot_bgcolor": "#FFFFFF",
        "spikedistance": -1,
        "template": {
         "data": {
          "bar": [
           {
            "error_x": {
             "color": "#2a3f5f"
            },
            "error_y": {
             "color": "#2a3f5f"
            },
            "marker": {
             "line": {
              "color": "#E5ECF6",
              "width": 0.5
             }
            },
            "type": "bar"
           }
          ],
          "barpolar": [
           {
            "marker": {
             "line": {
              "color": "#E5ECF6",
              "width": 0.5
             }
            },
            "type": "barpolar"
           }
          ],
          "carpet": [
           {
            "aaxis": {
             "endlinecolor": "#2a3f5f",
             "gridcolor": "white",
             "linecolor": "white",
             "minorgridcolor": "white",
             "startlinecolor": "#2a3f5f"
            },
            "baxis": {
             "endlinecolor": "#2a3f5f",
             "gridcolor": "white",
             "linecolor": "white",
             "minorgridcolor": "white",
             "startlinecolor": "#2a3f5f"
            },
            "type": "carpet"
           }
          ],
          "choropleth": [
           {
            "colorbar": {
             "outlinewidth": 0,
             "ticks": ""
            },
            "type": "choropleth"
           }
          ],
          "contour": [
           {
            "colorbar": {
             "outlinewidth": 0,
             "ticks": ""
            },
            "colorscale": [
             [
              0,
              "#0d0887"
             ],
             [
              0.1111111111111111,
              "#46039f"
             ],
             [
              0.2222222222222222,
              "#7201a8"
             ],
             [
              0.3333333333333333,
              "#9c179e"
             ],
             [
              0.4444444444444444,
              "#bd3786"
             ],
             [
              0.5555555555555556,
              "#d8576b"
             ],
             [
              0.6666666666666666,
              "#ed7953"
             ],
             [
              0.7777777777777778,
              "#fb9f3a"
             ],
             [
              0.8888888888888888,
              "#fdca26"
             ],
             [
              1,
              "#f0f921"
             ]
            ],
            "type": "contour"
           }
          ],
          "contourcarpet": [
           {
            "colorbar": {
             "outlinewidth": 0,
             "ticks": ""
            },
            "type": "contourcarpet"
           }
          ],
          "heatmap": [
           {
            "colorbar": {
             "outlinewidth": 0,
             "ticks": ""
            },
            "colorscale": [
             [
              0,
              "#0d0887"
             ],
             [
              0.1111111111111111,
              "#46039f"
             ],
             [
              0.2222222222222222,
              "#7201a8"
             ],
             [
              0.3333333333333333,
              "#9c179e"
             ],
             [
              0.4444444444444444,
              "#bd3786"
             ],
             [
              0.5555555555555556,
              "#d8576b"
             ],
             [
              0.6666666666666666,
              "#ed7953"
             ],
             [
              0.7777777777777778,
              "#fb9f3a"
             ],
             [
              0.8888888888888888,
              "#fdca26"
             ],
             [
              1,
              "#f0f921"
             ]
            ],
            "type": "heatmap"
           }
          ],
          "heatmapgl": [
           {
            "colorbar": {
             "outlinewidth": 0,
             "ticks": ""
            },
            "colorscale": [
             [
              0,
              "#0d0887"
             ],
             [
              0.1111111111111111,
              "#46039f"
             ],
             [
              0.2222222222222222,
              "#7201a8"
             ],
             [
              0.3333333333333333,
              "#9c179e"
             ],
             [
              0.4444444444444444,
              "#bd3786"
             ],
             [
              0.5555555555555556,
              "#d8576b"
             ],
             [
              0.6666666666666666,
              "#ed7953"
             ],
             [
              0.7777777777777778,
              "#fb9f3a"
             ],
             [
              0.8888888888888888,
              "#fdca26"
             ],
             [
              1,
              "#f0f921"
             ]
            ],
            "type": "heatmapgl"
           }
          ],
          "histogram": [
           {
            "marker": {
             "colorbar": {
              "outlinewidth": 0,
              "ticks": ""
             }
            },
            "type": "histogram"
           }
          ],
          "histogram2d": [
           {
            "colorbar": {
             "outlinewidth": 0,
             "ticks": ""
            },
            "colorscale": [
             [
              0,
              "#0d0887"
             ],
             [
              0.1111111111111111,
              "#46039f"
             ],
             [
              0.2222222222222222,
              "#7201a8"
             ],
             [
              0.3333333333333333,
              "#9c179e"
             ],
             [
              0.4444444444444444,
              "#bd3786"
             ],
             [
              0.5555555555555556,
              "#d8576b"
             ],
             [
              0.6666666666666666,
              "#ed7953"
             ],
             [
              0.7777777777777778,
              "#fb9f3a"
             ],
             [
              0.8888888888888888,
              "#fdca26"
             ],
             [
              1,
              "#f0f921"
             ]
            ],
            "type": "histogram2d"
           }
          ],
          "histogram2dcontour": [
           {
            "colorbar": {
             "outlinewidth": 0,
             "ticks": ""
            },
            "colorscale": [
             [
              0,
              "#0d0887"
             ],
             [
              0.1111111111111111,
              "#46039f"
             ],
             [
              0.2222222222222222,
              "#7201a8"
             ],
             [
              0.3333333333333333,
              "#9c179e"
             ],
             [
              0.4444444444444444,
              "#bd3786"
             ],
             [
              0.5555555555555556,
              "#d8576b"
             ],
             [
              0.6666666666666666,
              "#ed7953"
             ],
             [
              0.7777777777777778,
              "#fb9f3a"
             ],
             [
              0.8888888888888888,
              "#fdca26"
             ],
             [
              1,
              "#f0f921"
             ]
            ],
            "type": "histogram2dcontour"
           }
          ],
          "mesh3d": [
           {
            "colorbar": {
             "outlinewidth": 0,
             "ticks": ""
            },
            "type": "mesh3d"
           }
          ],
          "parcoords": [
           {
            "line": {
             "colorbar": {
              "outlinewidth": 0,
              "ticks": ""
             }
            },
            "type": "parcoords"
           }
          ],
          "pie": [
           {
            "automargin": true,
            "type": "pie"
           }
          ],
          "scatter": [
           {
            "marker": {
             "colorbar": {
              "outlinewidth": 0,
              "ticks": ""
             }
            },
            "type": "scatter"
           }
          ],
          "scatter3d": [
           {
            "line": {
             "colorbar": {
              "outlinewidth": 0,
              "ticks": ""
             }
            },
            "marker": {
             "colorbar": {
              "outlinewidth": 0,
              "ticks": ""
             }
            },
            "type": "scatter3d"
           }
          ],
          "scattercarpet": [
           {
            "marker": {
             "colorbar": {
              "outlinewidth": 0,
              "ticks": ""
             }
            },
            "type": "scattercarpet"
           }
          ],
          "scattergeo": [
           {
            "marker": {
             "colorbar": {
              "outlinewidth": 0,
              "ticks": ""
             }
            },
            "type": "scattergeo"
           }
          ],
          "scattergl": [
           {
            "marker": {
             "colorbar": {
              "outlinewidth": 0,
              "ticks": ""
             }
            },
            "type": "scattergl"
           }
          ],
          "scattermapbox": [
           {
            "marker": {
             "colorbar": {
              "outlinewidth": 0,
              "ticks": ""
             }
            },
            "type": "scattermapbox"
           }
          ],
          "scatterpolar": [
           {
            "marker": {
             "colorbar": {
              "outlinewidth": 0,
              "ticks": ""
             }
            },
            "type": "scatterpolar"
           }
          ],
          "scatterpolargl": [
           {
            "marker": {
             "colorbar": {
              "outlinewidth": 0,
              "ticks": ""
             }
            },
            "type": "scatterpolargl"
           }
          ],
          "scatterternary": [
           {
            "marker": {
             "colorbar": {
              "outlinewidth": 0,
              "ticks": ""
             }
            },
            "type": "scatterternary"
           }
          ],
          "surface": [
           {
            "colorbar": {
             "outlinewidth": 0,
             "ticks": ""
            },
            "colorscale": [
             [
              0,
              "#0d0887"
             ],
             [
              0.1111111111111111,
              "#46039f"
             ],
             [
              0.2222222222222222,
              "#7201a8"
             ],
             [
              0.3333333333333333,
              "#9c179e"
             ],
             [
              0.4444444444444444,
              "#bd3786"
             ],
             [
              0.5555555555555556,
              "#d8576b"
             ],
             [
              0.6666666666666666,
              "#ed7953"
             ],
             [
              0.7777777777777778,
              "#fb9f3a"
             ],
             [
              0.8888888888888888,
              "#fdca26"
             ],
             [
              1,
              "#f0f921"
             ]
            ],
            "type": "surface"
           }
          ],
          "table": [
           {
            "cells": {
             "fill": {
              "color": "#EBF0F8"
             },
             "line": {
              "color": "white"
             }
            },
            "header": {
             "fill": {
              "color": "#C8D4E3"
             },
             "line": {
              "color": "white"
             }
            },
            "type": "table"
           }
          ]
         },
         "layout": {
          "annotationdefaults": {
           "arrowcolor": "#2a3f5f",
           "arrowhead": 0,
           "arrowwidth": 1
          },
          "autotypenumbers": "strict",
          "coloraxis": {
           "colorbar": {
            "outlinewidth": 0,
            "ticks": ""
           }
          },
          "colorscale": {
           "diverging": [
            [
             0,
             "#8e0152"
            ],
            [
             0.1,
             "#c51b7d"
            ],
            [
             0.2,
             "#de77ae"
            ],
            [
             0.3,
             "#f1b6da"
            ],
            [
             0.4,
             "#fde0ef"
            ],
            [
             0.5,
             "#f7f7f7"
            ],
            [
             0.6,
             "#e6f5d0"
            ],
            [
             0.7,
             "#b8e186"
            ],
            [
             0.8,
             "#7fbc41"
            ],
            [
             0.9,
             "#4d9221"
            ],
            [
             1,
             "#276419"
            ]
           ],
           "sequential": [
            [
             0,
             "#0d0887"
            ],
            [
             0.1111111111111111,
             "#46039f"
            ],
            [
             0.2222222222222222,
             "#7201a8"
            ],
            [
             0.3333333333333333,
             "#9c179e"
            ],
            [
             0.4444444444444444,
             "#bd3786"
            ],
            [
             0.5555555555555556,
             "#d8576b"
            ],
            [
             0.6666666666666666,
             "#ed7953"
            ],
            [
             0.7777777777777778,
             "#fb9f3a"
            ],
            [
             0.8888888888888888,
             "#fdca26"
            ],
            [
             1,
             "#f0f921"
            ]
           ],
           "sequentialminus": [
            [
             0,
             "#0d0887"
            ],
            [
             0.1111111111111111,
             "#46039f"
            ],
            [
             0.2222222222222222,
             "#7201a8"
            ],
            [
             0.3333333333333333,
             "#9c179e"
            ],
            [
             0.4444444444444444,
             "#bd3786"
            ],
            [
             0.5555555555555556,
             "#d8576b"
            ],
            [
             0.6666666666666666,
             "#ed7953"
            ],
            [
             0.7777777777777778,
             "#fb9f3a"
            ],
            [
             0.8888888888888888,
             "#fdca26"
            ],
            [
             1,
             "#f0f921"
            ]
           ]
          },
          "colorway": [
           "#636efa",
           "#EF553B",
           "#00cc96",
           "#ab63fa",
           "#FFA15A",
           "#19d3f3",
           "#FF6692",
           "#B6E880",
           "#FF97FF",
           "#FECB52"
          ],
          "font": {
           "color": "#2a3f5f"
          },
          "geo": {
           "bgcolor": "white",
           "lakecolor": "white",
           "landcolor": "#E5ECF6",
           "showlakes": true,
           "showland": true,
           "subunitcolor": "white"
          },
          "hoverlabel": {
           "align": "left"
          },
          "hovermode": "closest",
          "mapbox": {
           "style": "light"
          },
          "paper_bgcolor": "white",
          "plot_bgcolor": "#E5ECF6",
          "polar": {
           "angularaxis": {
            "gridcolor": "white",
            "linecolor": "white",
            "ticks": ""
           },
           "bgcolor": "#E5ECF6",
           "radialaxis": {
            "gridcolor": "white",
            "linecolor": "white",
            "ticks": ""
           }
          },
          "scene": {
           "xaxis": {
            "backgroundcolor": "#E5ECF6",
            "gridcolor": "white",
            "gridwidth": 2,
            "linecolor": "white",
            "showbackground": true,
            "ticks": "",
            "zerolinecolor": "white"
           },
           "yaxis": {
            "backgroundcolor": "#E5ECF6",
            "gridcolor": "white",
            "gridwidth": 2,
            "linecolor": "white",
            "showbackground": true,
            "ticks": "",
            "zerolinecolor": "white"
           },
           "zaxis": {
            "backgroundcolor": "#E5ECF6",
            "gridcolor": "white",
            "gridwidth": 2,
            "linecolor": "white",
            "showbackground": true,
            "ticks": "",
            "zerolinecolor": "white"
           }
          },
          "shapedefaults": {
           "line": {
            "color": "#2a3f5f"
           }
          },
          "ternary": {
           "aaxis": {
            "gridcolor": "white",
            "linecolor": "white",
            "ticks": ""
           },
           "baxis": {
            "gridcolor": "white",
            "linecolor": "white",
            "ticks": ""
           },
           "bgcolor": "#E5ECF6",
           "caxis": {
            "gridcolor": "white",
            "linecolor": "white",
            "ticks": ""
           }
          },
          "title": {
           "x": 0.05
          },
          "xaxis": {
           "automargin": true,
           "gridcolor": "white",
           "linecolor": "white",
           "ticks": "",
           "title": {
            "standoff": 15
           },
           "zerolinecolor": "white",
           "zerolinewidth": 2
          },
          "yaxis": {
           "automargin": true,
           "gridcolor": "white",
           "linecolor": "white",
           "ticks": "",
           "title": {
            "standoff": 15
           },
           "zerolinecolor": "white",
           "zerolinewidth": 2
          }
         }
        },
        "title": {
         "text": "Trend"
        },
        "xaxis": {
         "anchor": "y",
         "domain": [
          0,
          1
         ],
         "linecolor": "#BCCCDC",
         "matches": "x2",
         "rangeslider": {
          "visible": false
         },
         "showticklabels": false,
         "spikecolor": "#999999",
         "spikedash": "dot",
         "spikemode": "toaxis+across",
         "spikethickness": 2
        },
        "xaxis2": {
         "anchor": "y2",
         "domain": [
          0,
          1
         ]
        },
        "yaxis": {
         "anchor": "x",
         "domain": [
          0.216,
          1
         ],
         "linecolor": "#BCCCDC",
         "title": {
          "text": "Price"
         }
        },
        "yaxis2": {
         "anchor": "x2",
         "domain": [
          0,
          0.196
         ],
         "linecolor": "#BCCCDC",
         "title": {
          "text": "Volume"
         }
        }
       }
      },
      "text/html": [
       "<div>                            <div id=\"f98d95ba-f49d-4b80-af2c-2e28f29d5758\" class=\"plotly-graph-div\" style=\"height:525px; width:100%;\"></div>            <script type=\"text/javascript\">                require([\"plotly\"], function(Plotly) {                    window.PLOTLYENV=window.PLOTLYENV || {};                                    if (document.getElementById(\"f98d95ba-f49d-4b80-af2c-2e28f29d5758\")) {                    Plotly.newPlot(                        \"f98d95ba-f49d-4b80-af2c-2e28f29d5758\",                        [{\"close\": [1.2086583375930786, 1.2386935949325562, 1.243688941001892, 1.2556465864181519, 1.2375729084014893, 1.225583553314209, 1.2323718070983887, 1.2413023710250854, 1.242719292640686, 1.2309415340423584, 1.240169644355774, 1.2644363641738892, 1.2534064054489136, 1.2492327690124512, 1.2565909624099731, 1.2616794109344482, 1.2863889932632446, 1.2743369340896606, 1.2654038667678833, 1.2559895515441895, 1.2496882677078247, 1.263880968093872, 1.2578661441802979, 1.2616307735443115, 1.2864645719528198, 1.2909754514694214, 1.2856565713882446, 1.277906060218811, 1.2738494873046875, 1.2878153324127197, 1.2823973894119263, 1.285056233406067, 1.2696783542633057, 1.2571988105773926, 1.263320803642273, 1.271335482597351, 1.298274278640747, 1.3061563968658447, 1.3211268186569214, 1.3406955003738403, 1.3126790523529053, 1.3149410486221313, 1.3286255598068237, 1.3245927095413208, 1.3303343057632446, 1.3331679105758667, 1.3002233505249023, 1.3020999431610107, 1.3085139989852905, 1.313057541847229, 1.2968801259994507, 1.2814972400665283, 1.2894175052642822, 1.2903668880462646, 1.2813091278076172, 1.2777851819992065, 1.2667382955551147, 1.2666499614715576, 1.269741415977478, 1.2724266052246094, 1.2662596702575684, 1.2640578746795654, 1.262128472328186, 1.2674673795700073, 1.2770025730133057, 1.278903841972351, 1.2730647325515747, 1.2699089050292969, 1.2769109010696411, 1.2747386693954468, 1.2741405963897705, 1.2715774774551392, 1.2633028030395508, 1.2707234621047974, 1.2654370069503784, 1.2591664791107178, 1.2637457847595215, 1.265405297279358, 1.2620885372161865, 1.2606079578399658, 1.2431622743606567, 1.2375741004943848, 1.2495287656784058, 1.244971513748169, 1.2449506521224976, 1.243672251701355, 1.2545760869979858, 1.2528870105743408, 1.2412739992141724, 1.235361099243164, 1.2414650917053223, 1.2396836280822754, 1.231848955154419, 1.2332199811935425, 1.2230987548828125, 1.2071583271026611, 1.225826621055603, 1.2272831201553345, 1.243876338005066, 1.2343374490737915, 1.2214473485946655, 1.2142690420150757, 1.2269585132598877, 1.2291309833526611, 1.219129204750061, 1.2102155685424805, 1.2072014808654785, 1.2061561346054077, 1.207495927810669, 1.2051856517791748, 1.2109553813934326, 1.211561918258667, 1.2159011363983154, 1.2137787342071533, 1.2140904664993286, 1.1994596719741821, 1.2024940252304077, 1.1936110258102417, 1.1906707286834717, 1.1866382360458374, 1.1652361154556274, 1.178572416305542, 1.203688144683838, 1.200581431388855, 1.2023484706878662, 1.2107350826263428, 1.218583583831787, 1.205021619796753, 1.207617998123169, 1.2021492719650269, 1.2029777765274048, 1.206252098083496, 1.2081446647644043, 1.2145310640335083, 1.205342411994934, 1.2016479969024658, 1.1962915658950806, 1.1981050968170166, 1.2027466297149658, 1.2059433460235596, 1.196385145187378, 1.1958378553390503, 1.1881037950515747, 1.1892081499099731, 1.1764366626739502, 1.1687908172607422, 1.167189359664917, 1.1762946844100952, 1.1833107471466064, 1.1882743835449219, 1.198461890220642, 1.194698691368103, 1.1975747346878052, 1.1949355602264404, 1.195706844329834, 1.1974974870681763, 1.2045700550079346, 1.2053937911987305, 1.2069722414016724, 1.1978123188018799, 1.1899561882019043, 1.1809680461883545, 1.1851609945297241, 1.1860237121582031, 1.197693943977356, 1.1963411569595337, 1.1944960355758667, 1.192823052406311, 1.1835741996765137, 1.1845405101776123, 1.1866466999053955, 1.1851576566696167, 1.1837358474731445, 1.1858201026916504, 1.1845083236694336, 1.181800365447998, 1.1779810190200806, 1.1803439855575562, 1.1789571046829224, 1.1825995445251465, 1.1763688325881958, 1.1743115186691284, 1.1568254232406616, 1.1603025197982788, 1.1483370065689087, 1.1110979318618774, 1.123583436012268, 1.1259310245513916, 1.1121771335601807, 1.116731882095337, 1.1135718822479248, 1.1099036931991577, 1.1162604093551636, 1.1258296966552734, 1.1443754434585571, 1.1510014533996582, 1.140393853187561, 1.136193037033081, 1.1320255994796753, 1.1310534477233887, 1.1264888048171997, 1.1256663799285889, 1.111303448677063, 1.114331603050232, 1.1010345220565796, 1.088841199874878, 1.1128634214401245, 1.1256330013275146, 1.122735857963562, 1.1362426280975342, 1.1349469423294067, 1.1394685506820679, 1.137328863143921, 1.1433662176132202, 1.1451092958450317, 1.1282743215560913, 1.149325966835022, 1.158623456954956, 1.1641372442245483, 1.1622045040130615, 1.1514617204666138, 1.157859444618225, 1.1616952419281006, 1.1606429815292358, 1.1633720397949219, 1.1563122272491455, 1.153686761856079, 1.1512736082077026, 1.1485711336135864, 1.1444417238235474, 1.1220555305480957, 1.1299740076065063, 1.1216094493865967, 1.1098593473434448, 1.1063473224639893, 1.1166801452636719, 1.1262439489364624, 1.1253371238708496, 1.1304147243499756, 1.1216802597045898, 1.1032538414001465, 1.105828046798706, 1.1171172857284546, 1.1152385473251343, 1.114445686340332, 1.1140750646591187, 1.1094369888305664, 1.108932614326477, 1.1136844158172607, 1.1112364530563354, 1.1117054224014282, 1.1138346195220947, 1.1130248308181763, 1.1305577754974365, 1.1364598274230957, 1.1426891088485718, 1.1549371480941772, 1.1484344005584717, 1.1600258350372314, 1.1546947956085205, 1.1485095024108887, 1.1505215167999268, 1.151577353477478, 1.1499660015106201, 1.1591501235961914, 1.1623637676239014, 1.1553857326507568, 1.1508419513702393, 1.1487866640090942, 1.1478462219238281, 1.1373794078826904, 1.1384642124176025, 1.1314916610717773, 1.1326823234558105, 1.1330666542053223, 1.1343415975570679, 1.1341620683670044, 1.120241641998291, 1.1187700033187866, 1.1095768213272095, 1.1049236059188843, 1.1192275285720825, 1.1116693019866943, 1.1061265468597412, 1.0566346645355225, 1.0775967836380005, 1.078033208847046, 1.0751616954803467], \"high\": [1.2385587692260742, 1.24430513381958, 1.2496521472930908, 1.255763292312622, 1.2563703060150146, 1.2398611307144165, 1.2391358613967896, 1.2413023710250854, 1.2430003881454468, 1.2427455186843872, 1.2402729988098145, 1.2644363641738892, 1.2698177099227905, 1.2528696060180664, 1.2588832378387451, 1.2628504037857056, 1.2876099348068237, 1.2899560928344727, 1.2771930694580078, 1.2655059099197388, 1.259087324142456, 1.263880968093872, 1.2671239376068115, 1.2627376317977905, 1.2864645719528198, 1.3021928071975708, 1.2923743724822998, 1.2884196043014526, 1.276700496673584, 1.2878153324127197, 1.2873960733413696, 1.2859011888504028, 1.285501480102539, 1.269845724105835, 1.2638673782348633, 1.2720720767974854, 1.3191050291061401, 1.308785080909729, 1.3221209049224854, 1.3423547744750977, 1.3412206172943115, 1.3267862796783447, 1.336841344833374, 1.3330076932907104, 1.3313558101654053, 1.3347535133361816, 1.3342971801757812, 1.3049874305725098, 1.3085139989852905, 1.3132728338241577, 1.3125311136245728, 1.2986602783203125, 1.2894175052642822, 1.2929664850234985, 1.2902811765670776, 1.2814111709594727, 1.2779284715652466, 1.2672280073165894, 1.2703502178192139, 1.2772115468978882, 1.272159218788147, 1.2672290802001953, 1.2639482021331787, 1.270281434059143, 1.280509114265442, 1.278990387916565, 1.2801117897033691, 1.2732744216918945, 1.2792447805404663, 1.278097152709961, 1.2753812074661255, 1.2743432521820068, 1.2714879512786865, 1.273155927658081, 1.2725945711135864, 1.2655160427093506, 1.2637457847595215, 1.2655986547470093, 1.2663935422897339, 1.2625629901885986, 1.260608434677124, 1.2496488094329834, 1.2508169412612915, 1.2504860162734985, 1.2486039400100708, 1.2461363077163696, 1.2547756433486938, 1.256840705871582, 1.2544441223144531, 1.2410809993743896, 1.2414650917053223, 1.2469171285629272, 1.240949273109436, 1.2336745262145996, 1.2330294847488403, 1.2235201597213745, 1.2264318466186523, 1.2338056564331055, 1.243876338005066, 1.2442816495895386, 1.235424518585205, 1.2219923734664917, 1.2269585132598877, 1.2294032573699951, 1.2293423414230347, 1.2191593647003174, 1.2116553783416748, 1.208985686302185, 1.2085672616958618, 1.2136341333389282, 1.2118595838546753, 1.212133526802063, 1.221224308013916, 1.2163653373718262, 1.2171670198440552, 1.2139990329742432, 1.2041596174240112, 1.202256679534912, 1.1947191953659058, 1.1936931610107422, 1.1869499683380127, 1.1838263273239136, 1.203688144683838, 1.203919529914856, 1.202676773071289, 1.2107350826263428, 1.2187896966934204, 1.2188032865524292, 1.2128804922103882, 1.2075154781341553, 1.2053555250167847, 1.2075119018554688, 1.2089449167251587, 1.216479778289795, 1.2144750356674194, 1.2069519758224487, 1.2031176090240479, 1.1993370056152344, 1.2029465436935425, 1.206552267074585, 1.205675721168518, 1.198390007019043, 1.199141502380371, 1.1908591985702515, 1.1892035007476807, 1.179965615272522, 1.1717126369476318, 1.1762946844100952, 1.1833844184875488, 1.189915657043457, 1.1998544931411743, 1.1992195844650269, 1.2007724046707153, 1.1973031759262085, 1.201808214187622, 1.201088786125183, 1.2046300172805786, 1.2081859111785889, 1.2085498571395874, 1.207021951675415, 1.197713017463684, 1.1902058124542236, 1.1851609945297241, 1.1860237121582031, 1.2004822492599487, 1.2005544900894165, 1.19956636428833, 1.1947088241577148, 1.192756175994873, 1.1848478317260742, 1.1868301630020142, 1.1860687732696533, 1.1903042793273926, 1.1863868236541748, 1.1855345964431763, 1.184602975845337, 1.1835098266601562, 1.1815826892852783, 1.18094003200531, 1.1834077835083008, 1.1827809810638428, 1.176560401916504, 1.1743229627609253, 1.1657602787017822, 1.1596744060516357, 1.148735523223877, 1.1361427307128906, 1.1324483156204224, 1.1253278255462646, 1.116731882095337, 1.126082181930542, 1.119173288345337, 1.1215410232543945, 1.127252459526062, 1.1443754434585571, 1.15475332736969, 1.1509416103363037, 1.1486986875534058, 1.1365851163864136, 1.132284164428711, 1.138124942779541, 1.129370927810669, 1.1259552240371704, 1.1144825220108032, 1.113857388496399, 1.1040674448013306, 1.1128634214401245, 1.1256330013275146, 1.1332955360412598, 1.1365474462509155, 1.138380765914917, 1.1394685506820679, 1.1462732553482056, 1.1436011791229248, 1.148624300956726, 1.1452021598815918, 1.1503185033798218, 1.1591049432754517, 1.1741772890090942, 1.1722384691238403, 1.1638332605361938, 1.1599490642547607, 1.165870189666748, 1.1638284921646118, 1.1633743047714233, 1.1673914194107056, 1.16266667842865, 1.1544243097305298, 1.156577229499817, 1.1504757404327393, 1.1461577415466309, 1.1315330266952515, 1.1302756071090698, 1.125243067741394, 1.1193629503250122, 1.11769700050354, 1.1266734600067139, 1.1369966268539429, 1.1372761726379395, 1.131216049194336, 1.121344804763794, 1.1123735904693604, 1.1171588897705078, 1.119422197341919, 1.1164356470108032, 1.1193279027938843, 1.1161878108978271, 1.1160281896591187, 1.11793851852417, 1.1216617822647095, 1.1117054224014282, 1.1205739974975586, 1.117587924003601, 1.1345568895339966, 1.1431078910827637, 1.1427117586135864, 1.1549371480941772, 1.1560158729553223, 1.1600258350372314, 1.1610894203186035, 1.1560099124908447, 1.1522893905639648, 1.1523219347000122, 1.1515141725540161, 1.1636518239974976, 1.1623637676239014, 1.1630897521972656, 1.1616626977920532, 1.1528891324996948, 1.1499923467636108, 1.1469316482543945, 1.1392457485198975, 1.1431471109390259, 1.1361433267593384, 1.1354217529296875, 1.1375209093093872, 1.137113332748413, 1.1340471506118774, 1.1242091655731201, 1.1187485456466675, 1.111470341682434, 1.119284749031067, 1.118934988975525, 1.1118817329406738, 1.1062169075012207, 1.087864637374878, 1.0811042785644531, 1.0804003477096558], \"low\": [1.1960461139678955, 1.209552526473999, 1.2311137914657593, 1.2377490997314453, 1.2375729084014893, 1.225583553314209, 1.2250741720199585, 1.22874915599823, 1.234452724456787, 1.2298266887664795, 1.2305257320404053, 1.2407962083816528, 1.2514585256576538, 1.247361660003662, 1.2492088079452515, 1.2561308145523071, 1.2619165182113647, 1.273663878440857, 1.2634919881820679, 1.2559895515441895, 1.2458399534225464, 1.2495992183685303, 1.2577403783798218, 1.25845205783844, 1.2618818283081055, 1.2839040756225586, 1.2832177877426147, 1.277052640914917, 1.2664132118225098, 1.2744144201278687, 1.2790051698684692, 1.2767014503479004, 1.267985224723816, 1.256691336631775, 1.2572333812713623, 1.2635785341262817, 1.2695021629333496, 1.2969801425933838, 1.3032227754592896, 1.3106786012649536, 1.3126790523529053, 1.3095790147781372, 1.3151499032974243, 1.3245927095413208, 1.323431372642517, 1.3295198678970337, 1.3002233505249023, 1.2983371019363403, 1.2930514812469482, 1.3075429201126099, 1.2968323230743408, 1.2805944681167603, 1.281606674194336, 1.2851831912994385, 1.2813091278076172, 1.276002049446106, 1.260871410369873, 1.2617254257202148, 1.2631815671920776, 1.2696716785430908, 1.2662596702575684, 1.2640578746795654, 1.2590670585632324, 1.2620596885681152, 1.2676055431365967, 1.276363492012024, 1.2722514867782593, 1.2693346738815308, 1.2697539329528809, 1.2728245258331299, 1.2715147733688354, 1.2706319093704224, 1.2633028030395508, 1.2622662782669067, 1.2648714780807495, 1.259165644645691, 1.2555748224258423, 1.263720989227295, 1.2612887620925903, 1.2587507963180542, 1.2426748275756836, 1.2375218868255615, 1.236767292022705, 1.2443568706512451, 1.2449506521224976, 1.2427185773849487, 1.244003415107727, 1.2519763708114624, 1.2412739992141724, 1.2334237098693848, 1.234413504600525, 1.2396836280822754, 1.231526255607605, 1.2261626720428467, 1.217384934425354, 1.2071583271026611, 1.198407769203186, 1.226470947265625, 1.2247635126113892, 1.234245777130127, 1.2214473485946655, 1.2114152908325195, 1.2142846584320068, 1.2215098142623901, 1.2184927463531494, 1.2039819955825806, 1.2063506841659546, 1.1996148824691772, 1.2022309303283691, 1.2051751613616943, 1.2050325870513916, 1.208317756652832, 1.2120041847229004, 1.213418960571289, 1.2139581441879272, 1.1989434957504272, 1.1975152492523193, 1.1934174299240112, 1.1830483675003052, 1.18349027633667, 1.1647454500198364, 1.1651241779327393, 1.1785926818847656, 1.199573278427124, 1.2000972032546997, 1.2025151252746582, 1.210556149482727, 1.203891396522522, 1.1981428861618042, 1.1990995407104492, 1.2004001140594482, 1.2014867067337036, 1.2061434984207153, 1.2083210945129395, 1.2053176164627075, 1.2016479969024658, 1.1961883306503296, 1.194562554359436, 1.1979379653930664, 1.2006285190582275, 1.1960490942001343, 1.1950567960739136, 1.1881037950515747, 1.1881202459335327, 1.1764366626739502, 1.1685634851455688, 1.1661320924758911, 1.1661572456359863, 1.171213984489441, 1.182637095451355, 1.18855881690979, 1.1923004388809204, 1.1940257549285889, 1.1935501098632812, 1.1953622102737427, 1.1956572532653809, 1.1973563432693481, 1.2039347887039185, 1.2008795738220215, 1.1966195106506348, 1.1896851062774658, 1.1808515787124634, 1.176357626914978, 1.1820772886276245, 1.1863234043121338, 1.196151852607727, 1.1944960355758667, 1.192447543144226, 1.1829177141189575, 1.179758906364441, 1.1823439598083496, 1.1754008531570435, 1.1822439432144165, 1.1813082695007324, 1.181473970413208, 1.180743932723999, 1.1779810190200806, 1.1746842861175537, 1.175732135772705, 1.1786607503890991, 1.1760133504867554, 1.170987844467163, 1.1567795276641846, 1.1566485166549683, 1.1483370065689087, 1.0896276235580444, 1.1080169677734375, 1.122537612915039, 1.1034388542175293, 1.1092132329940796, 1.1131515502929688, 1.1099036931991577, 1.1009527444839478, 1.1167089939117432, 1.1257832050323486, 1.1434457302093506, 1.138852596282959, 1.136193037033081, 1.1317107677459717, 1.1275819540023804, 1.1264888048171997, 1.118575096130371, 1.111303448677063, 1.1074906587600708, 1.0950452089309692, 1.0884873867034912, 1.088027000427246, 1.112839937210083, 1.120945930480957, 1.122397541999817, 1.1320463418960571, 1.1331405639648438, 1.1372056007385254, 1.1364907026290894, 1.1428073644638062, 1.1282743215560913, 1.1284188032150269, 1.1487302780151367, 1.159685492515564, 1.1579439640045166, 1.1510961055755615, 1.1490306854248047, 1.1580795049667358, 1.1602998971939087, 1.151404619216919, 1.1560853719711304, 1.153686761856079, 1.148728847503662, 1.1485711336135864, 1.1431183815002441, 1.1220555305480957, 1.1225157976150513, 1.1212964057922363, 1.1098593473434448, 1.1063473224639893, 1.1034162044525146, 1.115007996559143, 1.1253371238708496, 1.124880075454712, 1.1216802597045898, 1.10262930393219, 1.1031217575073242, 1.0981969833374023, 1.1114137172698975, 1.1122629642486572, 1.1131246089935303, 1.1089024543762207, 1.1088329553604126, 1.1090190410614014, 1.1112364530563354, 1.1071105003356934, 1.1120750904083252, 1.1097921133041382, 1.112916350364685, 1.129740834236145, 1.1338692903518677, 1.1424932479858398, 1.1484344005584717, 1.148051381111145, 1.1520861387252808, 1.1481361389160156, 1.1460695266723633, 1.149776577949524, 1.1480709314346313, 1.1499754190444946, 1.1580381393432617, 1.1539545059204102, 1.1508333683013916, 1.147996425628662, 1.1478462219238281, 1.1373794078826904, 1.1321485042572021, 1.1314916610717773, 1.1309611797332764, 1.1303977966308594, 1.1333067417144775, 1.1336172819137573, 1.120241641998291, 1.1187700033187866, 1.108619213104248, 1.1035236120224, 1.0966733694076538, 1.109477162361145, 1.1061265468597412, 1.0565553903579712, 1.0596386194229126, 1.0696951150894165, 1.072499394416809], \"open\": [1.2385587692260742, 1.209552526473999, 1.2393828630447388, 1.2450296878814697, 1.2563703060150146, 1.2360345125198364, 1.2252658605575562, 1.232211947441101, 1.2416645288467407, 1.2423499822616577, 1.2305257320404053, 1.2407962083816528, 1.2652504444122314, 1.2527871131896973, 1.2492088079452515, 1.2564704418182373, 1.2619165182113647, 1.286139965057373, 1.2740905284881592, 1.2652390003204346, 1.255638837814331, 1.2501091957092285, 1.2644113302230835, 1.25845205783844, 1.2618818283081055, 1.2884166240692139, 1.2923743724822998, 1.2856534719467163, 1.276700496673584, 1.2744144201278687, 1.2873307466506958, 1.2819262742996216, 1.285501480102539, 1.2692413330078125, 1.2574936151504517, 1.2635785341262817, 1.271378993988037, 1.2995706796646118, 1.3072577714920044, 1.3200020790100098, 1.3412206172943115, 1.3127676248550415, 1.3151499032974243, 1.3290011882781982, 1.3257601261138916, 1.3303238153457642, 1.334032416343689, 1.3007341623306274, 1.3014721870422363, 1.3084481954574585, 1.3125311136245728, 1.2972517013549805, 1.2820523977279663, 1.2890537977218628, 1.2901115417480469, 1.2814111709594727, 1.2779284715652466, 1.2667381763458252, 1.26615571975708, 1.2696716785430908, 1.272159218788147, 1.2662264108657837, 1.2639482021331787, 1.2620596885681152, 1.2676055431365967, 1.2768478393554688, 1.279173731803894, 1.2729827165603638, 1.2697539329528809, 1.2772107124328613, 1.2749438285827637, 1.2737957239151, 1.2714879512786865, 1.2632081508636475, 1.2704905271530151, 1.2655160427093506, 1.2588601112365723, 1.263720989227295, 1.2654112577438354, 1.2621862888336182, 1.260453224182129, 1.2433453798294067, 1.2372397184371948, 1.249984622001648, 1.245538592338562, 1.2448650598526, 1.244003415107727, 1.2544012069702148, 1.2529376745224, 1.2410809993743896, 1.2357486486434937, 1.241267204284668, 1.2400400638580322, 1.2317782640457153, 1.2330294847488403, 1.2229305505752563, 1.2064313888549805, 1.226470947265625, 1.2279107570648193, 1.2439149618148804, 1.2345960140228271, 1.2219923734664917, 1.2142846584320068, 1.2272629737854004, 1.2293423414230347, 1.2191593647003174, 1.210173487663269, 1.2071630954742432, 1.2056058645248413, 1.2077760696411133, 1.2050325870513916, 1.2107220888137817, 1.2120041847229004, 1.2156062126159668, 1.2139581441879272, 1.2139990329742432, 1.1996430158615112, 1.202256679534912, 1.1936545372009277, 1.1906373500823975, 1.1869499683380127, 1.1651241779327393, 1.1785926818847656, 1.2033177614212036, 1.200742483139038, 1.2025151252746582, 1.210556149482727, 1.2188032865524292, 1.2047719955444336, 1.2075154781341553, 1.201896071434021, 1.2026318311691284, 1.2061434984207153, 1.2083210945129395, 1.2144750356674194, 1.2051714658737183, 1.201815128326416, 1.1957629919052124, 1.1979379653930664, 1.2025761604309082, 1.205675721168518, 1.1963144540786743, 1.195680856704712, 1.1881202459335327, 1.1892035007476807, 1.1761751174926758, 1.1685535907745361, 1.1672475337982178, 1.1763200759887695, 1.1832176446914673, 1.18855881690979, 1.198905110359192, 1.1946390867233276, 1.1973031759262085, 1.1953622102737427, 1.1957005262374878, 1.1973563432693481, 1.2046313285827637, 1.2052825689315796, 1.2069599628448486, 1.197713017463684, 1.1900657415390015, 1.1806951761245728, 1.1852052211761475, 1.1863234043121338, 1.1979365348815918, 1.196067214012146, 1.1947088241577148, 1.192756175994873, 1.183262825012207, 1.1848034858703613, 1.1860687732696533, 1.1852262020111084, 1.1832586526870728, 1.1855162382125854, 1.184593915939331, 1.1816085577011108, 1.1783201694488525, 1.1799626350402832, 1.179018259048462, 1.1827809810638428, 1.176560401916504, 1.1743229627609253, 1.1570693254470825, 1.1596744060516357, 1.1485878229141235, 1.1109706163406372, 1.1240894794464111, 1.1253278255462646, 1.1121695041656494, 1.1164597272872925, 1.1139122247695923, 1.1093428134918213, 1.1167089939117432, 1.1260149478912354, 1.1434457302093506, 1.1509416103363037, 1.1400798559188843, 1.1365851163864136, 1.13197660446167, 1.1311484575271606, 1.1261487007141113, 1.1257001161575317, 1.1114863157272339, 1.113857388496399, 1.101272702217102, 1.0882844924926758, 1.112839937210083, 1.1259119510650635, 1.122397541999817, 1.1359097957611084, 1.135028600692749, 1.1396055221557617, 1.1373350620269775, 1.1428073644638062, 1.1452021598815918, 1.1284188032150269, 1.1495097875595093, 1.159685492515564, 1.164432406425476, 1.162172555923462, 1.1515260934829712, 1.1580795049667358, 1.1617345809936523, 1.1605173349380493, 1.1632804870605469, 1.156430959701538, 1.154036521911621, 1.1515133380889893, 1.1488574743270874, 1.1440510749816895, 1.1225157976150513, 1.1302756071090698, 1.1217867136001587, 1.1108832359313965, 1.1062705516815186, 1.116670846939087, 1.1265413761138916, 1.124880075454712, 1.1304272413253784, 1.121344804763794, 1.1031217575073242, 1.105577826499939, 1.1175276041030884, 1.1153291463851929, 1.1145015954971313, 1.1141717433929443, 1.1094075441360474, 1.1090190410614014, 1.1138957738876343, 1.1111575365066528, 1.1120750904083252, 1.1139740943908691, 1.1131258010864258, 1.1302385330200195, 1.1363186836242676, 1.1424932479858398, 1.1543951034545898, 1.148051381111145, 1.1604235172271729, 1.1558895111083984, 1.14815092086792, 1.1504991054534912, 1.1514992713928223, 1.1499754190444946, 1.1591731309890747, 1.1619749069213867, 1.1557564735412598, 1.152223825454712, 1.1488525867462158, 1.1469316482543945, 1.1373564004898071, 1.1388696432113647, 1.1314481496810913, 1.1326920986175537, 1.1333423852920532, 1.1343042850494385, 1.1340471506118774, 1.1203622817993164, 1.1187485456466675, 1.1094175577163696, 1.1049777269363403, 1.1186670064926147, 1.1118817329406738, 1.1062169075012207, 1.0596386194229126, 1.0770820379257202, 1.0783798694610596], \"type\": \"ohlc\", \"x\": [\"2021-03-19T00:00:00+00:00\", \"2021-03-19T00:30:00+00:00\", \"2021-03-19T01:00:00+00:00\", \"2021-03-19T01:30:00+00:00\", \"2021-03-19T02:00:00+00:00\", \"2021-03-19T02:30:00+00:00\", \"2021-03-19T03:00:00+00:00\", \"2021-03-19T03:30:00+00:00\", \"2021-03-19T04:00:00+00:00\", \"2021-03-19T04:30:00+00:00\", \"2021-03-19T05:00:00+00:00\", \"2021-03-19T05:30:00+00:00\", \"2021-03-19T06:00:00+00:00\", \"2021-03-19T06:30:00+00:00\", \"2021-03-19T07:00:00+00:00\", \"2021-03-19T07:30:00+00:00\", \"2021-03-19T08:00:00+00:00\", \"2021-03-19T08:30:00+00:00\", \"2021-03-19T09:00:00+00:00\", \"2021-03-19T09:30:00+00:00\", \"2021-03-19T10:00:00+00:00\", \"2021-03-19T10:30:00+00:00\", \"2021-03-19T11:00:00+00:00\", \"2021-03-19T11:30:00+00:00\", \"2021-03-19T12:00:00+00:00\", \"2021-03-19T12:30:00+00:00\", \"2021-03-19T13:00:00+00:00\", \"2021-03-19T13:30:00+00:00\", \"2021-03-19T14:00:00+00:00\", \"2021-03-19T14:30:00+00:00\", \"2021-03-19T15:00:00+00:00\", \"2021-03-19T15:30:00+00:00\", \"2021-03-19T16:00:00+00:00\", \"2021-03-19T16:30:00+00:00\", \"2021-03-19T17:00:00+00:00\", \"2021-03-19T17:30:00+00:00\", \"2021-03-19T18:00:00+00:00\", \"2021-03-19T18:30:00+00:00\", \"2021-03-19T19:00:00+00:00\", \"2021-03-19T19:30:00+00:00\", \"2021-03-19T20:00:00+00:00\", \"2021-03-19T20:30:00+00:00\", \"2021-03-19T21:00:00+00:00\", \"2021-03-19T21:30:00+00:00\", \"2021-03-19T22:00:00+00:00\", \"2021-03-19T22:30:00+00:00\", \"2021-03-19T23:00:00+00:00\", \"2021-03-19T23:30:00+00:00\", \"2021-03-20T00:00:00+00:00\", \"2021-03-20T00:30:00+00:00\", \"2021-03-20T01:00:00+00:00\", \"2021-03-20T01:30:00+00:00\", \"2021-03-20T02:00:00+00:00\", \"2021-03-20T02:30:00+00:00\", \"2021-03-20T03:00:00+00:00\", \"2021-03-20T03:30:00+00:00\", \"2021-03-20T04:00:00+00:00\", \"2021-03-20T04:30:00+00:00\", \"2021-03-20T05:00:00+00:00\", \"2021-03-20T05:30:00+00:00\", \"2021-03-20T06:00:00+00:00\", \"2021-03-20T06:30:00+00:00\", \"2021-03-20T07:00:00+00:00\", \"2021-03-20T07:30:00+00:00\", \"2021-03-20T08:00:00+00:00\", \"2021-03-20T08:30:00+00:00\", \"2021-03-20T09:00:00+00:00\", \"2021-03-20T09:30:00+00:00\", \"2021-03-20T10:00:00+00:00\", \"2021-03-20T10:30:00+00:00\", \"2021-03-20T11:00:00+00:00\", \"2021-03-20T11:30:00+00:00\", \"2021-03-20T12:00:00+00:00\", \"2021-03-20T12:30:00+00:00\", \"2021-03-20T13:00:00+00:00\", \"2021-03-20T13:30:00+00:00\", \"2021-03-20T14:00:00+00:00\", \"2021-03-20T14:30:00+00:00\", \"2021-03-20T15:00:00+00:00\", \"2021-03-20T15:30:00+00:00\", \"2021-03-20T16:00:00+00:00\", \"2021-03-20T16:30:00+00:00\", \"2021-03-20T17:00:00+00:00\", \"2021-03-20T17:30:00+00:00\", \"2021-03-20T18:00:00+00:00\", \"2021-03-20T18:30:00+00:00\", \"2021-03-20T19:00:00+00:00\", \"2021-03-20T19:30:00+00:00\", \"2021-03-20T20:00:00+00:00\", \"2021-03-20T20:30:00+00:00\", \"2021-03-20T21:00:00+00:00\", \"2021-03-20T21:30:00+00:00\", \"2021-03-20T22:00:00+00:00\", \"2021-03-20T22:30:00+00:00\", \"2021-03-20T23:00:00+00:00\", \"2021-03-20T23:30:00+00:00\", \"2021-03-21T00:00:00+00:00\", \"2021-03-21T00:30:00+00:00\", \"2021-03-21T01:00:00+00:00\", \"2021-03-21T01:30:00+00:00\", \"2021-03-21T02:00:00+00:00\", \"2021-03-21T02:30:00+00:00\", \"2021-03-21T03:00:00+00:00\", \"2021-03-21T03:30:00+00:00\", \"2021-03-21T04:00:00+00:00\", \"2021-03-21T04:30:00+00:00\", \"2021-03-21T05:00:00+00:00\", \"2021-03-21T05:30:00+00:00\", \"2021-03-21T06:00:00+00:00\", \"2021-03-21T06:30:00+00:00\", \"2021-03-21T07:00:00+00:00\", \"2021-03-21T07:30:00+00:00\", \"2021-03-21T08:00:00+00:00\", \"2021-03-21T08:30:00+00:00\", \"2021-03-21T09:00:00+00:00\", \"2021-03-21T09:30:00+00:00\", \"2021-03-21T10:00:00+00:00\", \"2021-03-21T10:30:00+00:00\", \"2021-03-21T11:00:00+00:00\", \"2021-03-21T11:30:00+00:00\", \"2021-03-21T12:00:00+00:00\", \"2021-03-21T12:30:00+00:00\", \"2021-03-21T13:00:00+00:00\", \"2021-03-21T13:30:00+00:00\", \"2021-03-21T14:00:00+00:00\", \"2021-03-21T14:30:00+00:00\", \"2021-03-21T15:00:00+00:00\", \"2021-03-21T15:30:00+00:00\", \"2021-03-21T16:00:00+00:00\", \"2021-03-21T16:30:00+00:00\", \"2021-03-21T17:00:00+00:00\", \"2021-03-21T17:30:00+00:00\", \"2021-03-21T18:00:00+00:00\", \"2021-03-21T18:30:00+00:00\", \"2021-03-21T19:00:00+00:00\", \"2021-03-21T19:30:00+00:00\", \"2021-03-21T20:00:00+00:00\", \"2021-03-21T20:30:00+00:00\", \"2021-03-21T21:00:00+00:00\", \"2021-03-21T21:30:00+00:00\", \"2021-03-21T22:00:00+00:00\", \"2021-03-21T22:30:00+00:00\", \"2021-03-21T23:00:00+00:00\", \"2021-03-21T23:30:00+00:00\", \"2021-03-22T00:00:00+00:00\", \"2021-03-22T00:30:00+00:00\", \"2021-03-22T01:00:00+00:00\", \"2021-03-22T01:30:00+00:00\", \"2021-03-22T02:00:00+00:00\", \"2021-03-22T02:30:00+00:00\", \"2021-03-22T03:00:00+00:00\", \"2021-03-22T03:30:00+00:00\", \"2021-03-22T04:00:00+00:00\", \"2021-03-22T04:30:00+00:00\", \"2021-03-22T05:00:00+00:00\", \"2021-03-22T05:30:00+00:00\", \"2021-03-22T06:00:00+00:00\", \"2021-03-22T06:30:00+00:00\", \"2021-03-22T07:00:00+00:00\", \"2021-03-22T07:30:00+00:00\", \"2021-03-22T08:00:00+00:00\", \"2021-03-22T08:30:00+00:00\", \"2021-03-22T09:00:00+00:00\", \"2021-03-22T09:30:00+00:00\", \"2021-03-22T10:00:00+00:00\", \"2021-03-22T10:30:00+00:00\", \"2021-03-22T11:00:00+00:00\", \"2021-03-22T11:30:00+00:00\", \"2021-03-22T12:00:00+00:00\", \"2021-03-22T12:30:00+00:00\", \"2021-03-22T13:00:00+00:00\", \"2021-03-22T13:30:00+00:00\", \"2021-03-22T14:00:00+00:00\", \"2021-03-22T14:30:00+00:00\", \"2021-03-22T15:00:00+00:00\", \"2021-03-22T15:30:00+00:00\", \"2021-03-22T16:00:00+00:00\", \"2021-03-22T16:30:00+00:00\", \"2021-03-22T17:00:00+00:00\", \"2021-03-22T17:30:00+00:00\", \"2021-03-22T18:00:00+00:00\", \"2021-03-22T18:30:00+00:00\", \"2021-03-22T19:00:00+00:00\", \"2021-03-22T19:30:00+00:00\", \"2021-03-22T20:00:00+00:00\", \"2021-03-22T20:30:00+00:00\", \"2021-03-22T21:00:00+00:00\", \"2021-03-22T21:30:00+00:00\", \"2021-03-22T22:00:00+00:00\", \"2021-03-22T22:30:00+00:00\", \"2021-03-22T23:00:00+00:00\", \"2021-03-22T23:30:00+00:00\", \"2021-03-23T00:00:00+00:00\", \"2021-03-23T00:30:00+00:00\", \"2021-03-23T01:00:00+00:00\", \"2021-03-23T01:30:00+00:00\", \"2021-03-23T02:00:00+00:00\", \"2021-03-23T02:30:00+00:00\", \"2021-03-23T03:00:00+00:00\", \"2021-03-23T03:30:00+00:00\", \"2021-03-23T04:00:00+00:00\", \"2021-03-23T04:30:00+00:00\", \"2021-03-23T05:00:00+00:00\", \"2021-03-23T05:30:00+00:00\", \"2021-03-23T06:00:00+00:00\", \"2021-03-23T06:30:00+00:00\", \"2021-03-23T07:00:00+00:00\", \"2021-03-23T07:30:00+00:00\", \"2021-03-23T08:00:00+00:00\", \"2021-03-23T08:30:00+00:00\", \"2021-03-23T09:00:00+00:00\", \"2021-03-23T09:30:00+00:00\", \"2021-03-23T10:00:00+00:00\", \"2021-03-23T10:30:00+00:00\", \"2021-03-23T11:00:00+00:00\", \"2021-03-23T11:30:00+00:00\", \"2021-03-23T12:00:00+00:00\", \"2021-03-23T12:30:00+00:00\", \"2021-03-23T13:00:00+00:00\", \"2021-03-23T13:30:00+00:00\", \"2021-03-23T14:00:00+00:00\", \"2021-03-23T14:30:00+00:00\", \"2021-03-23T15:00:00+00:00\", \"2021-03-23T15:30:00+00:00\", \"2021-03-23T16:00:00+00:00\", \"2021-03-23T16:30:00+00:00\", \"2021-03-23T17:00:00+00:00\", \"2021-03-23T17:30:00+00:00\", \"2021-03-23T18:00:00+00:00\", \"2021-03-23T18:30:00+00:00\", \"2021-03-23T19:00:00+00:00\", \"2021-03-23T19:30:00+00:00\", \"2021-03-23T20:00:00+00:00\", \"2021-03-23T20:30:00+00:00\", \"2021-03-23T21:00:00+00:00\", \"2021-03-23T21:30:00+00:00\", \"2021-03-23T22:00:00+00:00\", \"2021-03-23T22:30:00+00:00\", \"2021-03-23T23:00:00+00:00\", \"2021-03-23T23:30:00+00:00\", \"2021-03-24T00:00:00+00:00\", \"2021-03-24T00:30:00+00:00\", \"2021-03-24T01:00:00+00:00\", \"2021-03-24T01:30:00+00:00\", \"2021-03-24T02:00:00+00:00\", \"2021-03-24T02:30:00+00:00\", \"2021-03-24T03:00:00+00:00\", \"2021-03-24T03:30:00+00:00\", \"2021-03-24T04:00:00+00:00\", \"2021-03-24T04:30:00+00:00\", \"2021-03-24T05:00:00+00:00\", \"2021-03-24T05:30:00+00:00\", \"2021-03-24T06:00:00+00:00\", \"2021-03-24T06:30:00+00:00\", \"2021-03-24T07:00:00+00:00\", \"2021-03-24T07:30:00+00:00\", \"2021-03-24T08:00:00+00:00\", \"2021-03-24T08:30:00+00:00\", \"2021-03-24T09:00:00+00:00\", \"2021-03-24T09:30:00+00:00\", \"2021-03-24T10:00:00+00:00\", \"2021-03-24T10:30:00+00:00\", \"2021-03-24T11:00:00+00:00\", \"2021-03-24T11:30:00+00:00\", \"2021-03-24T12:00:00+00:00\", \"2021-03-24T12:30:00+00:00\", \"2021-03-24T13:00:00+00:00\", \"2021-03-24T13:30:00+00:00\", \"2021-03-24T14:00:00+00:00\", \"2021-03-24T14:30:00+00:00\", \"2021-03-24T15:00:00+00:00\", \"2021-03-24T15:30:00+00:00\", \"2021-03-24T16:00:00+00:00\", \"2021-03-24T16:30:00+00:00\", \"2021-03-24T17:00:00+00:00\", \"2021-03-24T17:30:00+00:00\", \"2021-03-24T18:00:00+00:00\", \"2021-03-24T18:30:00+00:00\", \"2021-03-24T19:00:00+00:00\", \"2021-03-24T19:30:00+00:00\", \"2021-03-24T20:00:00+00:00\", \"2021-03-24T20:30:00+00:00\", \"2021-03-24T21:00:00+00:00\", \"2021-03-24T21:30:00+00:00\", \"2021-03-24T22:00:00+00:00\", \"2021-03-24T22:30:00+00:00\", \"2021-03-24T23:00:00+00:00\", \"2021-03-24T23:30:00+00:00\"], \"xaxis\": \"x\", \"yaxis\": \"y\"}, {\"marker\": {\"color\": \"black\"}, \"type\": \"bar\", \"x\": [\"2021-03-19T00:00:00+00:00\", \"2021-03-19T00:30:00+00:00\", \"2021-03-19T01:00:00+00:00\", \"2021-03-19T01:30:00+00:00\", \"2021-03-19T02:00:00+00:00\", \"2021-03-19T02:30:00+00:00\", \"2021-03-19T03:00:00+00:00\", \"2021-03-19T03:30:00+00:00\", \"2021-03-19T04:00:00+00:00\", \"2021-03-19T04:30:00+00:00\", \"2021-03-19T05:00:00+00:00\", \"2021-03-19T05:30:00+00:00\", \"2021-03-19T06:00:00+00:00\", \"2021-03-19T06:30:00+00:00\", \"2021-03-19T07:00:00+00:00\", \"2021-03-19T07:30:00+00:00\", \"2021-03-19T08:00:00+00:00\", \"2021-03-19T08:30:00+00:00\", \"2021-03-19T09:00:00+00:00\", \"2021-03-19T09:30:00+00:00\", \"2021-03-19T10:00:00+00:00\", \"2021-03-19T10:30:00+00:00\", \"2021-03-19T11:00:00+00:00\", \"2021-03-19T11:30:00+00:00\", \"2021-03-19T12:00:00+00:00\", \"2021-03-19T12:30:00+00:00\", \"2021-03-19T13:00:00+00:00\", \"2021-03-19T13:30:00+00:00\", \"2021-03-19T14:00:00+00:00\", \"2021-03-19T14:30:00+00:00\", \"2021-03-19T15:00:00+00:00\", \"2021-03-19T15:30:00+00:00\", \"2021-03-19T16:00:00+00:00\", \"2021-03-19T16:30:00+00:00\", \"2021-03-19T17:00:00+00:00\", \"2021-03-19T17:30:00+00:00\", \"2021-03-19T18:00:00+00:00\", \"2021-03-19T18:30:00+00:00\", \"2021-03-19T19:00:00+00:00\", \"2021-03-19T19:30:00+00:00\", \"2021-03-19T20:00:00+00:00\", \"2021-03-19T20:30:00+00:00\", \"2021-03-19T21:00:00+00:00\", \"2021-03-19T21:30:00+00:00\", \"2021-03-19T22:00:00+00:00\", \"2021-03-19T22:30:00+00:00\", \"2021-03-19T23:00:00+00:00\", \"2021-03-19T23:30:00+00:00\", \"2021-03-20T00:00:00+00:00\", \"2021-03-20T00:30:00+00:00\", \"2021-03-20T01:00:00+00:00\", \"2021-03-20T01:30:00+00:00\", \"2021-03-20T02:00:00+00:00\", \"2021-03-20T02:30:00+00:00\", \"2021-03-20T03:00:00+00:00\", \"2021-03-20T03:30:00+00:00\", \"2021-03-20T04:00:00+00:00\", \"2021-03-20T04:30:00+00:00\", \"2021-03-20T05:00:00+00:00\", \"2021-03-20T05:30:00+00:00\", \"2021-03-20T06:00:00+00:00\", \"2021-03-20T06:30:00+00:00\", \"2021-03-20T07:00:00+00:00\", \"2021-03-20T07:30:00+00:00\", \"2021-03-20T08:00:00+00:00\", \"2021-03-20T08:30:00+00:00\", \"2021-03-20T09:00:00+00:00\", \"2021-03-20T09:30:00+00:00\", \"2021-03-20T10:00:00+00:00\", \"2021-03-20T10:30:00+00:00\", \"2021-03-20T11:00:00+00:00\", \"2021-03-20T11:30:00+00:00\", \"2021-03-20T12:00:00+00:00\", \"2021-03-20T12:30:00+00:00\", \"2021-03-20T13:00:00+00:00\", \"2021-03-20T13:30:00+00:00\", \"2021-03-20T14:00:00+00:00\", \"2021-03-20T14:30:00+00:00\", \"2021-03-20T15:00:00+00:00\", \"2021-03-20T15:30:00+00:00\", \"2021-03-20T16:00:00+00:00\", \"2021-03-20T16:30:00+00:00\", \"2021-03-20T17:00:00+00:00\", \"2021-03-20T17:30:00+00:00\", \"2021-03-20T18:00:00+00:00\", \"2021-03-20T18:30:00+00:00\", \"2021-03-20T19:00:00+00:00\", \"2021-03-20T19:30:00+00:00\", \"2021-03-20T20:00:00+00:00\", \"2021-03-20T20:30:00+00:00\", \"2021-03-20T21:00:00+00:00\", \"2021-03-20T21:30:00+00:00\", \"2021-03-20T22:00:00+00:00\", \"2021-03-20T22:30:00+00:00\", \"2021-03-20T23:00:00+00:00\", \"2021-03-20T23:30:00+00:00\", \"2021-03-21T00:00:00+00:00\", \"2021-03-21T00:30:00+00:00\", \"2021-03-21T01:00:00+00:00\", \"2021-03-21T01:30:00+00:00\", \"2021-03-21T02:00:00+00:00\", \"2021-03-21T02:30:00+00:00\", \"2021-03-21T03:00:00+00:00\", \"2021-03-21T03:30:00+00:00\", \"2021-03-21T04:00:00+00:00\", \"2021-03-21T04:30:00+00:00\", \"2021-03-21T05:00:00+00:00\", \"2021-03-21T05:30:00+00:00\", \"2021-03-21T06:00:00+00:00\", \"2021-03-21T06:30:00+00:00\", \"2021-03-21T07:00:00+00:00\", \"2021-03-21T07:30:00+00:00\", \"2021-03-21T08:00:00+00:00\", \"2021-03-21T08:30:00+00:00\", \"2021-03-21T09:00:00+00:00\", \"2021-03-21T09:30:00+00:00\", \"2021-03-21T10:00:00+00:00\", \"2021-03-21T10:30:00+00:00\", \"2021-03-21T11:00:00+00:00\", \"2021-03-21T11:30:00+00:00\", \"2021-03-21T12:00:00+00:00\", \"2021-03-21T12:30:00+00:00\", \"2021-03-21T13:00:00+00:00\", \"2021-03-21T13:30:00+00:00\", \"2021-03-21T14:00:00+00:00\", \"2021-03-21T14:30:00+00:00\", \"2021-03-21T15:00:00+00:00\", \"2021-03-21T15:30:00+00:00\", \"2021-03-21T16:00:00+00:00\", \"2021-03-21T16:30:00+00:00\", \"2021-03-21T17:00:00+00:00\", \"2021-03-21T17:30:00+00:00\", \"2021-03-21T18:00:00+00:00\", \"2021-03-21T18:30:00+00:00\", \"2021-03-21T19:00:00+00:00\", \"2021-03-21T19:30:00+00:00\", \"2021-03-21T20:00:00+00:00\", \"2021-03-21T20:30:00+00:00\", \"2021-03-21T21:00:00+00:00\", \"2021-03-21T21:30:00+00:00\", \"2021-03-21T22:00:00+00:00\", \"2021-03-21T22:30:00+00:00\", \"2021-03-21T23:00:00+00:00\", \"2021-03-21T23:30:00+00:00\", \"2021-03-22T00:00:00+00:00\", \"2021-03-22T00:30:00+00:00\", \"2021-03-22T01:00:00+00:00\", \"2021-03-22T01:30:00+00:00\", \"2021-03-22T02:00:00+00:00\", \"2021-03-22T02:30:00+00:00\", \"2021-03-22T03:00:00+00:00\", \"2021-03-22T03:30:00+00:00\", \"2021-03-22T04:00:00+00:00\", \"2021-03-22T04:30:00+00:00\", \"2021-03-22T05:00:00+00:00\", \"2021-03-22T05:30:00+00:00\", \"2021-03-22T06:00:00+00:00\", \"2021-03-22T06:30:00+00:00\", \"2021-03-22T07:00:00+00:00\", \"2021-03-22T07:30:00+00:00\", \"2021-03-22T08:00:00+00:00\", \"2021-03-22T08:30:00+00:00\", \"2021-03-22T09:00:00+00:00\", \"2021-03-22T09:30:00+00:00\", \"2021-03-22T10:00:00+00:00\", \"2021-03-22T10:30:00+00:00\", \"2021-03-22T11:00:00+00:00\", \"2021-03-22T11:30:00+00:00\", \"2021-03-22T12:00:00+00:00\", \"2021-03-22T12:30:00+00:00\", \"2021-03-22T13:00:00+00:00\", \"2021-03-22T13:30:00+00:00\", \"2021-03-22T14:00:00+00:00\", \"2021-03-22T14:30:00+00:00\", \"2021-03-22T15:00:00+00:00\", \"2021-03-22T15:30:00+00:00\", \"2021-03-22T16:00:00+00:00\", \"2021-03-22T16:30:00+00:00\", \"2021-03-22T17:00:00+00:00\", \"2021-03-22T17:30:00+00:00\", \"2021-03-22T18:00:00+00:00\", \"2021-03-22T18:30:00+00:00\", \"2021-03-22T19:00:00+00:00\", \"2021-03-22T19:30:00+00:00\", \"2021-03-22T20:00:00+00:00\", \"2021-03-22T20:30:00+00:00\", \"2021-03-22T21:00:00+00:00\", \"2021-03-22T21:30:00+00:00\", \"2021-03-22T22:00:00+00:00\", \"2021-03-22T22:30:00+00:00\", \"2021-03-22T23:00:00+00:00\", \"2021-03-22T23:30:00+00:00\", \"2021-03-23T00:00:00+00:00\", \"2021-03-23T00:30:00+00:00\", \"2021-03-23T01:00:00+00:00\", \"2021-03-23T01:30:00+00:00\", \"2021-03-23T02:00:00+00:00\", \"2021-03-23T02:30:00+00:00\", \"2021-03-23T03:00:00+00:00\", \"2021-03-23T03:30:00+00:00\", \"2021-03-23T04:00:00+00:00\", \"2021-03-23T04:30:00+00:00\", \"2021-03-23T05:00:00+00:00\", \"2021-03-23T05:30:00+00:00\", \"2021-03-23T06:00:00+00:00\", \"2021-03-23T06:30:00+00:00\", \"2021-03-23T07:00:00+00:00\", \"2021-03-23T07:30:00+00:00\", \"2021-03-23T08:00:00+00:00\", \"2021-03-23T08:30:00+00:00\", \"2021-03-23T09:00:00+00:00\", \"2021-03-23T09:30:00+00:00\", \"2021-03-23T10:00:00+00:00\", \"2021-03-23T10:30:00+00:00\", \"2021-03-23T11:00:00+00:00\", \"2021-03-23T11:30:00+00:00\", \"2021-03-23T12:00:00+00:00\", \"2021-03-23T12:30:00+00:00\", \"2021-03-23T13:00:00+00:00\", \"2021-03-23T13:30:00+00:00\", \"2021-03-23T14:00:00+00:00\", \"2021-03-23T14:30:00+00:00\", \"2021-03-23T15:00:00+00:00\", \"2021-03-23T15:30:00+00:00\", \"2021-03-23T16:00:00+00:00\", \"2021-03-23T16:30:00+00:00\", \"2021-03-23T17:00:00+00:00\", \"2021-03-23T17:30:00+00:00\", \"2021-03-23T18:00:00+00:00\", \"2021-03-23T18:30:00+00:00\", \"2021-03-23T19:00:00+00:00\", \"2021-03-23T19:30:00+00:00\", \"2021-03-23T20:00:00+00:00\", \"2021-03-23T20:30:00+00:00\", \"2021-03-23T21:00:00+00:00\", \"2021-03-23T21:30:00+00:00\", \"2021-03-23T22:00:00+00:00\", \"2021-03-23T22:30:00+00:00\", \"2021-03-23T23:00:00+00:00\", \"2021-03-23T23:30:00+00:00\", \"2021-03-24T00:00:00+00:00\", \"2021-03-24T00:30:00+00:00\", \"2021-03-24T01:00:00+00:00\", \"2021-03-24T01:30:00+00:00\", \"2021-03-24T02:00:00+00:00\", \"2021-03-24T02:30:00+00:00\", \"2021-03-24T03:00:00+00:00\", \"2021-03-24T03:30:00+00:00\", \"2021-03-24T04:00:00+00:00\", \"2021-03-24T04:30:00+00:00\", \"2021-03-24T05:00:00+00:00\", \"2021-03-24T05:30:00+00:00\", \"2021-03-24T06:00:00+00:00\", \"2021-03-24T06:30:00+00:00\", \"2021-03-24T07:00:00+00:00\", \"2021-03-24T07:30:00+00:00\", \"2021-03-24T08:00:00+00:00\", \"2021-03-24T08:30:00+00:00\", \"2021-03-24T09:00:00+00:00\", \"2021-03-24T09:30:00+00:00\", \"2021-03-24T10:00:00+00:00\", \"2021-03-24T10:30:00+00:00\", \"2021-03-24T11:00:00+00:00\", \"2021-03-24T11:30:00+00:00\", \"2021-03-24T12:00:00+00:00\", \"2021-03-24T12:30:00+00:00\", \"2021-03-24T13:00:00+00:00\", \"2021-03-24T13:30:00+00:00\", \"2021-03-24T14:00:00+00:00\", \"2021-03-24T14:30:00+00:00\", \"2021-03-24T15:00:00+00:00\", \"2021-03-24T15:30:00+00:00\", \"2021-03-24T16:00:00+00:00\", \"2021-03-24T16:30:00+00:00\", \"2021-03-24T17:00:00+00:00\", \"2021-03-24T17:30:00+00:00\", \"2021-03-24T18:00:00+00:00\", \"2021-03-24T18:30:00+00:00\", \"2021-03-24T19:00:00+00:00\", \"2021-03-24T19:30:00+00:00\", \"2021-03-24T20:00:00+00:00\", \"2021-03-24T20:30:00+00:00\", \"2021-03-24T21:00:00+00:00\", \"2021-03-24T21:30:00+00:00\", \"2021-03-24T22:00:00+00:00\", \"2021-03-24T22:30:00+00:00\", \"2021-03-24T23:00:00+00:00\", \"2021-03-24T23:30:00+00:00\"], \"xaxis\": \"x2\", \"y\": [103635968, 224413696, 91043840, 89996288, 13082624, 22910976, 41623552, 42418176, 30824448, 3239936, 26030080, 74893312, 432407552, 25787392, 42489856, 36087808, 173263872, 69682176, 8842240, 3205120, 33077248, 30528512, 0, 0, 100601856, 77193216, 1855488, 5550080, 32401408, 70970368, 0, 0, 0, 0, 1461248, 0, 205739008, 42104320, 33760256, 72613376, 0, 11345408, 25180160, 31693824, 45552640, 0, 22039040, 11222016, 0, 0, 0, 55947264, 13603840, 4929536, 2500608, 2627072, 44897792, 56832, 13167104, 9265152, 0, 0, 7171584, 28155392, 17480192, 0, 0, 0, 0, 0, 0, 8729600, 0, 0, 1244672, 0, 10583040, 0, 1136128, 7278080, 0, 4664832, 11229696, 45402624, 0, 0, 1167360, 0, 0, 0, 0, 3075584, 230912, 39905792, 0, 27220224, 106213376, 69069824, 84270592, 0, 8435712, 32550400, 21321216, 32887808, 15384576, 43585536, 1977344, 34990592, 16558592, 21103616, 8923136, 7809024, 6512128, 5334016, 1692160, 41680896, 49132544, 21756416, 55236096, 19154944, 70132736, 45148672, 59539968, 49282048, 1523712, 54530048, 30662656, 10744320, 14727168, 2463232, 1995264, 3743232, 2906624, 19233792, 1311232, 11307008, 4949504, 1483776, 8335360, 10044928, 0, 0, 0, 2221056, 0, 767744, 2279168, 5164544, 8866560, 0, 9396224, 399872, 1681408, 0, 7076352, 10799616, 8743424, 0, 6593792, 14723328, 0, 16085248, 22718720, 0, 14832640, 489728, 847872, 0, 0, 8847360, 5648384, 18939136, 34026496, 0, 489728, 751104, 1373440, 21529088, 6131968, 16921856, 11441920, 21847296, 64086272, 66681856, 46298112, 341174528, 177759232, 77244416, 112929792, 83992320, 65124608, 43373824, 82263040, 46103552, 66309120, 88088832, 17113088, 27220992, 15416320, 27148800, 15502848, 66708480, 28851712, 76009984, 77189632, 73351168, 99731968, 60935168, 39802368, 39716864, 22976000, 30742528, 20417024, 30751744, 24763904, 31657472, 47703552, 37011456, 111874560, 19635712, 1820672, 67702784, 29604864, 25378816, 48946688, 2873856, 22381056, 15784448, 14872576, 16108032, 16643584, 7204864, 46792704, 0, 0, 9489920, 0, 4286976, 0, 17113600, 6588928, 4806656, 8480256, 2962944, 0, 0, 6354944, 10124288, 12955648, 0, 1256960, 0, 0, 30513408, 35619072, 1462784, 48094720, 13511936, 380261376, 0, 2146304, 4029696, 0, 345088, 5790208, 1423872, 0, 766464, 0, 0, 0, 26706176, 0, 0, 9028352, 6664960, 300800, 0, 8911616, 12359936, 11311360, 57433088, 6610944, 3607552, 85187584, 140293632, 68993024, 31758080], \"yaxis\": \"y2\"}],                        {\"hoverdistance\": 100, \"hovermode\": \"x\", \"plot_bgcolor\": \"#FFFFFF\", \"spikedistance\": -1, \"template\": {\"data\": {\"bar\": [{\"error_x\": {\"color\": \"#2a3f5f\"}, \"error_y\": {\"color\": \"#2a3f5f\"}, \"marker\": {\"line\": {\"color\": \"#E5ECF6\", \"width\": 0.5}}, \"type\": \"bar\"}], \"barpolar\": [{\"marker\": {\"line\": {\"color\": \"#E5ECF6\", \"width\": 0.5}}, \"type\": \"barpolar\"}], \"carpet\": [{\"aaxis\": {\"endlinecolor\": \"#2a3f5f\", \"gridcolor\": \"white\", \"linecolor\": \"white\", \"minorgridcolor\": \"white\", \"startlinecolor\": \"#2a3f5f\"}, \"baxis\": {\"endlinecolor\": \"#2a3f5f\", \"gridcolor\": \"white\", \"linecolor\": \"white\", \"minorgridcolor\": \"white\", \"startlinecolor\": \"#2a3f5f\"}, \"type\": \"carpet\"}], \"choropleth\": [{\"colorbar\": {\"outlinewidth\": 0, \"ticks\": \"\"}, \"type\": \"choropleth\"}], \"contour\": [{\"colorbar\": {\"outlinewidth\": 0, \"ticks\": \"\"}, \"colorscale\": [[0.0, \"#0d0887\"], [0.1111111111111111, \"#46039f\"], [0.2222222222222222, \"#7201a8\"], [0.3333333333333333, \"#9c179e\"], [0.4444444444444444, \"#bd3786\"], [0.5555555555555556, \"#d8576b\"], [0.6666666666666666, \"#ed7953\"], [0.7777777777777778, \"#fb9f3a\"], [0.8888888888888888, \"#fdca26\"], [1.0, \"#f0f921\"]], \"type\": \"contour\"}], \"contourcarpet\": [{\"colorbar\": {\"outlinewidth\": 0, \"ticks\": \"\"}, \"type\": \"contourcarpet\"}], \"heatmap\": [{\"colorbar\": {\"outlinewidth\": 0, \"ticks\": \"\"}, \"colorscale\": [[0.0, \"#0d0887\"], [0.1111111111111111, \"#46039f\"], [0.2222222222222222, \"#7201a8\"], [0.3333333333333333, \"#9c179e\"], [0.4444444444444444, \"#bd3786\"], [0.5555555555555556, \"#d8576b\"], [0.6666666666666666, \"#ed7953\"], [0.7777777777777778, \"#fb9f3a\"], [0.8888888888888888, \"#fdca26\"], [1.0, \"#f0f921\"]], \"type\": \"heatmap\"}], \"heatmapgl\": [{\"colorbar\": {\"outlinewidth\": 0, \"ticks\": \"\"}, \"colorscale\": [[0.0, \"#0d0887\"], [0.1111111111111111, \"#46039f\"], [0.2222222222222222, \"#7201a8\"], [0.3333333333333333, \"#9c179e\"], [0.4444444444444444, \"#bd3786\"], [0.5555555555555556, \"#d8576b\"], [0.6666666666666666, \"#ed7953\"], [0.7777777777777778, \"#fb9f3a\"], [0.8888888888888888, \"#fdca26\"], [1.0, \"#f0f921\"]], \"type\": \"heatmapgl\"}], \"histogram\": [{\"marker\": {\"colorbar\": {\"outlinewidth\": 0, \"ticks\": \"\"}}, \"type\": \"histogram\"}], \"histogram2d\": [{\"colorbar\": {\"outlinewidth\": 0, \"ticks\": \"\"}, \"colorscale\": [[0.0, \"#0d0887\"], [0.1111111111111111, \"#46039f\"], [0.2222222222222222, \"#7201a8\"], [0.3333333333333333, \"#9c179e\"], [0.4444444444444444, \"#bd3786\"], [0.5555555555555556, \"#d8576b\"], [0.6666666666666666, \"#ed7953\"], [0.7777777777777778, \"#fb9f3a\"], [0.8888888888888888, \"#fdca26\"], [1.0, \"#f0f921\"]], \"type\": \"histogram2d\"}], \"histogram2dcontour\": [{\"colorbar\": {\"outlinewidth\": 0, \"ticks\": \"\"}, \"colorscale\": [[0.0, \"#0d0887\"], [0.1111111111111111, \"#46039f\"], [0.2222222222222222, \"#7201a8\"], [0.3333333333333333, \"#9c179e\"], [0.4444444444444444, \"#bd3786\"], [0.5555555555555556, \"#d8576b\"], [0.6666666666666666, \"#ed7953\"], [0.7777777777777778, \"#fb9f3a\"], [0.8888888888888888, \"#fdca26\"], [1.0, \"#f0f921\"]], \"type\": \"histogram2dcontour\"}], \"mesh3d\": [{\"colorbar\": {\"outlinewidth\": 0, \"ticks\": \"\"}, \"type\": \"mesh3d\"}], \"parcoords\": [{\"line\": {\"colorbar\": {\"outlinewidth\": 0, \"ticks\": \"\"}}, \"type\": \"parcoords\"}], \"pie\": [{\"automargin\": true, \"type\": \"pie\"}], \"scatter\": [{\"marker\": {\"colorbar\": {\"outlinewidth\": 0, \"ticks\": \"\"}}, \"type\": \"scatter\"}], \"scatter3d\": [{\"line\": {\"colorbar\": {\"outlinewidth\": 0, \"ticks\": \"\"}}, \"marker\": {\"colorbar\": {\"outlinewidth\": 0, \"ticks\": \"\"}}, \"type\": \"scatter3d\"}], \"scattercarpet\": [{\"marker\": {\"colorbar\": {\"outlinewidth\": 0, \"ticks\": \"\"}}, \"type\": \"scattercarpet\"}], \"scattergeo\": [{\"marker\": {\"colorbar\": {\"outlinewidth\": 0, \"ticks\": \"\"}}, \"type\": \"scattergeo\"}], \"scattergl\": [{\"marker\": {\"colorbar\": {\"outlinewidth\": 0, \"ticks\": \"\"}}, \"type\": \"scattergl\"}], \"scattermapbox\": [{\"marker\": {\"colorbar\": {\"outlinewidth\": 0, \"ticks\": \"\"}}, \"type\": \"scattermapbox\"}], \"scatterpolar\": [{\"marker\": {\"colorbar\": {\"outlinewidth\": 0, \"ticks\": \"\"}}, \"type\": \"scatterpolar\"}], \"scatterpolargl\": [{\"marker\": {\"colorbar\": {\"outlinewidth\": 0, \"ticks\": \"\"}}, \"type\": \"scatterpolargl\"}], \"scatterternary\": [{\"marker\": {\"colorbar\": {\"outlinewidth\": 0, \"ticks\": \"\"}}, \"type\": \"scatterternary\"}], \"surface\": [{\"colorbar\": {\"outlinewidth\": 0, \"ticks\": \"\"}, \"colorscale\": [[0.0, \"#0d0887\"], [0.1111111111111111, \"#46039f\"], [0.2222222222222222, \"#7201a8\"], [0.3333333333333333, \"#9c179e\"], [0.4444444444444444, \"#bd3786\"], [0.5555555555555556, \"#d8576b\"], [0.6666666666666666, \"#ed7953\"], [0.7777777777777778, \"#fb9f3a\"], [0.8888888888888888, \"#fdca26\"], [1.0, \"#f0f921\"]], \"type\": \"surface\"}], \"table\": [{\"cells\": {\"fill\": {\"color\": \"#EBF0F8\"}, \"line\": {\"color\": \"white\"}}, \"header\": {\"fill\": {\"color\": \"#C8D4E3\"}, \"line\": {\"color\": \"white\"}}, \"type\": \"table\"}]}, \"layout\": {\"annotationdefaults\": {\"arrowcolor\": \"#2a3f5f\", \"arrowhead\": 0, \"arrowwidth\": 1}, \"autotypenumbers\": \"strict\", \"coloraxis\": {\"colorbar\": {\"outlinewidth\": 0, \"ticks\": \"\"}}, \"colorscale\": {\"diverging\": [[0, \"#8e0152\"], [0.1, \"#c51b7d\"], [0.2, \"#de77ae\"], [0.3, \"#f1b6da\"], [0.4, \"#fde0ef\"], [0.5, \"#f7f7f7\"], [0.6, \"#e6f5d0\"], [0.7, \"#b8e186\"], [0.8, \"#7fbc41\"], [0.9, \"#4d9221\"], [1, \"#276419\"]], \"sequential\": [[0.0, \"#0d0887\"], [0.1111111111111111, \"#46039f\"], [0.2222222222222222, \"#7201a8\"], [0.3333333333333333, \"#9c179e\"], [0.4444444444444444, \"#bd3786\"], [0.5555555555555556, \"#d8576b\"], [0.6666666666666666, \"#ed7953\"], [0.7777777777777778, \"#fb9f3a\"], [0.8888888888888888, \"#fdca26\"], [1.0, \"#f0f921\"]], \"sequentialminus\": [[0.0, \"#0d0887\"], [0.1111111111111111, \"#46039f\"], [0.2222222222222222, \"#7201a8\"], [0.3333333333333333, \"#9c179e\"], [0.4444444444444444, \"#bd3786\"], [0.5555555555555556, \"#d8576b\"], [0.6666666666666666, \"#ed7953\"], [0.7777777777777778, \"#fb9f3a\"], [0.8888888888888888, \"#fdca26\"], [1.0, \"#f0f921\"]]}, \"colorway\": [\"#636efa\", \"#EF553B\", \"#00cc96\", \"#ab63fa\", \"#FFA15A\", \"#19d3f3\", \"#FF6692\", \"#B6E880\", \"#FF97FF\", \"#FECB52\"], \"font\": {\"color\": \"#2a3f5f\"}, \"geo\": {\"bgcolor\": \"white\", \"lakecolor\": \"white\", \"landcolor\": \"#E5ECF6\", \"showlakes\": true, \"showland\": true, \"subunitcolor\": \"white\"}, \"hoverlabel\": {\"align\": \"left\"}, \"hovermode\": \"closest\", \"mapbox\": {\"style\": \"light\"}, \"paper_bgcolor\": \"white\", \"plot_bgcolor\": \"#E5ECF6\", \"polar\": {\"angularaxis\": {\"gridcolor\": \"white\", \"linecolor\": \"white\", \"ticks\": \"\"}, \"bgcolor\": \"#E5ECF6\", \"radialaxis\": {\"gridcolor\": \"white\", \"linecolor\": \"white\", \"ticks\": \"\"}}, \"scene\": {\"xaxis\": {\"backgroundcolor\": \"#E5ECF6\", \"gridcolor\": \"white\", \"gridwidth\": 2, \"linecolor\": \"white\", \"showbackground\": true, \"ticks\": \"\", \"zerolinecolor\": \"white\"}, \"yaxis\": {\"backgroundcolor\": \"#E5ECF6\", \"gridcolor\": \"white\", \"gridwidth\": 2, \"linecolor\": \"white\", \"showbackground\": true, \"ticks\": \"\", \"zerolinecolor\": \"white\"}, \"zaxis\": {\"backgroundcolor\": \"#E5ECF6\", \"gridcolor\": \"white\", \"gridwidth\": 2, \"linecolor\": \"white\", \"showbackground\": true, \"ticks\": \"\", \"zerolinecolor\": \"white\"}}, \"shapedefaults\": {\"line\": {\"color\": \"#2a3f5f\"}}, \"ternary\": {\"aaxis\": {\"gridcolor\": \"white\", \"linecolor\": \"white\", \"ticks\": \"\"}, \"baxis\": {\"gridcolor\": \"white\", \"linecolor\": \"white\", \"ticks\": \"\"}, \"bgcolor\": \"#E5ECF6\", \"caxis\": {\"gridcolor\": \"white\", \"linecolor\": \"white\", \"ticks\": \"\"}}, \"title\": {\"x\": 0.05}, \"xaxis\": {\"automargin\": true, \"gridcolor\": \"white\", \"linecolor\": \"white\", \"ticks\": \"\", \"title\": {\"standoff\": 15}, \"zerolinecolor\": \"white\", \"zerolinewidth\": 2}, \"yaxis\": {\"automargin\": true, \"gridcolor\": \"white\", \"linecolor\": \"white\", \"ticks\": \"\", \"title\": {\"standoff\": 15}, \"zerolinecolor\": \"white\", \"zerolinewidth\": 2}}}, \"title\": {\"text\": \"Trend\"}, \"xaxis\": {\"anchor\": \"y\", \"domain\": [0.0, 1.0], \"linecolor\": \"#BCCCDC\", \"matches\": \"x2\", \"rangeslider\": {\"visible\": false}, \"showticklabels\": false, \"spikecolor\": \"#999999\", \"spikedash\": \"dot\", \"spikemode\": \"toaxis+across\", \"spikethickness\": 2}, \"xaxis2\": {\"anchor\": \"y2\", \"domain\": [0.0, 1.0]}, \"yaxis\": {\"anchor\": \"x\", \"domain\": [0.216, 1.0], \"linecolor\": \"#BCCCDC\", \"title\": {\"text\": \"Price\"}}, \"yaxis2\": {\"anchor\": \"x2\", \"domain\": [0.0, 0.196], \"linecolor\": \"#BCCCDC\", \"title\": {\"text\": \"Volume\"}}},                        {\"responsive\": true}                    ).then(function(){\n",
       "                            \n",
       "var gd = document.getElementById('f98d95ba-f49d-4b80-af2c-2e28f29d5758');\n",
       "var x = new MutationObserver(function (mutations, observer) {{\n",
       "        var display = window.getComputedStyle(gd).display;\n",
       "        if (!display || display === 'none') {{\n",
       "            console.log([gd, 'removed!']);\n",
       "            Plotly.purge(gd);\n",
       "            observer.disconnect();\n",
       "        }}\n",
       "}});\n",
       "\n",
       "// Listen for the removal of the full notebook cells\n",
       "var notebookContainer = gd.closest('#notebook-container');\n",
       "if (notebookContainer) {{\n",
       "    x.observe(notebookContainer, {childList: true});\n",
       "}}\n",
       "\n",
       "// Listen for the clearing of the current output cell\n",
       "var outputEl = gd.closest('.output');\n",
       "if (outputEl) {{\n",
       "    x.observe(outputEl, {childList: true});\n",
       "}}\n",
       "\n",
       "                        })                };                });            </script>        </div>"
      ]
     },
     "metadata": {},
     "output_type": "display_data"
    }
   ],
   "source": [
    "fig = make_subplots(rows=2, cols=1, row_heights=[0.8, 0.2],shared_xaxes=True,\n",
    "                    vertical_spacing=0.02)\n",
    "\n",
    "fig.add_trace(go.Ohlc(x=fin_data.index,\n",
    "        open=fin_data['Open'],\n",
    "        high=fin_data['High'],\n",
    "        low=fin_data['Low'],\n",
    "        close=fin_data['Close']), row = 1, col = 1)\n",
    "\n",
    "fig.add_trace(go.Bar(x=fin_data.index, y=fin_data[\"Volume\"], marker_color = \"black\" ), row = 2, col = 1)    \n",
    "fig.update(layout_xaxis_rangeslider_visible=False)\n",
    "\n",
    "fig.update_layout(\n",
    "    title=\"Trend\",\n",
    "    plot_bgcolor=\"#FFFFFF\",\n",
    "    hovermode=\"x\",\n",
    "    hoverdistance=100, # Distance to show hover label of data point\n",
    "    spikedistance=-1, # Distance to show spike\n",
    "    xaxis=dict(\n",
    "#         title=\"time\",\n",
    "        linecolor=\"#BCCCDC\",\n",
    "#         showspikes=True, # Show spike line for X-axis\n",
    "        # Format spike\n",
    "        spikethickness=2,\n",
    "        spikedash=\"dot\",\n",
    "        spikecolor=\"#999999\",\n",
    "        spikemode=\"toaxis+across\",\n",
    "    ),\n",
    "    yaxis=dict(\n",
    "        title=\"Price\",\n",
    "        linecolor=\"#BCCCDC\"\n",
    "    ),\n",
    "    yaxis2=dict(\n",
    "        title=\"Volume\",\n",
    "        linecolor=\"#BCCCDC\"\n",
    "    )\n",
    ")\n",
    "fig.show()"
   ]
  },
  {
   "cell_type": "code",
   "execution_count": 261,
   "id": "geographic-exhibition",
   "metadata": {},
   "outputs": [
    {
     "data": {
      "text/html": [
       "<div>\n",
       "<style scoped>\n",
       "    .dataframe tbody tr th:only-of-type {\n",
       "        vertical-align: middle;\n",
       "    }\n",
       "\n",
       "    .dataframe tbody tr th {\n",
       "        vertical-align: top;\n",
       "    }\n",
       "\n",
       "    .dataframe thead th {\n",
       "        text-align: right;\n",
       "    }\n",
       "</style>\n",
       "<table border=\"1\" class=\"dataframe\">\n",
       "  <thead>\n",
       "    <tr style=\"text-align: right;\">\n",
       "      <th></th>\n",
       "      <th>Open</th>\n",
       "      <th>High</th>\n",
       "      <th>Low</th>\n",
       "      <th>Close</th>\n",
       "      <th>Adj Close</th>\n",
       "      <th>Volume</th>\n",
       "    </tr>\n",
       "    <tr>\n",
       "      <th>Datetime</th>\n",
       "      <th></th>\n",
       "      <th></th>\n",
       "      <th></th>\n",
       "      <th></th>\n",
       "      <th></th>\n",
       "      <th></th>\n",
       "    </tr>\n",
       "  </thead>\n",
       "  <tbody>\n",
       "    <tr>\n",
       "      <th>2021-03-19 00:00:00+00:00</th>\n",
       "      <td>1.238559</td>\n",
       "      <td>1.238559</td>\n",
       "      <td>1.196046</td>\n",
       "      <td>1.208658</td>\n",
       "      <td>1.208658</td>\n",
       "      <td>103635968</td>\n",
       "    </tr>\n",
       "    <tr>\n",
       "      <th>2021-03-19 00:30:00+00:00</th>\n",
       "      <td>1.209553</td>\n",
       "      <td>1.244305</td>\n",
       "      <td>1.209553</td>\n",
       "      <td>1.238694</td>\n",
       "      <td>1.238694</td>\n",
       "      <td>224413696</td>\n",
       "    </tr>\n",
       "    <tr>\n",
       "      <th>2021-03-19 01:00:00+00:00</th>\n",
       "      <td>1.239383</td>\n",
       "      <td>1.249652</td>\n",
       "      <td>1.231114</td>\n",
       "      <td>1.243689</td>\n",
       "      <td>1.243689</td>\n",
       "      <td>91043840</td>\n",
       "    </tr>\n",
       "    <tr>\n",
       "      <th>2021-03-19 01:30:00+00:00</th>\n",
       "      <td>1.245030</td>\n",
       "      <td>1.255763</td>\n",
       "      <td>1.237749</td>\n",
       "      <td>1.255647</td>\n",
       "      <td>1.255647</td>\n",
       "      <td>89996288</td>\n",
       "    </tr>\n",
       "    <tr>\n",
       "      <th>2021-03-19 02:00:00+00:00</th>\n",
       "      <td>1.256370</td>\n",
       "      <td>1.256370</td>\n",
       "      <td>1.237573</td>\n",
       "      <td>1.237573</td>\n",
       "      <td>1.237573</td>\n",
       "      <td>13082624</td>\n",
       "    </tr>\n",
       "  </tbody>\n",
       "</table>\n",
       "</div>"
      ],
      "text/plain": [
       "                               Open      High       Low     Close  Adj Close  \\\n",
       "Datetime                                                                       \n",
       "2021-03-19 00:00:00+00:00  1.238559  1.238559  1.196046  1.208658   1.208658   \n",
       "2021-03-19 00:30:00+00:00  1.209553  1.244305  1.209553  1.238694   1.238694   \n",
       "2021-03-19 01:00:00+00:00  1.239383  1.249652  1.231114  1.243689   1.243689   \n",
       "2021-03-19 01:30:00+00:00  1.245030  1.255763  1.237749  1.255647   1.255647   \n",
       "2021-03-19 02:00:00+00:00  1.256370  1.256370  1.237573  1.237573   1.237573   \n",
       "\n",
       "                              Volume  \n",
       "Datetime                              \n",
       "2021-03-19 00:00:00+00:00  103635968  \n",
       "2021-03-19 00:30:00+00:00  224413696  \n",
       "2021-03-19 01:00:00+00:00   91043840  \n",
       "2021-03-19 01:30:00+00:00   89996288  \n",
       "2021-03-19 02:00:00+00:00   13082624  "
      ]
     },
     "execution_count": 261,
     "metadata": {},
     "output_type": "execute_result"
    }
   ],
   "source": [
    "fin_data.head()"
   ]
  },
  {
   "cell_type": "code",
   "execution_count": 266,
   "id": "shaped-stranger",
   "metadata": {},
   "outputs": [
    {
     "data": {
      "application/vnd.plotly.v1+json": {
       "config": {
        "plotlyServerURL": "https://plot.ly"
       },
       "data": [
        {
         "type": "bar",
         "x": [
          "2021-03-19T00:00:00+00:00",
          "2021-03-19T00:30:00+00:00",
          "2021-03-19T01:00:00+00:00",
          "2021-03-19T01:30:00+00:00",
          "2021-03-19T02:00:00+00:00",
          "2021-03-19T02:30:00+00:00",
          "2021-03-19T03:00:00+00:00",
          "2021-03-19T03:30:00+00:00",
          "2021-03-19T04:00:00+00:00",
          "2021-03-19T04:30:00+00:00",
          "2021-03-19T05:00:00+00:00",
          "2021-03-19T05:30:00+00:00",
          "2021-03-19T06:00:00+00:00",
          "2021-03-19T06:30:00+00:00",
          "2021-03-19T07:00:00+00:00",
          "2021-03-19T07:30:00+00:00",
          "2021-03-19T08:00:00+00:00",
          "2021-03-19T08:30:00+00:00",
          "2021-03-19T09:00:00+00:00",
          "2021-03-19T09:30:00+00:00",
          "2021-03-19T10:00:00+00:00",
          "2021-03-19T10:30:00+00:00",
          "2021-03-19T11:00:00+00:00",
          "2021-03-19T11:30:00+00:00",
          "2021-03-19T12:00:00+00:00",
          "2021-03-19T12:30:00+00:00",
          "2021-03-19T13:00:00+00:00",
          "2021-03-19T13:30:00+00:00",
          "2021-03-19T14:00:00+00:00",
          "2021-03-19T14:30:00+00:00",
          "2021-03-19T15:00:00+00:00",
          "2021-03-19T15:30:00+00:00",
          "2021-03-19T16:00:00+00:00",
          "2021-03-19T16:30:00+00:00",
          "2021-03-19T17:00:00+00:00",
          "2021-03-19T17:30:00+00:00",
          "2021-03-19T18:00:00+00:00",
          "2021-03-19T18:30:00+00:00",
          "2021-03-19T19:00:00+00:00",
          "2021-03-19T19:30:00+00:00",
          "2021-03-19T20:00:00+00:00",
          "2021-03-19T20:30:00+00:00",
          "2021-03-19T21:00:00+00:00",
          "2021-03-19T21:30:00+00:00",
          "2021-03-19T22:00:00+00:00",
          "2021-03-19T22:30:00+00:00",
          "2021-03-19T23:00:00+00:00",
          "2021-03-19T23:30:00+00:00",
          "2021-03-20T00:00:00+00:00",
          "2021-03-20T00:30:00+00:00",
          "2021-03-20T01:00:00+00:00",
          "2021-03-20T01:30:00+00:00",
          "2021-03-20T02:00:00+00:00",
          "2021-03-20T02:30:00+00:00",
          "2021-03-20T03:00:00+00:00",
          "2021-03-20T03:30:00+00:00",
          "2021-03-20T04:00:00+00:00",
          "2021-03-20T04:30:00+00:00",
          "2021-03-20T05:00:00+00:00",
          "2021-03-20T05:30:00+00:00",
          "2021-03-20T06:00:00+00:00",
          "2021-03-20T06:30:00+00:00",
          "2021-03-20T07:00:00+00:00",
          "2021-03-20T07:30:00+00:00",
          "2021-03-20T08:00:00+00:00",
          "2021-03-20T08:30:00+00:00",
          "2021-03-20T09:00:00+00:00",
          "2021-03-20T09:30:00+00:00",
          "2021-03-20T10:00:00+00:00",
          "2021-03-20T10:30:00+00:00",
          "2021-03-20T11:00:00+00:00",
          "2021-03-20T11:30:00+00:00",
          "2021-03-20T12:00:00+00:00",
          "2021-03-20T12:30:00+00:00",
          "2021-03-20T13:00:00+00:00",
          "2021-03-20T13:30:00+00:00",
          "2021-03-20T14:00:00+00:00",
          "2021-03-20T14:30:00+00:00",
          "2021-03-20T15:00:00+00:00",
          "2021-03-20T15:30:00+00:00",
          "2021-03-20T16:00:00+00:00",
          "2021-03-20T16:30:00+00:00",
          "2021-03-20T17:00:00+00:00",
          "2021-03-20T17:30:00+00:00",
          "2021-03-20T18:00:00+00:00",
          "2021-03-20T18:30:00+00:00",
          "2021-03-20T19:00:00+00:00",
          "2021-03-20T19:30:00+00:00",
          "2021-03-20T20:00:00+00:00",
          "2021-03-20T20:30:00+00:00",
          "2021-03-20T21:00:00+00:00",
          "2021-03-20T21:30:00+00:00",
          "2021-03-20T22:00:00+00:00",
          "2021-03-20T22:30:00+00:00",
          "2021-03-20T23:00:00+00:00",
          "2021-03-20T23:30:00+00:00",
          "2021-03-21T00:00:00+00:00",
          "2021-03-21T00:30:00+00:00",
          "2021-03-21T01:00:00+00:00",
          "2021-03-21T01:30:00+00:00",
          "2021-03-21T02:00:00+00:00",
          "2021-03-21T02:30:00+00:00",
          "2021-03-21T03:00:00+00:00",
          "2021-03-21T03:30:00+00:00",
          "2021-03-21T04:00:00+00:00",
          "2021-03-21T04:30:00+00:00",
          "2021-03-21T05:00:00+00:00",
          "2021-03-21T05:30:00+00:00",
          "2021-03-21T06:00:00+00:00",
          "2021-03-21T06:30:00+00:00",
          "2021-03-21T07:00:00+00:00",
          "2021-03-21T07:30:00+00:00",
          "2021-03-21T08:00:00+00:00",
          "2021-03-21T08:30:00+00:00",
          "2021-03-21T09:00:00+00:00",
          "2021-03-21T09:30:00+00:00",
          "2021-03-21T10:00:00+00:00",
          "2021-03-21T10:30:00+00:00",
          "2021-03-21T11:00:00+00:00",
          "2021-03-21T11:30:00+00:00",
          "2021-03-21T12:00:00+00:00",
          "2021-03-21T12:30:00+00:00",
          "2021-03-21T13:00:00+00:00",
          "2021-03-21T13:30:00+00:00",
          "2021-03-21T14:00:00+00:00",
          "2021-03-21T14:30:00+00:00",
          "2021-03-21T15:00:00+00:00",
          "2021-03-21T15:30:00+00:00",
          "2021-03-21T16:00:00+00:00",
          "2021-03-21T16:30:00+00:00",
          "2021-03-21T17:00:00+00:00",
          "2021-03-21T17:30:00+00:00",
          "2021-03-21T18:00:00+00:00",
          "2021-03-21T18:30:00+00:00",
          "2021-03-21T19:00:00+00:00",
          "2021-03-21T19:30:00+00:00",
          "2021-03-21T20:00:00+00:00",
          "2021-03-21T20:30:00+00:00",
          "2021-03-21T21:00:00+00:00",
          "2021-03-21T21:30:00+00:00",
          "2021-03-21T22:00:00+00:00",
          "2021-03-21T22:30:00+00:00",
          "2021-03-21T23:00:00+00:00",
          "2021-03-21T23:30:00+00:00",
          "2021-03-22T00:00:00+00:00",
          "2021-03-22T00:30:00+00:00",
          "2021-03-22T01:00:00+00:00",
          "2021-03-22T01:30:00+00:00",
          "2021-03-22T02:00:00+00:00",
          "2021-03-22T02:30:00+00:00",
          "2021-03-22T03:00:00+00:00",
          "2021-03-22T03:30:00+00:00",
          "2021-03-22T04:00:00+00:00",
          "2021-03-22T04:30:00+00:00",
          "2021-03-22T05:00:00+00:00",
          "2021-03-22T05:30:00+00:00",
          "2021-03-22T06:00:00+00:00",
          "2021-03-22T06:30:00+00:00",
          "2021-03-22T07:00:00+00:00",
          "2021-03-22T07:30:00+00:00",
          "2021-03-22T08:00:00+00:00",
          "2021-03-22T08:30:00+00:00",
          "2021-03-22T09:00:00+00:00",
          "2021-03-22T09:30:00+00:00",
          "2021-03-22T10:00:00+00:00",
          "2021-03-22T10:30:00+00:00",
          "2021-03-22T11:00:00+00:00",
          "2021-03-22T11:30:00+00:00",
          "2021-03-22T12:00:00+00:00",
          "2021-03-22T12:30:00+00:00",
          "2021-03-22T13:00:00+00:00",
          "2021-03-22T13:30:00+00:00",
          "2021-03-22T14:00:00+00:00",
          "2021-03-22T14:30:00+00:00",
          "2021-03-22T15:00:00+00:00",
          "2021-03-22T15:30:00+00:00",
          "2021-03-22T16:00:00+00:00",
          "2021-03-22T16:30:00+00:00",
          "2021-03-22T17:00:00+00:00",
          "2021-03-22T17:30:00+00:00",
          "2021-03-22T18:00:00+00:00",
          "2021-03-22T18:30:00+00:00",
          "2021-03-22T19:00:00+00:00",
          "2021-03-22T19:30:00+00:00",
          "2021-03-22T20:00:00+00:00",
          "2021-03-22T20:30:00+00:00",
          "2021-03-22T21:00:00+00:00",
          "2021-03-22T21:30:00+00:00",
          "2021-03-22T22:00:00+00:00",
          "2021-03-22T22:30:00+00:00",
          "2021-03-22T23:00:00+00:00",
          "2021-03-22T23:30:00+00:00",
          "2021-03-23T00:00:00+00:00",
          "2021-03-23T00:30:00+00:00",
          "2021-03-23T01:00:00+00:00",
          "2021-03-23T01:30:00+00:00",
          "2021-03-23T02:00:00+00:00",
          "2021-03-23T02:30:00+00:00",
          "2021-03-23T03:00:00+00:00",
          "2021-03-23T03:30:00+00:00",
          "2021-03-23T04:00:00+00:00",
          "2021-03-23T04:30:00+00:00",
          "2021-03-23T05:00:00+00:00",
          "2021-03-23T05:30:00+00:00",
          "2021-03-23T06:00:00+00:00",
          "2021-03-23T06:30:00+00:00",
          "2021-03-23T07:00:00+00:00",
          "2021-03-23T07:30:00+00:00",
          "2021-03-23T08:00:00+00:00",
          "2021-03-23T08:30:00+00:00",
          "2021-03-23T09:00:00+00:00",
          "2021-03-23T09:30:00+00:00",
          "2021-03-23T10:00:00+00:00",
          "2021-03-23T10:30:00+00:00",
          "2021-03-23T11:00:00+00:00",
          "2021-03-23T11:30:00+00:00",
          "2021-03-23T12:00:00+00:00",
          "2021-03-23T12:30:00+00:00",
          "2021-03-23T13:00:00+00:00",
          "2021-03-23T13:30:00+00:00",
          "2021-03-23T14:00:00+00:00",
          "2021-03-23T14:30:00+00:00",
          "2021-03-23T15:00:00+00:00",
          "2021-03-23T15:30:00+00:00",
          "2021-03-23T16:00:00+00:00",
          "2021-03-23T16:30:00+00:00",
          "2021-03-23T17:00:00+00:00",
          "2021-03-23T17:30:00+00:00",
          "2021-03-23T18:00:00+00:00",
          "2021-03-23T18:30:00+00:00",
          "2021-03-23T19:00:00+00:00",
          "2021-03-23T19:30:00+00:00",
          "2021-03-23T20:00:00+00:00",
          "2021-03-23T20:30:00+00:00",
          "2021-03-23T21:00:00+00:00",
          "2021-03-23T21:30:00+00:00",
          "2021-03-23T22:00:00+00:00",
          "2021-03-23T22:30:00+00:00",
          "2021-03-23T23:00:00+00:00",
          "2021-03-23T23:30:00+00:00",
          "2021-03-24T00:00:00+00:00",
          "2021-03-24T00:30:00+00:00",
          "2021-03-24T01:00:00+00:00",
          "2021-03-24T01:30:00+00:00",
          "2021-03-24T02:00:00+00:00",
          "2021-03-24T02:30:00+00:00",
          "2021-03-24T03:00:00+00:00",
          "2021-03-24T03:30:00+00:00",
          "2021-03-24T04:00:00+00:00",
          "2021-03-24T04:30:00+00:00",
          "2021-03-24T05:00:00+00:00",
          "2021-03-24T05:30:00+00:00",
          "2021-03-24T06:00:00+00:00",
          "2021-03-24T06:30:00+00:00",
          "2021-03-24T07:00:00+00:00",
          "2021-03-24T07:30:00+00:00",
          "2021-03-24T08:00:00+00:00",
          "2021-03-24T08:30:00+00:00",
          "2021-03-24T09:00:00+00:00",
          "2021-03-24T09:30:00+00:00",
          "2021-03-24T10:00:00+00:00",
          "2021-03-24T10:30:00+00:00",
          "2021-03-24T11:00:00+00:00",
          "2021-03-24T11:30:00+00:00",
          "2021-03-24T12:00:00+00:00",
          "2021-03-24T12:30:00+00:00",
          "2021-03-24T13:00:00+00:00",
          "2021-03-24T13:30:00+00:00",
          "2021-03-24T14:00:00+00:00",
          "2021-03-24T14:30:00+00:00",
          "2021-03-24T15:00:00+00:00",
          "2021-03-24T15:30:00+00:00",
          "2021-03-24T16:00:00+00:00",
          "2021-03-24T16:30:00+00:00",
          "2021-03-24T17:00:00+00:00",
          "2021-03-24T17:30:00+00:00",
          "2021-03-24T18:00:00+00:00",
          "2021-03-24T18:30:00+00:00",
          "2021-03-24T19:00:00+00:00",
          "2021-03-24T19:30:00+00:00",
          "2021-03-24T20:00:00+00:00",
          "2021-03-24T20:30:00+00:00",
          "2021-03-24T21:00:00+00:00",
          "2021-03-24T21:30:00+00:00",
          "2021-03-24T22:00:00+00:00",
          "2021-03-24T22:30:00+00:00",
          "2021-03-24T23:00:00+00:00",
          "2021-03-24T23:30:00+00:00"
         ],
         "y": [
          103635968,
          224413696,
          91043840,
          89996288,
          13082624,
          22910976,
          41623552,
          42418176,
          30824448,
          3239936,
          26030080,
          74893312,
          432407552,
          25787392,
          42489856,
          36087808,
          173263872,
          69682176,
          8842240,
          3205120,
          33077248,
          30528512,
          0,
          0,
          100601856,
          77193216,
          1855488,
          5550080,
          32401408,
          70970368,
          0,
          0,
          0,
          0,
          1461248,
          0,
          205739008,
          42104320,
          33760256,
          72613376,
          0,
          11345408,
          25180160,
          31693824,
          45552640,
          0,
          22039040,
          11222016,
          0,
          0,
          0,
          55947264,
          13603840,
          4929536,
          2500608,
          2627072,
          44897792,
          56832,
          13167104,
          9265152,
          0,
          0,
          7171584,
          28155392,
          17480192,
          0,
          0,
          0,
          0,
          0,
          0,
          8729600,
          0,
          0,
          1244672,
          0,
          10583040,
          0,
          1136128,
          7278080,
          0,
          4664832,
          11229696,
          45402624,
          0,
          0,
          1167360,
          0,
          0,
          0,
          0,
          3075584,
          230912,
          39905792,
          0,
          27220224,
          106213376,
          69069824,
          84270592,
          0,
          8435712,
          32550400,
          21321216,
          32887808,
          15384576,
          43585536,
          1977344,
          34990592,
          16558592,
          21103616,
          8923136,
          7809024,
          6512128,
          5334016,
          1692160,
          41680896,
          49132544,
          21756416,
          55236096,
          19154944,
          70132736,
          45148672,
          59539968,
          49282048,
          1523712,
          54530048,
          30662656,
          10744320,
          14727168,
          2463232,
          1995264,
          3743232,
          2906624,
          19233792,
          1311232,
          11307008,
          4949504,
          1483776,
          8335360,
          10044928,
          0,
          0,
          0,
          2221056,
          0,
          767744,
          2279168,
          5164544,
          8866560,
          0,
          9396224,
          399872,
          1681408,
          0,
          7076352,
          10799616,
          8743424,
          0,
          6593792,
          14723328,
          0,
          16085248,
          22718720,
          0,
          14832640,
          489728,
          847872,
          0,
          0,
          8847360,
          5648384,
          18939136,
          34026496,
          0,
          489728,
          751104,
          1373440,
          21529088,
          6131968,
          16921856,
          11441920,
          21847296,
          64086272,
          66681856,
          46298112,
          341174528,
          177759232,
          77244416,
          112929792,
          83992320,
          65124608,
          43373824,
          82263040,
          46103552,
          66309120,
          88088832,
          17113088,
          27220992,
          15416320,
          27148800,
          15502848,
          66708480,
          28851712,
          76009984,
          77189632,
          73351168,
          99731968,
          60935168,
          39802368,
          39716864,
          22976000,
          30742528,
          20417024,
          30751744,
          24763904,
          31657472,
          47703552,
          37011456,
          111874560,
          19635712,
          1820672,
          67702784,
          29604864,
          25378816,
          48946688,
          2873856,
          22381056,
          15784448,
          14872576,
          16108032,
          16643584,
          7204864,
          46792704,
          0,
          0,
          9489920,
          0,
          4286976,
          0,
          17113600,
          6588928,
          4806656,
          8480256,
          2962944,
          0,
          0,
          6354944,
          10124288,
          12955648,
          0,
          1256960,
          0,
          0,
          30513408,
          35619072,
          1462784,
          48094720,
          13511936,
          380261376,
          0,
          2146304,
          4029696,
          0,
          345088,
          5790208,
          1423872,
          0,
          766464,
          0,
          0,
          0,
          26706176,
          0,
          0,
          9028352,
          6664960,
          300800,
          0,
          8911616,
          12359936,
          11311360,
          57433088,
          6610944,
          3607552,
          85187584,
          140293632,
          68993024,
          31758080
         ]
        }
       ],
       "layout": {
        "template": {
         "data": {
          "bar": [
           {
            "error_x": {
             "color": "#2a3f5f"
            },
            "error_y": {
             "color": "#2a3f5f"
            },
            "marker": {
             "line": {
              "color": "#E5ECF6",
              "width": 0.5
             }
            },
            "type": "bar"
           }
          ],
          "barpolar": [
           {
            "marker": {
             "line": {
              "color": "#E5ECF6",
              "width": 0.5
             }
            },
            "type": "barpolar"
           }
          ],
          "carpet": [
           {
            "aaxis": {
             "endlinecolor": "#2a3f5f",
             "gridcolor": "white",
             "linecolor": "white",
             "minorgridcolor": "white",
             "startlinecolor": "#2a3f5f"
            },
            "baxis": {
             "endlinecolor": "#2a3f5f",
             "gridcolor": "white",
             "linecolor": "white",
             "minorgridcolor": "white",
             "startlinecolor": "#2a3f5f"
            },
            "type": "carpet"
           }
          ],
          "choropleth": [
           {
            "colorbar": {
             "outlinewidth": 0,
             "ticks": ""
            },
            "type": "choropleth"
           }
          ],
          "contour": [
           {
            "colorbar": {
             "outlinewidth": 0,
             "ticks": ""
            },
            "colorscale": [
             [
              0,
              "#0d0887"
             ],
             [
              0.1111111111111111,
              "#46039f"
             ],
             [
              0.2222222222222222,
              "#7201a8"
             ],
             [
              0.3333333333333333,
              "#9c179e"
             ],
             [
              0.4444444444444444,
              "#bd3786"
             ],
             [
              0.5555555555555556,
              "#d8576b"
             ],
             [
              0.6666666666666666,
              "#ed7953"
             ],
             [
              0.7777777777777778,
              "#fb9f3a"
             ],
             [
              0.8888888888888888,
              "#fdca26"
             ],
             [
              1,
              "#f0f921"
             ]
            ],
            "type": "contour"
           }
          ],
          "contourcarpet": [
           {
            "colorbar": {
             "outlinewidth": 0,
             "ticks": ""
            },
            "type": "contourcarpet"
           }
          ],
          "heatmap": [
           {
            "colorbar": {
             "outlinewidth": 0,
             "ticks": ""
            },
            "colorscale": [
             [
              0,
              "#0d0887"
             ],
             [
              0.1111111111111111,
              "#46039f"
             ],
             [
              0.2222222222222222,
              "#7201a8"
             ],
             [
              0.3333333333333333,
              "#9c179e"
             ],
             [
              0.4444444444444444,
              "#bd3786"
             ],
             [
              0.5555555555555556,
              "#d8576b"
             ],
             [
              0.6666666666666666,
              "#ed7953"
             ],
             [
              0.7777777777777778,
              "#fb9f3a"
             ],
             [
              0.8888888888888888,
              "#fdca26"
             ],
             [
              1,
              "#f0f921"
             ]
            ],
            "type": "heatmap"
           }
          ],
          "heatmapgl": [
           {
            "colorbar": {
             "outlinewidth": 0,
             "ticks": ""
            },
            "colorscale": [
             [
              0,
              "#0d0887"
             ],
             [
              0.1111111111111111,
              "#46039f"
             ],
             [
              0.2222222222222222,
              "#7201a8"
             ],
             [
              0.3333333333333333,
              "#9c179e"
             ],
             [
              0.4444444444444444,
              "#bd3786"
             ],
             [
              0.5555555555555556,
              "#d8576b"
             ],
             [
              0.6666666666666666,
              "#ed7953"
             ],
             [
              0.7777777777777778,
              "#fb9f3a"
             ],
             [
              0.8888888888888888,
              "#fdca26"
             ],
             [
              1,
              "#f0f921"
             ]
            ],
            "type": "heatmapgl"
           }
          ],
          "histogram": [
           {
            "marker": {
             "colorbar": {
              "outlinewidth": 0,
              "ticks": ""
             }
            },
            "type": "histogram"
           }
          ],
          "histogram2d": [
           {
            "colorbar": {
             "outlinewidth": 0,
             "ticks": ""
            },
            "colorscale": [
             [
              0,
              "#0d0887"
             ],
             [
              0.1111111111111111,
              "#46039f"
             ],
             [
              0.2222222222222222,
              "#7201a8"
             ],
             [
              0.3333333333333333,
              "#9c179e"
             ],
             [
              0.4444444444444444,
              "#bd3786"
             ],
             [
              0.5555555555555556,
              "#d8576b"
             ],
             [
              0.6666666666666666,
              "#ed7953"
             ],
             [
              0.7777777777777778,
              "#fb9f3a"
             ],
             [
              0.8888888888888888,
              "#fdca26"
             ],
             [
              1,
              "#f0f921"
             ]
            ],
            "type": "histogram2d"
           }
          ],
          "histogram2dcontour": [
           {
            "colorbar": {
             "outlinewidth": 0,
             "ticks": ""
            },
            "colorscale": [
             [
              0,
              "#0d0887"
             ],
             [
              0.1111111111111111,
              "#46039f"
             ],
             [
              0.2222222222222222,
              "#7201a8"
             ],
             [
              0.3333333333333333,
              "#9c179e"
             ],
             [
              0.4444444444444444,
              "#bd3786"
             ],
             [
              0.5555555555555556,
              "#d8576b"
             ],
             [
              0.6666666666666666,
              "#ed7953"
             ],
             [
              0.7777777777777778,
              "#fb9f3a"
             ],
             [
              0.8888888888888888,
              "#fdca26"
             ],
             [
              1,
              "#f0f921"
             ]
            ],
            "type": "histogram2dcontour"
           }
          ],
          "mesh3d": [
           {
            "colorbar": {
             "outlinewidth": 0,
             "ticks": ""
            },
            "type": "mesh3d"
           }
          ],
          "parcoords": [
           {
            "line": {
             "colorbar": {
              "outlinewidth": 0,
              "ticks": ""
             }
            },
            "type": "parcoords"
           }
          ],
          "pie": [
           {
            "automargin": true,
            "type": "pie"
           }
          ],
          "scatter": [
           {
            "marker": {
             "colorbar": {
              "outlinewidth": 0,
              "ticks": ""
             }
            },
            "type": "scatter"
           }
          ],
          "scatter3d": [
           {
            "line": {
             "colorbar": {
              "outlinewidth": 0,
              "ticks": ""
             }
            },
            "marker": {
             "colorbar": {
              "outlinewidth": 0,
              "ticks": ""
             }
            },
            "type": "scatter3d"
           }
          ],
          "scattercarpet": [
           {
            "marker": {
             "colorbar": {
              "outlinewidth": 0,
              "ticks": ""
             }
            },
            "type": "scattercarpet"
           }
          ],
          "scattergeo": [
           {
            "marker": {
             "colorbar": {
              "outlinewidth": 0,
              "ticks": ""
             }
            },
            "type": "scattergeo"
           }
          ],
          "scattergl": [
           {
            "marker": {
             "colorbar": {
              "outlinewidth": 0,
              "ticks": ""
             }
            },
            "type": "scattergl"
           }
          ],
          "scattermapbox": [
           {
            "marker": {
             "colorbar": {
              "outlinewidth": 0,
              "ticks": ""
             }
            },
            "type": "scattermapbox"
           }
          ],
          "scatterpolar": [
           {
            "marker": {
             "colorbar": {
              "outlinewidth": 0,
              "ticks": ""
             }
            },
            "type": "scatterpolar"
           }
          ],
          "scatterpolargl": [
           {
            "marker": {
             "colorbar": {
              "outlinewidth": 0,
              "ticks": ""
             }
            },
            "type": "scatterpolargl"
           }
          ],
          "scatterternary": [
           {
            "marker": {
             "colorbar": {
              "outlinewidth": 0,
              "ticks": ""
             }
            },
            "type": "scatterternary"
           }
          ],
          "surface": [
           {
            "colorbar": {
             "outlinewidth": 0,
             "ticks": ""
            },
            "colorscale": [
             [
              0,
              "#0d0887"
             ],
             [
              0.1111111111111111,
              "#46039f"
             ],
             [
              0.2222222222222222,
              "#7201a8"
             ],
             [
              0.3333333333333333,
              "#9c179e"
             ],
             [
              0.4444444444444444,
              "#bd3786"
             ],
             [
              0.5555555555555556,
              "#d8576b"
             ],
             [
              0.6666666666666666,
              "#ed7953"
             ],
             [
              0.7777777777777778,
              "#fb9f3a"
             ],
             [
              0.8888888888888888,
              "#fdca26"
             ],
             [
              1,
              "#f0f921"
             ]
            ],
            "type": "surface"
           }
          ],
          "table": [
           {
            "cells": {
             "fill": {
              "color": "#EBF0F8"
             },
             "line": {
              "color": "white"
             }
            },
            "header": {
             "fill": {
              "color": "#C8D4E3"
             },
             "line": {
              "color": "white"
             }
            },
            "type": "table"
           }
          ]
         },
         "layout": {
          "annotationdefaults": {
           "arrowcolor": "#2a3f5f",
           "arrowhead": 0,
           "arrowwidth": 1
          },
          "autotypenumbers": "strict",
          "coloraxis": {
           "colorbar": {
            "outlinewidth": 0,
            "ticks": ""
           }
          },
          "colorscale": {
           "diverging": [
            [
             0,
             "#8e0152"
            ],
            [
             0.1,
             "#c51b7d"
            ],
            [
             0.2,
             "#de77ae"
            ],
            [
             0.3,
             "#f1b6da"
            ],
            [
             0.4,
             "#fde0ef"
            ],
            [
             0.5,
             "#f7f7f7"
            ],
            [
             0.6,
             "#e6f5d0"
            ],
            [
             0.7,
             "#b8e186"
            ],
            [
             0.8,
             "#7fbc41"
            ],
            [
             0.9,
             "#4d9221"
            ],
            [
             1,
             "#276419"
            ]
           ],
           "sequential": [
            [
             0,
             "#0d0887"
            ],
            [
             0.1111111111111111,
             "#46039f"
            ],
            [
             0.2222222222222222,
             "#7201a8"
            ],
            [
             0.3333333333333333,
             "#9c179e"
            ],
            [
             0.4444444444444444,
             "#bd3786"
            ],
            [
             0.5555555555555556,
             "#d8576b"
            ],
            [
             0.6666666666666666,
             "#ed7953"
            ],
            [
             0.7777777777777778,
             "#fb9f3a"
            ],
            [
             0.8888888888888888,
             "#fdca26"
            ],
            [
             1,
             "#f0f921"
            ]
           ],
           "sequentialminus": [
            [
             0,
             "#0d0887"
            ],
            [
             0.1111111111111111,
             "#46039f"
            ],
            [
             0.2222222222222222,
             "#7201a8"
            ],
            [
             0.3333333333333333,
             "#9c179e"
            ],
            [
             0.4444444444444444,
             "#bd3786"
            ],
            [
             0.5555555555555556,
             "#d8576b"
            ],
            [
             0.6666666666666666,
             "#ed7953"
            ],
            [
             0.7777777777777778,
             "#fb9f3a"
            ],
            [
             0.8888888888888888,
             "#fdca26"
            ],
            [
             1,
             "#f0f921"
            ]
           ]
          },
          "colorway": [
           "#636efa",
           "#EF553B",
           "#00cc96",
           "#ab63fa",
           "#FFA15A",
           "#19d3f3",
           "#FF6692",
           "#B6E880",
           "#FF97FF",
           "#FECB52"
          ],
          "font": {
           "color": "#2a3f5f"
          },
          "geo": {
           "bgcolor": "white",
           "lakecolor": "white",
           "landcolor": "#E5ECF6",
           "showlakes": true,
           "showland": true,
           "subunitcolor": "white"
          },
          "hoverlabel": {
           "align": "left"
          },
          "hovermode": "closest",
          "mapbox": {
           "style": "light"
          },
          "paper_bgcolor": "white",
          "plot_bgcolor": "#E5ECF6",
          "polar": {
           "angularaxis": {
            "gridcolor": "white",
            "linecolor": "white",
            "ticks": ""
           },
           "bgcolor": "#E5ECF6",
           "radialaxis": {
            "gridcolor": "white",
            "linecolor": "white",
            "ticks": ""
           }
          },
          "scene": {
           "xaxis": {
            "backgroundcolor": "#E5ECF6",
            "gridcolor": "white",
            "gridwidth": 2,
            "linecolor": "white",
            "showbackground": true,
            "ticks": "",
            "zerolinecolor": "white"
           },
           "yaxis": {
            "backgroundcolor": "#E5ECF6",
            "gridcolor": "white",
            "gridwidth": 2,
            "linecolor": "white",
            "showbackground": true,
            "ticks": "",
            "zerolinecolor": "white"
           },
           "zaxis": {
            "backgroundcolor": "#E5ECF6",
            "gridcolor": "white",
            "gridwidth": 2,
            "linecolor": "white",
            "showbackground": true,
            "ticks": "",
            "zerolinecolor": "white"
           }
          },
          "shapedefaults": {
           "line": {
            "color": "#2a3f5f"
           }
          },
          "ternary": {
           "aaxis": {
            "gridcolor": "white",
            "linecolor": "white",
            "ticks": ""
           },
           "baxis": {
            "gridcolor": "white",
            "linecolor": "white",
            "ticks": ""
           },
           "bgcolor": "#E5ECF6",
           "caxis": {
            "gridcolor": "white",
            "linecolor": "white",
            "ticks": ""
           }
          },
          "title": {
           "x": 0.05
          },
          "xaxis": {
           "automargin": true,
           "gridcolor": "white",
           "linecolor": "white",
           "ticks": "",
           "title": {
            "standoff": 15
           },
           "zerolinecolor": "white",
           "zerolinewidth": 2
          },
          "yaxis": {
           "automargin": true,
           "gridcolor": "white",
           "linecolor": "white",
           "ticks": "",
           "title": {
            "standoff": 15
           },
           "zerolinecolor": "white",
           "zerolinewidth": 2
          }
         }
        }
       }
      },
      "text/html": [
       "<div>                            <div id=\"0e2c3680-cadb-4aac-afad-5e1b733f7a25\" class=\"plotly-graph-div\" style=\"height:525px; width:100%;\"></div>            <script type=\"text/javascript\">                require([\"plotly\"], function(Plotly) {                    window.PLOTLYENV=window.PLOTLYENV || {};                                    if (document.getElementById(\"0e2c3680-cadb-4aac-afad-5e1b733f7a25\")) {                    Plotly.newPlot(                        \"0e2c3680-cadb-4aac-afad-5e1b733f7a25\",                        [{\"type\": \"bar\", \"x\": [\"2021-03-19T00:00:00+00:00\", \"2021-03-19T00:30:00+00:00\", \"2021-03-19T01:00:00+00:00\", \"2021-03-19T01:30:00+00:00\", \"2021-03-19T02:00:00+00:00\", \"2021-03-19T02:30:00+00:00\", \"2021-03-19T03:00:00+00:00\", \"2021-03-19T03:30:00+00:00\", \"2021-03-19T04:00:00+00:00\", \"2021-03-19T04:30:00+00:00\", \"2021-03-19T05:00:00+00:00\", \"2021-03-19T05:30:00+00:00\", \"2021-03-19T06:00:00+00:00\", \"2021-03-19T06:30:00+00:00\", \"2021-03-19T07:00:00+00:00\", \"2021-03-19T07:30:00+00:00\", \"2021-03-19T08:00:00+00:00\", \"2021-03-19T08:30:00+00:00\", \"2021-03-19T09:00:00+00:00\", \"2021-03-19T09:30:00+00:00\", \"2021-03-19T10:00:00+00:00\", \"2021-03-19T10:30:00+00:00\", \"2021-03-19T11:00:00+00:00\", \"2021-03-19T11:30:00+00:00\", \"2021-03-19T12:00:00+00:00\", \"2021-03-19T12:30:00+00:00\", \"2021-03-19T13:00:00+00:00\", \"2021-03-19T13:30:00+00:00\", \"2021-03-19T14:00:00+00:00\", \"2021-03-19T14:30:00+00:00\", \"2021-03-19T15:00:00+00:00\", \"2021-03-19T15:30:00+00:00\", \"2021-03-19T16:00:00+00:00\", \"2021-03-19T16:30:00+00:00\", \"2021-03-19T17:00:00+00:00\", \"2021-03-19T17:30:00+00:00\", \"2021-03-19T18:00:00+00:00\", \"2021-03-19T18:30:00+00:00\", \"2021-03-19T19:00:00+00:00\", \"2021-03-19T19:30:00+00:00\", \"2021-03-19T20:00:00+00:00\", \"2021-03-19T20:30:00+00:00\", \"2021-03-19T21:00:00+00:00\", \"2021-03-19T21:30:00+00:00\", \"2021-03-19T22:00:00+00:00\", \"2021-03-19T22:30:00+00:00\", \"2021-03-19T23:00:00+00:00\", \"2021-03-19T23:30:00+00:00\", \"2021-03-20T00:00:00+00:00\", \"2021-03-20T00:30:00+00:00\", \"2021-03-20T01:00:00+00:00\", \"2021-03-20T01:30:00+00:00\", \"2021-03-20T02:00:00+00:00\", \"2021-03-20T02:30:00+00:00\", \"2021-03-20T03:00:00+00:00\", \"2021-03-20T03:30:00+00:00\", \"2021-03-20T04:00:00+00:00\", \"2021-03-20T04:30:00+00:00\", \"2021-03-20T05:00:00+00:00\", \"2021-03-20T05:30:00+00:00\", \"2021-03-20T06:00:00+00:00\", \"2021-03-20T06:30:00+00:00\", \"2021-03-20T07:00:00+00:00\", \"2021-03-20T07:30:00+00:00\", \"2021-03-20T08:00:00+00:00\", \"2021-03-20T08:30:00+00:00\", \"2021-03-20T09:00:00+00:00\", \"2021-03-20T09:30:00+00:00\", \"2021-03-20T10:00:00+00:00\", \"2021-03-20T10:30:00+00:00\", \"2021-03-20T11:00:00+00:00\", \"2021-03-20T11:30:00+00:00\", \"2021-03-20T12:00:00+00:00\", \"2021-03-20T12:30:00+00:00\", \"2021-03-20T13:00:00+00:00\", \"2021-03-20T13:30:00+00:00\", \"2021-03-20T14:00:00+00:00\", \"2021-03-20T14:30:00+00:00\", \"2021-03-20T15:00:00+00:00\", \"2021-03-20T15:30:00+00:00\", \"2021-03-20T16:00:00+00:00\", \"2021-03-20T16:30:00+00:00\", \"2021-03-20T17:00:00+00:00\", \"2021-03-20T17:30:00+00:00\", \"2021-03-20T18:00:00+00:00\", \"2021-03-20T18:30:00+00:00\", \"2021-03-20T19:00:00+00:00\", \"2021-03-20T19:30:00+00:00\", \"2021-03-20T20:00:00+00:00\", \"2021-03-20T20:30:00+00:00\", \"2021-03-20T21:00:00+00:00\", \"2021-03-20T21:30:00+00:00\", \"2021-03-20T22:00:00+00:00\", \"2021-03-20T22:30:00+00:00\", \"2021-03-20T23:00:00+00:00\", \"2021-03-20T23:30:00+00:00\", \"2021-03-21T00:00:00+00:00\", \"2021-03-21T00:30:00+00:00\", \"2021-03-21T01:00:00+00:00\", \"2021-03-21T01:30:00+00:00\", \"2021-03-21T02:00:00+00:00\", \"2021-03-21T02:30:00+00:00\", \"2021-03-21T03:00:00+00:00\", \"2021-03-21T03:30:00+00:00\", \"2021-03-21T04:00:00+00:00\", \"2021-03-21T04:30:00+00:00\", \"2021-03-21T05:00:00+00:00\", \"2021-03-21T05:30:00+00:00\", \"2021-03-21T06:00:00+00:00\", \"2021-03-21T06:30:00+00:00\", \"2021-03-21T07:00:00+00:00\", \"2021-03-21T07:30:00+00:00\", \"2021-03-21T08:00:00+00:00\", \"2021-03-21T08:30:00+00:00\", \"2021-03-21T09:00:00+00:00\", \"2021-03-21T09:30:00+00:00\", \"2021-03-21T10:00:00+00:00\", \"2021-03-21T10:30:00+00:00\", \"2021-03-21T11:00:00+00:00\", \"2021-03-21T11:30:00+00:00\", \"2021-03-21T12:00:00+00:00\", \"2021-03-21T12:30:00+00:00\", \"2021-03-21T13:00:00+00:00\", \"2021-03-21T13:30:00+00:00\", \"2021-03-21T14:00:00+00:00\", \"2021-03-21T14:30:00+00:00\", \"2021-03-21T15:00:00+00:00\", \"2021-03-21T15:30:00+00:00\", \"2021-03-21T16:00:00+00:00\", \"2021-03-21T16:30:00+00:00\", \"2021-03-21T17:00:00+00:00\", \"2021-03-21T17:30:00+00:00\", \"2021-03-21T18:00:00+00:00\", \"2021-03-21T18:30:00+00:00\", \"2021-03-21T19:00:00+00:00\", \"2021-03-21T19:30:00+00:00\", \"2021-03-21T20:00:00+00:00\", \"2021-03-21T20:30:00+00:00\", \"2021-03-21T21:00:00+00:00\", \"2021-03-21T21:30:00+00:00\", \"2021-03-21T22:00:00+00:00\", \"2021-03-21T22:30:00+00:00\", \"2021-03-21T23:00:00+00:00\", \"2021-03-21T23:30:00+00:00\", \"2021-03-22T00:00:00+00:00\", \"2021-03-22T00:30:00+00:00\", \"2021-03-22T01:00:00+00:00\", \"2021-03-22T01:30:00+00:00\", \"2021-03-22T02:00:00+00:00\", \"2021-03-22T02:30:00+00:00\", \"2021-03-22T03:00:00+00:00\", \"2021-03-22T03:30:00+00:00\", \"2021-03-22T04:00:00+00:00\", \"2021-03-22T04:30:00+00:00\", \"2021-03-22T05:00:00+00:00\", \"2021-03-22T05:30:00+00:00\", \"2021-03-22T06:00:00+00:00\", \"2021-03-22T06:30:00+00:00\", \"2021-03-22T07:00:00+00:00\", \"2021-03-22T07:30:00+00:00\", \"2021-03-22T08:00:00+00:00\", \"2021-03-22T08:30:00+00:00\", \"2021-03-22T09:00:00+00:00\", \"2021-03-22T09:30:00+00:00\", \"2021-03-22T10:00:00+00:00\", \"2021-03-22T10:30:00+00:00\", \"2021-03-22T11:00:00+00:00\", \"2021-03-22T11:30:00+00:00\", \"2021-03-22T12:00:00+00:00\", \"2021-03-22T12:30:00+00:00\", \"2021-03-22T13:00:00+00:00\", \"2021-03-22T13:30:00+00:00\", \"2021-03-22T14:00:00+00:00\", \"2021-03-22T14:30:00+00:00\", \"2021-03-22T15:00:00+00:00\", \"2021-03-22T15:30:00+00:00\", \"2021-03-22T16:00:00+00:00\", \"2021-03-22T16:30:00+00:00\", \"2021-03-22T17:00:00+00:00\", \"2021-03-22T17:30:00+00:00\", \"2021-03-22T18:00:00+00:00\", \"2021-03-22T18:30:00+00:00\", \"2021-03-22T19:00:00+00:00\", \"2021-03-22T19:30:00+00:00\", \"2021-03-22T20:00:00+00:00\", \"2021-03-22T20:30:00+00:00\", \"2021-03-22T21:00:00+00:00\", \"2021-03-22T21:30:00+00:00\", \"2021-03-22T22:00:00+00:00\", \"2021-03-22T22:30:00+00:00\", \"2021-03-22T23:00:00+00:00\", \"2021-03-22T23:30:00+00:00\", \"2021-03-23T00:00:00+00:00\", \"2021-03-23T00:30:00+00:00\", \"2021-03-23T01:00:00+00:00\", \"2021-03-23T01:30:00+00:00\", \"2021-03-23T02:00:00+00:00\", \"2021-03-23T02:30:00+00:00\", \"2021-03-23T03:00:00+00:00\", \"2021-03-23T03:30:00+00:00\", \"2021-03-23T04:00:00+00:00\", \"2021-03-23T04:30:00+00:00\", \"2021-03-23T05:00:00+00:00\", \"2021-03-23T05:30:00+00:00\", \"2021-03-23T06:00:00+00:00\", \"2021-03-23T06:30:00+00:00\", \"2021-03-23T07:00:00+00:00\", \"2021-03-23T07:30:00+00:00\", \"2021-03-23T08:00:00+00:00\", \"2021-03-23T08:30:00+00:00\", \"2021-03-23T09:00:00+00:00\", \"2021-03-23T09:30:00+00:00\", \"2021-03-23T10:00:00+00:00\", \"2021-03-23T10:30:00+00:00\", \"2021-03-23T11:00:00+00:00\", \"2021-03-23T11:30:00+00:00\", \"2021-03-23T12:00:00+00:00\", \"2021-03-23T12:30:00+00:00\", \"2021-03-23T13:00:00+00:00\", \"2021-03-23T13:30:00+00:00\", \"2021-03-23T14:00:00+00:00\", \"2021-03-23T14:30:00+00:00\", \"2021-03-23T15:00:00+00:00\", \"2021-03-23T15:30:00+00:00\", \"2021-03-23T16:00:00+00:00\", \"2021-03-23T16:30:00+00:00\", \"2021-03-23T17:00:00+00:00\", \"2021-03-23T17:30:00+00:00\", \"2021-03-23T18:00:00+00:00\", \"2021-03-23T18:30:00+00:00\", \"2021-03-23T19:00:00+00:00\", \"2021-03-23T19:30:00+00:00\", \"2021-03-23T20:00:00+00:00\", \"2021-03-23T20:30:00+00:00\", \"2021-03-23T21:00:00+00:00\", \"2021-03-23T21:30:00+00:00\", \"2021-03-23T22:00:00+00:00\", \"2021-03-23T22:30:00+00:00\", \"2021-03-23T23:00:00+00:00\", \"2021-03-23T23:30:00+00:00\", \"2021-03-24T00:00:00+00:00\", \"2021-03-24T00:30:00+00:00\", \"2021-03-24T01:00:00+00:00\", \"2021-03-24T01:30:00+00:00\", \"2021-03-24T02:00:00+00:00\", \"2021-03-24T02:30:00+00:00\", \"2021-03-24T03:00:00+00:00\", \"2021-03-24T03:30:00+00:00\", \"2021-03-24T04:00:00+00:00\", \"2021-03-24T04:30:00+00:00\", \"2021-03-24T05:00:00+00:00\", \"2021-03-24T05:30:00+00:00\", \"2021-03-24T06:00:00+00:00\", \"2021-03-24T06:30:00+00:00\", \"2021-03-24T07:00:00+00:00\", \"2021-03-24T07:30:00+00:00\", \"2021-03-24T08:00:00+00:00\", \"2021-03-24T08:30:00+00:00\", \"2021-03-24T09:00:00+00:00\", \"2021-03-24T09:30:00+00:00\", \"2021-03-24T10:00:00+00:00\", \"2021-03-24T10:30:00+00:00\", \"2021-03-24T11:00:00+00:00\", \"2021-03-24T11:30:00+00:00\", \"2021-03-24T12:00:00+00:00\", \"2021-03-24T12:30:00+00:00\", \"2021-03-24T13:00:00+00:00\", \"2021-03-24T13:30:00+00:00\", \"2021-03-24T14:00:00+00:00\", \"2021-03-24T14:30:00+00:00\", \"2021-03-24T15:00:00+00:00\", \"2021-03-24T15:30:00+00:00\", \"2021-03-24T16:00:00+00:00\", \"2021-03-24T16:30:00+00:00\", \"2021-03-24T17:00:00+00:00\", \"2021-03-24T17:30:00+00:00\", \"2021-03-24T18:00:00+00:00\", \"2021-03-24T18:30:00+00:00\", \"2021-03-24T19:00:00+00:00\", \"2021-03-24T19:30:00+00:00\", \"2021-03-24T20:00:00+00:00\", \"2021-03-24T20:30:00+00:00\", \"2021-03-24T21:00:00+00:00\", \"2021-03-24T21:30:00+00:00\", \"2021-03-24T22:00:00+00:00\", \"2021-03-24T22:30:00+00:00\", \"2021-03-24T23:00:00+00:00\", \"2021-03-24T23:30:00+00:00\"], \"y\": [103635968, 224413696, 91043840, 89996288, 13082624, 22910976, 41623552, 42418176, 30824448, 3239936, 26030080, 74893312, 432407552, 25787392, 42489856, 36087808, 173263872, 69682176, 8842240, 3205120, 33077248, 30528512, 0, 0, 100601856, 77193216, 1855488, 5550080, 32401408, 70970368, 0, 0, 0, 0, 1461248, 0, 205739008, 42104320, 33760256, 72613376, 0, 11345408, 25180160, 31693824, 45552640, 0, 22039040, 11222016, 0, 0, 0, 55947264, 13603840, 4929536, 2500608, 2627072, 44897792, 56832, 13167104, 9265152, 0, 0, 7171584, 28155392, 17480192, 0, 0, 0, 0, 0, 0, 8729600, 0, 0, 1244672, 0, 10583040, 0, 1136128, 7278080, 0, 4664832, 11229696, 45402624, 0, 0, 1167360, 0, 0, 0, 0, 3075584, 230912, 39905792, 0, 27220224, 106213376, 69069824, 84270592, 0, 8435712, 32550400, 21321216, 32887808, 15384576, 43585536, 1977344, 34990592, 16558592, 21103616, 8923136, 7809024, 6512128, 5334016, 1692160, 41680896, 49132544, 21756416, 55236096, 19154944, 70132736, 45148672, 59539968, 49282048, 1523712, 54530048, 30662656, 10744320, 14727168, 2463232, 1995264, 3743232, 2906624, 19233792, 1311232, 11307008, 4949504, 1483776, 8335360, 10044928, 0, 0, 0, 2221056, 0, 767744, 2279168, 5164544, 8866560, 0, 9396224, 399872, 1681408, 0, 7076352, 10799616, 8743424, 0, 6593792, 14723328, 0, 16085248, 22718720, 0, 14832640, 489728, 847872, 0, 0, 8847360, 5648384, 18939136, 34026496, 0, 489728, 751104, 1373440, 21529088, 6131968, 16921856, 11441920, 21847296, 64086272, 66681856, 46298112, 341174528, 177759232, 77244416, 112929792, 83992320, 65124608, 43373824, 82263040, 46103552, 66309120, 88088832, 17113088, 27220992, 15416320, 27148800, 15502848, 66708480, 28851712, 76009984, 77189632, 73351168, 99731968, 60935168, 39802368, 39716864, 22976000, 30742528, 20417024, 30751744, 24763904, 31657472, 47703552, 37011456, 111874560, 19635712, 1820672, 67702784, 29604864, 25378816, 48946688, 2873856, 22381056, 15784448, 14872576, 16108032, 16643584, 7204864, 46792704, 0, 0, 9489920, 0, 4286976, 0, 17113600, 6588928, 4806656, 8480256, 2962944, 0, 0, 6354944, 10124288, 12955648, 0, 1256960, 0, 0, 30513408, 35619072, 1462784, 48094720, 13511936, 380261376, 0, 2146304, 4029696, 0, 345088, 5790208, 1423872, 0, 766464, 0, 0, 0, 26706176, 0, 0, 9028352, 6664960, 300800, 0, 8911616, 12359936, 11311360, 57433088, 6610944, 3607552, 85187584, 140293632, 68993024, 31758080]}],                        {\"template\": {\"data\": {\"bar\": [{\"error_x\": {\"color\": \"#2a3f5f\"}, \"error_y\": {\"color\": \"#2a3f5f\"}, \"marker\": {\"line\": {\"color\": \"#E5ECF6\", \"width\": 0.5}}, \"type\": \"bar\"}], \"barpolar\": [{\"marker\": {\"line\": {\"color\": \"#E5ECF6\", \"width\": 0.5}}, \"type\": \"barpolar\"}], \"carpet\": [{\"aaxis\": {\"endlinecolor\": \"#2a3f5f\", \"gridcolor\": \"white\", \"linecolor\": \"white\", \"minorgridcolor\": \"white\", \"startlinecolor\": \"#2a3f5f\"}, \"baxis\": {\"endlinecolor\": \"#2a3f5f\", \"gridcolor\": \"white\", \"linecolor\": \"white\", \"minorgridcolor\": \"white\", \"startlinecolor\": \"#2a3f5f\"}, \"type\": \"carpet\"}], \"choropleth\": [{\"colorbar\": {\"outlinewidth\": 0, \"ticks\": \"\"}, \"type\": \"choropleth\"}], \"contour\": [{\"colorbar\": {\"outlinewidth\": 0, \"ticks\": \"\"}, \"colorscale\": [[0.0, \"#0d0887\"], [0.1111111111111111, \"#46039f\"], [0.2222222222222222, \"#7201a8\"], [0.3333333333333333, \"#9c179e\"], [0.4444444444444444, \"#bd3786\"], [0.5555555555555556, \"#d8576b\"], [0.6666666666666666, \"#ed7953\"], [0.7777777777777778, \"#fb9f3a\"], [0.8888888888888888, \"#fdca26\"], [1.0, \"#f0f921\"]], \"type\": \"contour\"}], \"contourcarpet\": [{\"colorbar\": {\"outlinewidth\": 0, \"ticks\": \"\"}, \"type\": \"contourcarpet\"}], \"heatmap\": [{\"colorbar\": {\"outlinewidth\": 0, \"ticks\": \"\"}, \"colorscale\": [[0.0, \"#0d0887\"], [0.1111111111111111, \"#46039f\"], [0.2222222222222222, \"#7201a8\"], [0.3333333333333333, \"#9c179e\"], [0.4444444444444444, \"#bd3786\"], [0.5555555555555556, \"#d8576b\"], [0.6666666666666666, \"#ed7953\"], [0.7777777777777778, \"#fb9f3a\"], [0.8888888888888888, \"#fdca26\"], [1.0, \"#f0f921\"]], \"type\": \"heatmap\"}], \"heatmapgl\": [{\"colorbar\": {\"outlinewidth\": 0, \"ticks\": \"\"}, \"colorscale\": [[0.0, \"#0d0887\"], [0.1111111111111111, \"#46039f\"], [0.2222222222222222, \"#7201a8\"], [0.3333333333333333, \"#9c179e\"], [0.4444444444444444, \"#bd3786\"], [0.5555555555555556, \"#d8576b\"], [0.6666666666666666, \"#ed7953\"], [0.7777777777777778, \"#fb9f3a\"], [0.8888888888888888, \"#fdca26\"], [1.0, \"#f0f921\"]], \"type\": \"heatmapgl\"}], \"histogram\": [{\"marker\": {\"colorbar\": {\"outlinewidth\": 0, \"ticks\": \"\"}}, \"type\": \"histogram\"}], \"histogram2d\": [{\"colorbar\": {\"outlinewidth\": 0, \"ticks\": \"\"}, \"colorscale\": [[0.0, \"#0d0887\"], [0.1111111111111111, \"#46039f\"], [0.2222222222222222, \"#7201a8\"], [0.3333333333333333, \"#9c179e\"], [0.4444444444444444, \"#bd3786\"], [0.5555555555555556, \"#d8576b\"], [0.6666666666666666, \"#ed7953\"], [0.7777777777777778, \"#fb9f3a\"], [0.8888888888888888, \"#fdca26\"], [1.0, \"#f0f921\"]], \"type\": \"histogram2d\"}], \"histogram2dcontour\": [{\"colorbar\": {\"outlinewidth\": 0, \"ticks\": \"\"}, \"colorscale\": [[0.0, \"#0d0887\"], [0.1111111111111111, \"#46039f\"], [0.2222222222222222, \"#7201a8\"], [0.3333333333333333, \"#9c179e\"], [0.4444444444444444, \"#bd3786\"], [0.5555555555555556, \"#d8576b\"], [0.6666666666666666, \"#ed7953\"], [0.7777777777777778, \"#fb9f3a\"], [0.8888888888888888, \"#fdca26\"], [1.0, \"#f0f921\"]], \"type\": \"histogram2dcontour\"}], \"mesh3d\": [{\"colorbar\": {\"outlinewidth\": 0, \"ticks\": \"\"}, \"type\": \"mesh3d\"}], \"parcoords\": [{\"line\": {\"colorbar\": {\"outlinewidth\": 0, \"ticks\": \"\"}}, \"type\": \"parcoords\"}], \"pie\": [{\"automargin\": true, \"type\": \"pie\"}], \"scatter\": [{\"marker\": {\"colorbar\": {\"outlinewidth\": 0, \"ticks\": \"\"}}, \"type\": \"scatter\"}], \"scatter3d\": [{\"line\": {\"colorbar\": {\"outlinewidth\": 0, \"ticks\": \"\"}}, \"marker\": {\"colorbar\": {\"outlinewidth\": 0, \"ticks\": \"\"}}, \"type\": \"scatter3d\"}], \"scattercarpet\": [{\"marker\": {\"colorbar\": {\"outlinewidth\": 0, \"ticks\": \"\"}}, \"type\": \"scattercarpet\"}], \"scattergeo\": [{\"marker\": {\"colorbar\": {\"outlinewidth\": 0, \"ticks\": \"\"}}, \"type\": \"scattergeo\"}], \"scattergl\": [{\"marker\": {\"colorbar\": {\"outlinewidth\": 0, \"ticks\": \"\"}}, \"type\": \"scattergl\"}], \"scattermapbox\": [{\"marker\": {\"colorbar\": {\"outlinewidth\": 0, \"ticks\": \"\"}}, \"type\": \"scattermapbox\"}], \"scatterpolar\": [{\"marker\": {\"colorbar\": {\"outlinewidth\": 0, \"ticks\": \"\"}}, \"type\": \"scatterpolar\"}], \"scatterpolargl\": [{\"marker\": {\"colorbar\": {\"outlinewidth\": 0, \"ticks\": \"\"}}, \"type\": \"scatterpolargl\"}], \"scatterternary\": [{\"marker\": {\"colorbar\": {\"outlinewidth\": 0, \"ticks\": \"\"}}, \"type\": \"scatterternary\"}], \"surface\": [{\"colorbar\": {\"outlinewidth\": 0, \"ticks\": \"\"}, \"colorscale\": [[0.0, \"#0d0887\"], [0.1111111111111111, \"#46039f\"], [0.2222222222222222, \"#7201a8\"], [0.3333333333333333, \"#9c179e\"], [0.4444444444444444, \"#bd3786\"], [0.5555555555555556, \"#d8576b\"], [0.6666666666666666, \"#ed7953\"], [0.7777777777777778, \"#fb9f3a\"], [0.8888888888888888, \"#fdca26\"], [1.0, \"#f0f921\"]], \"type\": \"surface\"}], \"table\": [{\"cells\": {\"fill\": {\"color\": \"#EBF0F8\"}, \"line\": {\"color\": \"white\"}}, \"header\": {\"fill\": {\"color\": \"#C8D4E3\"}, \"line\": {\"color\": \"white\"}}, \"type\": \"table\"}]}, \"layout\": {\"annotationdefaults\": {\"arrowcolor\": \"#2a3f5f\", \"arrowhead\": 0, \"arrowwidth\": 1}, \"autotypenumbers\": \"strict\", \"coloraxis\": {\"colorbar\": {\"outlinewidth\": 0, \"ticks\": \"\"}}, \"colorscale\": {\"diverging\": [[0, \"#8e0152\"], [0.1, \"#c51b7d\"], [0.2, \"#de77ae\"], [0.3, \"#f1b6da\"], [0.4, \"#fde0ef\"], [0.5, \"#f7f7f7\"], [0.6, \"#e6f5d0\"], [0.7, \"#b8e186\"], [0.8, \"#7fbc41\"], [0.9, \"#4d9221\"], [1, \"#276419\"]], \"sequential\": [[0.0, \"#0d0887\"], [0.1111111111111111, \"#46039f\"], [0.2222222222222222, \"#7201a8\"], [0.3333333333333333, \"#9c179e\"], [0.4444444444444444, \"#bd3786\"], [0.5555555555555556, \"#d8576b\"], [0.6666666666666666, \"#ed7953\"], [0.7777777777777778, \"#fb9f3a\"], [0.8888888888888888, \"#fdca26\"], [1.0, \"#f0f921\"]], \"sequentialminus\": [[0.0, \"#0d0887\"], [0.1111111111111111, \"#46039f\"], [0.2222222222222222, \"#7201a8\"], [0.3333333333333333, \"#9c179e\"], [0.4444444444444444, \"#bd3786\"], [0.5555555555555556, \"#d8576b\"], [0.6666666666666666, \"#ed7953\"], [0.7777777777777778, \"#fb9f3a\"], [0.8888888888888888, \"#fdca26\"], [1.0, \"#f0f921\"]]}, \"colorway\": [\"#636efa\", \"#EF553B\", \"#00cc96\", \"#ab63fa\", \"#FFA15A\", \"#19d3f3\", \"#FF6692\", \"#B6E880\", \"#FF97FF\", \"#FECB52\"], \"font\": {\"color\": \"#2a3f5f\"}, \"geo\": {\"bgcolor\": \"white\", \"lakecolor\": \"white\", \"landcolor\": \"#E5ECF6\", \"showlakes\": true, \"showland\": true, \"subunitcolor\": \"white\"}, \"hoverlabel\": {\"align\": \"left\"}, \"hovermode\": \"closest\", \"mapbox\": {\"style\": \"light\"}, \"paper_bgcolor\": \"white\", \"plot_bgcolor\": \"#E5ECF6\", \"polar\": {\"angularaxis\": {\"gridcolor\": \"white\", \"linecolor\": \"white\", \"ticks\": \"\"}, \"bgcolor\": \"#E5ECF6\", \"radialaxis\": {\"gridcolor\": \"white\", \"linecolor\": \"white\", \"ticks\": \"\"}}, \"scene\": {\"xaxis\": {\"backgroundcolor\": \"#E5ECF6\", \"gridcolor\": \"white\", \"gridwidth\": 2, \"linecolor\": \"white\", \"showbackground\": true, \"ticks\": \"\", \"zerolinecolor\": \"white\"}, \"yaxis\": {\"backgroundcolor\": \"#E5ECF6\", \"gridcolor\": \"white\", \"gridwidth\": 2, \"linecolor\": \"white\", \"showbackground\": true, \"ticks\": \"\", \"zerolinecolor\": \"white\"}, \"zaxis\": {\"backgroundcolor\": \"#E5ECF6\", \"gridcolor\": \"white\", \"gridwidth\": 2, \"linecolor\": \"white\", \"showbackground\": true, \"ticks\": \"\", \"zerolinecolor\": \"white\"}}, \"shapedefaults\": {\"line\": {\"color\": \"#2a3f5f\"}}, \"ternary\": {\"aaxis\": {\"gridcolor\": \"white\", \"linecolor\": \"white\", \"ticks\": \"\"}, \"baxis\": {\"gridcolor\": \"white\", \"linecolor\": \"white\", \"ticks\": \"\"}, \"bgcolor\": \"#E5ECF6\", \"caxis\": {\"gridcolor\": \"white\", \"linecolor\": \"white\", \"ticks\": \"\"}}, \"title\": {\"x\": 0.05}, \"xaxis\": {\"automargin\": true, \"gridcolor\": \"white\", \"linecolor\": \"white\", \"ticks\": \"\", \"title\": {\"standoff\": 15}, \"zerolinecolor\": \"white\", \"zerolinewidth\": 2}, \"yaxis\": {\"automargin\": true, \"gridcolor\": \"white\", \"linecolor\": \"white\", \"ticks\": \"\", \"title\": {\"standoff\": 15}, \"zerolinecolor\": \"white\", \"zerolinewidth\": 2}}}},                        {\"responsive\": true}                    ).then(function(){\n",
       "                            \n",
       "var gd = document.getElementById('0e2c3680-cadb-4aac-afad-5e1b733f7a25');\n",
       "var x = new MutationObserver(function (mutations, observer) {{\n",
       "        var display = window.getComputedStyle(gd).display;\n",
       "        if (!display || display === 'none') {{\n",
       "            console.log([gd, 'removed!']);\n",
       "            Plotly.purge(gd);\n",
       "            observer.disconnect();\n",
       "        }}\n",
       "}});\n",
       "\n",
       "// Listen for the removal of the full notebook cells\n",
       "var notebookContainer = gd.closest('#notebook-container');\n",
       "if (notebookContainer) {{\n",
       "    x.observe(notebookContainer, {childList: true});\n",
       "}}\n",
       "\n",
       "// Listen for the clearing of the current output cell\n",
       "var outputEl = gd.closest('.output');\n",
       "if (outputEl) {{\n",
       "    x.observe(outputEl, {childList: true});\n",
       "}}\n",
       "\n",
       "                        })                };                });            </script>        </div>"
      ]
     },
     "metadata": {},
     "output_type": "display_data"
    }
   ],
   "source": [
    "\n",
    "fig.show()"
   ]
  },
  {
   "cell_type": "code",
   "execution_count": null,
   "id": "challenging-chicken",
   "metadata": {},
   "outputs": [],
   "source": []
  },
  {
   "cell_type": "code",
   "execution_count": 371,
   "id": "foreign-edgar",
   "metadata": {},
   "outputs": [
    {
     "ename": "ValueError",
     "evalue": "Value of 'y' is not the name of a column in 'data_frame'. Expected one of ['created_at', 'id', 'text', 'replyCount', 'retweetCount', 'likeCount', 'quoteCount', 'source', 'tweet_url', 'user_id', 'user_bio', 'followers_count', 'friends_count', 'likeCount_cut'] but received: vader",
     "output_type": "error",
     "traceback": [
      "\u001b[1;31m---------------------------------------------------------------------------\u001b[0m",
      "\u001b[1;31mValueError\u001b[0m                                Traceback (most recent call last)",
      "\u001b[1;32m<ipython-input-371-8e249f30e984>\u001b[0m in \u001b[0;36m<module>\u001b[1;34m\u001b[0m\n\u001b[0;32m      7\u001b[0m \u001b[1;33m\u001b[0m\u001b[0m\n\u001b[0;32m      8\u001b[0m \u001b[0msubfig\u001b[0m \u001b[1;33m=\u001b[0m \u001b[0mmake_subplots\u001b[0m\u001b[1;33m(\u001b[0m\u001b[0mspecs\u001b[0m\u001b[1;33m=\u001b[0m\u001b[1;33m[\u001b[0m\u001b[1;33m[\u001b[0m\u001b[1;33m{\u001b[0m\u001b[1;34m\"secondary_y\"\u001b[0m\u001b[1;33m:\u001b[0m \u001b[1;32mTrue\u001b[0m\u001b[1;33m}\u001b[0m\u001b[1;33m]\u001b[0m\u001b[1;33m]\u001b[0m\u001b[1;33m)\u001b[0m\u001b[1;33m\u001b[0m\u001b[1;33m\u001b[0m\u001b[0m\n\u001b[1;32m----> 9\u001b[1;33m fig = px.scatter(df_tweets, x=\"created_at\", y = y, size= col, \n\u001b[0m\u001b[0;32m     10\u001b[0m         \u001b[0mhover_name\u001b[0m\u001b[1;33m=\u001b[0m\u001b[1;34m\"user_bio\"\u001b[0m\u001b[1;33m,\u001b[0m\u001b[1;33m\u001b[0m\u001b[1;33m\u001b[0m\u001b[0m\n\u001b[0;32m     11\u001b[0m             \u001b[0mcolor\u001b[0m\u001b[1;33m=\u001b[0m \u001b[0mcol\u001b[0m \u001b[1;33m+\u001b[0m \u001b[1;34m'_cut'\u001b[0m\u001b[1;33m,\u001b[0m\u001b[1;33m\u001b[0m\u001b[1;33m\u001b[0m\u001b[0m\n",
      "\u001b[1;32m~\\anaconda3\\envs\\snsapp\\lib\\site-packages\\plotly\\express\\_chart_types.py\u001b[0m in \u001b[0;36mscatter\u001b[1;34m(data_frame, x, y, color, symbol, size, hover_name, hover_data, custom_data, text, facet_row, facet_col, facet_col_wrap, facet_row_spacing, facet_col_spacing, error_x, error_x_minus, error_y, error_y_minus, animation_frame, animation_group, category_orders, labels, orientation, color_discrete_sequence, color_discrete_map, color_continuous_scale, range_color, color_continuous_midpoint, symbol_sequence, symbol_map, opacity, size_max, marginal_x, marginal_y, trendline, trendline_color_override, log_x, log_y, range_x, range_y, render_mode, title, template, width, height)\u001b[0m\n\u001b[0;32m     62\u001b[0m     \u001b[0mmark\u001b[0m \u001b[1;32min\u001b[0m \u001b[1;36m2\u001b[0m\u001b[0mD\u001b[0m \u001b[0mspace\u001b[0m\u001b[1;33m.\u001b[0m\u001b[1;33m\u001b[0m\u001b[1;33m\u001b[0m\u001b[0m\n\u001b[0;32m     63\u001b[0m     \"\"\"\n\u001b[1;32m---> 64\u001b[1;33m     \u001b[1;32mreturn\u001b[0m \u001b[0mmake_figure\u001b[0m\u001b[1;33m(\u001b[0m\u001b[0margs\u001b[0m\u001b[1;33m=\u001b[0m\u001b[0mlocals\u001b[0m\u001b[1;33m(\u001b[0m\u001b[1;33m)\u001b[0m\u001b[1;33m,\u001b[0m \u001b[0mconstructor\u001b[0m\u001b[1;33m=\u001b[0m\u001b[0mgo\u001b[0m\u001b[1;33m.\u001b[0m\u001b[0mScatter\u001b[0m\u001b[1;33m)\u001b[0m\u001b[1;33m\u001b[0m\u001b[1;33m\u001b[0m\u001b[0m\n\u001b[0m\u001b[0;32m     65\u001b[0m \u001b[1;33m\u001b[0m\u001b[0m\n\u001b[0;32m     66\u001b[0m \u001b[1;33m\u001b[0m\u001b[0m\n",
      "\u001b[1;32m~\\anaconda3\\envs\\snsapp\\lib\\site-packages\\plotly\\express\\_core.py\u001b[0m in \u001b[0;36mmake_figure\u001b[1;34m(args, constructor, trace_patch, layout_patch)\u001b[0m\n\u001b[0;32m   1859\u001b[0m     \u001b[0mapply_default_cascade\u001b[0m\u001b[1;33m(\u001b[0m\u001b[0margs\u001b[0m\u001b[1;33m)\u001b[0m\u001b[1;33m\u001b[0m\u001b[1;33m\u001b[0m\u001b[0m\n\u001b[0;32m   1860\u001b[0m \u001b[1;33m\u001b[0m\u001b[0m\n\u001b[1;32m-> 1861\u001b[1;33m     \u001b[0margs\u001b[0m \u001b[1;33m=\u001b[0m \u001b[0mbuild_dataframe\u001b[0m\u001b[1;33m(\u001b[0m\u001b[0margs\u001b[0m\u001b[1;33m,\u001b[0m \u001b[0mconstructor\u001b[0m\u001b[1;33m)\u001b[0m\u001b[1;33m\u001b[0m\u001b[1;33m\u001b[0m\u001b[0m\n\u001b[0m\u001b[0;32m   1862\u001b[0m     \u001b[1;32mif\u001b[0m \u001b[0mconstructor\u001b[0m \u001b[1;32min\u001b[0m \u001b[1;33m[\u001b[0m\u001b[0mgo\u001b[0m\u001b[1;33m.\u001b[0m\u001b[0mTreemap\u001b[0m\u001b[1;33m,\u001b[0m \u001b[0mgo\u001b[0m\u001b[1;33m.\u001b[0m\u001b[0mSunburst\u001b[0m\u001b[1;33m]\u001b[0m \u001b[1;32mand\u001b[0m \u001b[0margs\u001b[0m\u001b[1;33m[\u001b[0m\u001b[1;34m\"path\"\u001b[0m\u001b[1;33m]\u001b[0m \u001b[1;32mis\u001b[0m \u001b[1;32mnot\u001b[0m \u001b[1;32mNone\u001b[0m\u001b[1;33m:\u001b[0m\u001b[1;33m\u001b[0m\u001b[1;33m\u001b[0m\u001b[0m\n\u001b[0;32m   1863\u001b[0m         \u001b[0margs\u001b[0m \u001b[1;33m=\u001b[0m \u001b[0mprocess_dataframe_hierarchy\u001b[0m\u001b[1;33m(\u001b[0m\u001b[0margs\u001b[0m\u001b[1;33m)\u001b[0m\u001b[1;33m\u001b[0m\u001b[1;33m\u001b[0m\u001b[0m\n",
      "\u001b[1;32m~\\anaconda3\\envs\\snsapp\\lib\\site-packages\\plotly\\express\\_core.py\u001b[0m in \u001b[0;36mbuild_dataframe\u001b[1;34m(args, constructor)\u001b[0m\n\u001b[0;32m   1375\u001b[0m     \u001b[1;31m# now that things have been prepped, we do the systematic rewriting of `args`\u001b[0m\u001b[1;33m\u001b[0m\u001b[1;33m\u001b[0m\u001b[1;33m\u001b[0m\u001b[0m\n\u001b[0;32m   1376\u001b[0m \u001b[1;33m\u001b[0m\u001b[0m\n\u001b[1;32m-> 1377\u001b[1;33m     df_output, wide_id_vars = process_args_into_dataframe(\n\u001b[0m\u001b[0;32m   1378\u001b[0m         \u001b[0margs\u001b[0m\u001b[1;33m,\u001b[0m \u001b[0mwide_mode\u001b[0m\u001b[1;33m,\u001b[0m \u001b[0mvar_name\u001b[0m\u001b[1;33m,\u001b[0m \u001b[0mvalue_name\u001b[0m\u001b[1;33m\u001b[0m\u001b[1;33m\u001b[0m\u001b[0m\n\u001b[0;32m   1379\u001b[0m     )\n",
      "\u001b[1;32m~\\anaconda3\\envs\\snsapp\\lib\\site-packages\\plotly\\express\\_core.py\u001b[0m in \u001b[0;36mprocess_args_into_dataframe\u001b[1;34m(args, wide_mode, var_name, value_name)\u001b[0m\n\u001b[0;32m   1181\u001b[0m                         \u001b[1;32mif\u001b[0m \u001b[0margument\u001b[0m \u001b[1;33m==\u001b[0m \u001b[1;34m\"index\"\u001b[0m\u001b[1;33m:\u001b[0m\u001b[1;33m\u001b[0m\u001b[1;33m\u001b[0m\u001b[0m\n\u001b[0;32m   1182\u001b[0m                             \u001b[0merr_msg\u001b[0m \u001b[1;33m+=\u001b[0m \u001b[1;34m\"\\n To use the index, pass it in directly as `df.index`.\"\u001b[0m\u001b[1;33m\u001b[0m\u001b[1;33m\u001b[0m\u001b[0m\n\u001b[1;32m-> 1183\u001b[1;33m                         \u001b[1;32mraise\u001b[0m \u001b[0mValueError\u001b[0m\u001b[1;33m(\u001b[0m\u001b[0merr_msg\u001b[0m\u001b[1;33m)\u001b[0m\u001b[1;33m\u001b[0m\u001b[1;33m\u001b[0m\u001b[0m\n\u001b[0m\u001b[0;32m   1184\u001b[0m                 \u001b[1;32melif\u001b[0m \u001b[0mlength\u001b[0m \u001b[1;32mand\u001b[0m \u001b[0mlen\u001b[0m\u001b[1;33m(\u001b[0m\u001b[0mdf_input\u001b[0m\u001b[1;33m[\u001b[0m\u001b[0margument\u001b[0m\u001b[1;33m]\u001b[0m\u001b[1;33m)\u001b[0m \u001b[1;33m!=\u001b[0m \u001b[0mlength\u001b[0m\u001b[1;33m:\u001b[0m\u001b[1;33m\u001b[0m\u001b[1;33m\u001b[0m\u001b[0m\n\u001b[0;32m   1185\u001b[0m                     raise ValueError(\n",
      "\u001b[1;31mValueError\u001b[0m: Value of 'y' is not the name of a column in 'data_frame'. Expected one of ['created_at', 'id', 'text', 'replyCount', 'retweetCount', 'likeCount', 'quoteCount', 'source', 'tweet_url', 'user_id', 'user_bio', 'followers_count', 'friends_count', 'likeCount_cut'] but received: vader"
     ]
    }
   ],
   "source": [
    "col = \"likeCount\"\n",
    "y = 'vader'\n",
    "bins = [-1, 50, 100, 500, 1000, 2e7]\n",
    "bin_labels = [\"<50\", \"<100\", \"<500\", \"less than 1000\", \"more than 1000\"]\n",
    "tmp = pd.cut(df_tweets[col], bins = bins,  labels= bin_labels) \n",
    "df_tweets[col + \"_cut\"] = tmp\n",
    "\n",
    "subfig = make_subplots(specs=[[{\"secondary_y\": True}]])\n",
    "fig = px.scatter(df_tweets, x=\"created_at\", y = y, size= col, \n",
    "        hover_name=\"user_bio\",\n",
    "            color= col + '_cut',\n",
    "            log_x=False, size_max= 60)\n",
    "fig2 = px.line(x=fin_data.index, y=fin_data['High'])\n",
    "for tr in fig.data:\n",
    "    subfig.add_trace(tr, secondary_y = True)\n",
    "for tr in fig2.data:\n",
    "    subfig.add_trace(tr, secondary_y = False)\n",
    "subfig.show()"
   ]
  },
  {
   "cell_type": "code",
   "execution_count": null,
   "id": "fifty-cigarette",
   "metadata": {},
   "outputs": [],
   "source": []
  },
  {
   "cell_type": "code",
   "execution_count": null,
   "id": "engaging-armenia",
   "metadata": {},
   "outputs": [],
   "source": []
  }
 ],
 "metadata": {
  "kernelspec": {
   "display_name": "snsapp",
   "language": "python",
   "name": "snsapp"
  },
  "language_info": {
   "codemirror_mode": {
    "name": "ipython",
    "version": 3
   },
   "file_extension": ".py",
   "mimetype": "text/x-python",
   "name": "python",
   "nbconvert_exporter": "python",
   "pygments_lexer": "ipython3",
   "version": "3.8.8"
  }
 },
 "nbformat": 4,
 "nbformat_minor": 5
}
