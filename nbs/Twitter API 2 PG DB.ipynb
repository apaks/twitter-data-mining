{
 "cells": [
  {
   "cell_type": "markdown",
   "metadata": {},
   "source": [
    "# Connect to API"
   ]
  },
  {
   "cell_type": "markdown",
   "metadata": {},
   "source": [
    "from https://www.analyticsvidhya.com/blog/2020/08/analysing-streaming-tweets-with-python-and-postgresql/"
   ]
  },
  {
   "cell_type": "code",
   "execution_count": null,
   "metadata": {},
   "outputs": [],
   "source": [
    "import pandas as pd\n",
    "import numpy as np\n",
    "import matplotlib.pyplot as plt\n",
    "import tweepy\n",
    "import json \n",
    "import datetime\n",
    "import time\n",
    "import seaborn as sns\n",
    "\n",
    "import psycopg2\n",
    "%load_ext autoreload\n",
    "%autoreload 2"
   ]
  },
  {
   "cell_type": "code",
   "execution_count": null,
   "metadata": {},
   "outputs": [],
   "source": [
    "from auth_pg import *\n",
    "from auth_ap import *"
   ]
  },
  {
   "cell_type": "code",
   "execution_count": null,
   "metadata": {},
   "outputs": [],
   "source": [
    "# Creating the authentication object\n",
    "auth = tweepy.OAuthHandler(consumer_key, consumer_secret)\n",
    "# Setting your access token and secret\n",
    "auth.set_access_token(access_token, access_token_secret)\n",
    "# Creating the API object while passing in auth information\n",
    "api = tweepy.API(auth) "
   ]
  },
  {
   "cell_type": "code",
   "execution_count": null,
   "metadata": {},
   "outputs": [],
   "source": [
    "# Using the API object to get tweets from your timeline, and storing it in a variable called public_tweets\n",
    "public_tweets = api.home_timeline()\n",
    "# foreach through all tweets pulled\n",
    "for tweet in public_tweets:\n",
    "   # printing the text stored inside the tweet object\n",
    "   print (tweet.text)"
   ]
  },
  {
   "cell_type": "code",
   "execution_count": null,
   "metadata": {},
   "outputs": [],
   "source": [
    "class MyStreamListener(tweepy.StreamListener):\n",
    "    \n",
    "    def __init__(self, time_limit= 30):\n",
    "        self.start_time = time.time()\n",
    "        self.limit = time_limit\n",
    "        super(MyStreamListener, self).__init__()\n",
    "    \n",
    "    def on_connect(self):\n",
    "        print(\"Connected to Twitter API.\")\n",
    "        \n",
    "    def on_status(self, status):\n",
    "        \n",
    "        # User info\n",
    "        user_id = status.user.id\n",
    "        username = status.user.name\n",
    "        followers_count = status.user.followers_count\n",
    "        friends_count = status.user.friends_count\n",
    "        \n",
    "        user_info = (user_id, username, followers_count, friends_count)\n",
    "        \n",
    "        # tweet info\n",
    "        tweet_id = status.id\n",
    "        created_at = status.created_at\n",
    "        favorite_count = status.favorite_count\n",
    "        source_device = status.source\n",
    "         \n",
    "        # Retweet count\n",
    "        retweet_count = status.retweet_count\n",
    "        # Language\n",
    "        lang = status.lang\n",
    "        \n",
    "        # Tweet\n",
    "        if status.truncated == True:\n",
    "            tweet = status.extended_tweet['full_text']\n",
    "            hashtags = status.extended_tweet['entities']['hashtags']\n",
    "        else:\n",
    "            tweet = status.text\n",
    "            hashtags = status.entities['hashtags']\n",
    "        \n",
    "        tweet_info = (tweet_id, tweet, retweet_count, favorite_count, source_device, created_at)\n",
    "        # Read hastags\n",
    "        hashtags = read_hashtags(hashtags)   \n",
    "\n",
    "        # If tweet is not a retweet and tweet is in English\n",
    "        if not hasattr(status, \"retweeted_status\") and lang==\"en\":\n",
    "            # Connect to database\n",
    "            dbConnect(user_info, tweet_info, hashtags)\n",
    "            \n",
    "        if (time.time() - self.start_time) > self.limit:\n",
    "            \n",
    "            print(time.time(), self.start_time, self.limit)\n",
    "            return False\n",
    "            \n",
    "    def on_error(self, status_code):\n",
    "        if status_code == 420:\n",
    "            # Returning False in on_data disconnects the stream\n",
    "            return False"
   ]
  },
  {
   "cell_type": "code",
   "execution_count": null,
   "metadata": {},
   "outputs": [],
   "source": [
    "# Insert Tweet data into database\n",
    "def dbConnect(user_info, tweet_info, hashtags):\n",
    "    user_id, username, followers_count, friends_count = user_info\n",
    "    tweet_id, tweet, retweet_count, favorite_count, source_device, created_at = tweet_info\n",
    "    \n",
    "    database = 'twitterDB'\n",
    "    # Connection to database server\n",
    "    conn = psycopg2.connect(host= host,\n",
    "                        database= database,\n",
    "                        port= port,\n",
    "                        user= user,\n",
    "                        password= password)\n",
    "    \n",
    "    cur = conn.cursor()\n",
    "\n",
    "    # insert user information\n",
    "    command = '''INSERT INTO TwitterUser (user_id, user_name, followers_count, friends_count) \n",
    "                VALUES (%s,%s,%s,%s) ON CONFLICT\n",
    "                 (User_Id) DO NOTHING;'''\n",
    "    cur.execute(command,(user_id, username, followers_count, friends_count))\n",
    "\n",
    "    # insert tweet information\n",
    "    command = '''INSERT INTO TwitterTweet (tweet_id, user_id, tweet, retweet_count, favourite_count, source_device, created_at) \n",
    "                VALUES (%s,%s,%s,%s,%s,%s,%s);'''\n",
    "    cur.execute(command,(tweet_id, user_id, tweet, retweet_count, favorite_count, source_device, created_at))\n",
    "    \n",
    "    # insert entity information\n",
    "    for i in range(len(hashtags)):\n",
    "        hashtag = hashtags[i]\n",
    "        command = '''INSERT INTO TwitterEntity (tweet_id, hashtag) VALUES (%s,%s);'''\n",
    "        cur.execute(command,(tweet_id, hashtag))\n",
    "    \n",
    "    # Commit changes\n",
    "    conn.commit()\n",
    "    \n",
    "    # Disconnect\n",
    "    cur.close()\n",
    "    conn.close()"
   ]
  },
  {
   "cell_type": "code",
   "execution_count": null,
   "metadata": {},
   "outputs": [],
   "source": [
    "# Extract hashtags\n",
    "def read_hashtags(tag_list):\n",
    "    hashtags = []\n",
    "    for tag in tag_list:\n",
    "        hashtags.append(tag['text'])\n",
    "    return hashtags"
   ]
  },
  {
   "cell_type": "code",
   "execution_count": null,
   "metadata": {},
   "outputs": [],
   "source": [
    "# Connecting to the Database\n",
    "def DbConnect(query):\n",
    "    \n",
    "    conn = psycopg2.connect(host= host,\n",
    "                        database= database,\n",
    "                        port= port,\n",
    "                        user= user,\n",
    "                        password= password)\n",
    "    curr = conn.cursor()\n",
    "    \n",
    "    curr.execute(query)\n",
    "    \n",
    "    rows = curr.fetchall()\n",
    "    curr.close()\n",
    "    conn.close()\n",
    "    return rows"
   ]
  },
  {
   "cell_type": "markdown",
   "metadata": {},
   "source": [
    "## Create table"
   ]
  },
  {
   "cell_type": "code",
   "execution_count": null,
   "metadata": {},
   "outputs": [],
   "source": [
    "# Table creation\n",
    "commands = (# Table 1\n",
    "            '''Create Table TwitterUser(User_Id BIGINT PRIMARY KEY, \n",
    "                                        User_Name TEXT,\n",
    "                                        Description TEXT,\n",
    "                                        Followers_Count INT,\n",
    "                                        Friends_Count INT\n",
    "                                        );''',\n",
    "            # Table 2\n",
    "            '''Create Table TwitterTweet(Tweet_Id BIGINT PRIMARY KEY,\n",
    "                                         User_Id BIGINT,\n",
    "                                         Tweet TEXT,\n",
    "                                         Retweet_Count INT,\n",
    "                                         Favourite_Count INT,\n",
    "                                         Source_Device TEXT,\n",
    "                                         Created_At TEXT,\n",
    "                                         CONSTRAINT fk_user\n",
    "                                             FOREIGN KEY(User_Id)\n",
    "                                                 REFERENCES TwitterUser(User_Id));''',\n",
    "            # Table 3\n",
    "            '''Create Table TwitterEntity(Id SERIAL PRIMARY KEY,\n",
    "                                         Tweet_Id BIGINT,\n",
    "                                         Hashtag TEXT,\n",
    "                                         CONSTRAINT fk_user\n",
    "                                             FOREIGN KEY(Tweet_Id)\n",
    "                                                 REFERENCES TwitterTweet(Tweet_Id));''')"
   ]
  },
  {
   "cell_type": "code",
   "execution_count": null,
   "metadata": {},
   "outputs": [],
   "source": [
    "# Connection to database server\n",
    "database = 'twitterDB'\n",
    "conn = psycopg2.connect(host= host,\n",
    "                        database= database,\n",
    "                        port= port,\n",
    "                        user= user,\n",
    "                        password= password)"
   ]
  },
  {
   "cell_type": "code",
   "execution_count": null,
   "metadata": {},
   "outputs": [],
   "source": [
    "# Create cursor to execute SQL commands\n",
    "cur = conn.cursor()\n",
    "\n",
    "# Execute SQL commands\n",
    "for command in commands:\n",
    "    # Create tables\n",
    "    cur.execute(command)\n",
    "\n",
    "# Close communication with server\n",
    "conn.commit()\n",
    "cur.close()\n",
    "conn.close()"
   ]
  },
  {
   "cell_type": "markdown",
   "metadata": {},
   "source": [
    "## Obtain tweets"
   ]
  },
  {
   "cell_type": "code",
   "execution_count": null,
   "metadata": {},
   "outputs": [],
   "source": [
    "# Streaming tweets\n",
    "myStreamListener = MyStreamListener()\n",
    "myStream = tweepy.Stream(auth=api.auth, listener=myStreamListener,\n",
    "                        tweet_mode=\"extended\")\n",
    "\n",
    "myStream.filter(track=['#covid'])"
   ]
  },
  {
   "cell_type": "code",
   "execution_count": null,
   "metadata": {},
   "outputs": [],
   "source": [
    "# Create \n",
    "data_tweet = DbConnect(\"SELECT User_Id, Tweet_Id, Tweet FROM TwitterTweet;\")\n",
    "\n",
    "df_tweet = pd.DataFrame(columns=['User_Id','Tweet_Id','Clean_Tweet'])\n",
    "\n",
    "for data in data_tweet:\n",
    "    index = len(df_tweet)\n",
    "    df_tweet.loc[index,'User_Id'] = data[0]\n",
    "    df_tweet.loc[index,'Tweet_Id'] = data[1]\n",
    "    df_tweet.loc[index,'Clean_Tweet'] = data[2]\n",
    "    \n",
    "df_tweet.head()"
   ]
  },
  {
   "cell_type": "code",
   "execution_count": null,
   "metadata": {},
   "outputs": [],
   "source": [
    "data_tweet = DbConnect(\"SELECT * FROM TwitterUser;\")"
   ]
  },
  {
   "cell_type": "code",
   "execution_count": null,
   "metadata": {},
   "outputs": [],
   "source": [
    "data_tweet"
   ]
  },
  {
   "cell_type": "code",
   "execution_count": null,
   "metadata": {},
   "outputs": [],
   "source": [
    "conn.close()"
   ]
  },
  {
   "cell_type": "code",
   "execution_count": null,
   "metadata": {},
   "outputs": [],
   "source": []
  },
  {
   "cell_type": "code",
   "execution_count": null,
   "metadata": {},
   "outputs": [],
   "source": []
  },
  {
   "cell_type": "code",
   "execution_count": null,
   "metadata": {},
   "outputs": [],
   "source": []
  }
 ],
 "metadata": {
  "kernelspec": {
   "display_name": "Python 3",
   "language": "python",
   "name": "python3"
  },
  "language_info": {
   "codemirror_mode": {
    "name": "ipython",
    "version": 3
   },
   "file_extension": ".py",
   "mimetype": "text/x-python",
   "name": "python",
   "nbconvert_exporter": "python",
   "pygments_lexer": "ipython3",
   "version": "3.6.8"
  }
 },
 "nbformat": 4,
 "nbformat_minor": 2
}
